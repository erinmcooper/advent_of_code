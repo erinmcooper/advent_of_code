{
 "cells": [
  {
   "cell_type": "code",
   "execution_count": 17,
   "id": "489ddaa6-7b4f-43e8-940e-9c68427e5b02",
   "metadata": {},
   "outputs": [],
   "source": [
    "import pandas as pd\n",
    "import numpy as np"
   ]
  },
  {
   "cell_type": "markdown",
   "id": "1ede5a60-7944-48c5-a719-cc0af275f1c9",
   "metadata": {},
   "source": [
    "--- Day 2: Dive! ---\n",
    "\n",
    "Now, you need to figure out how to pilot this thing.\n",
    "\n",
    "It seems like the submarine can take a series of commands like forward 1, down 2, or up 3:\n",
    "\n",
    "forward X increases the horizontal position by X units.\n",
    "down X increases the depth by X units.\n",
    "up X decreases the depth by X units.\n",
    "Note that since you're on a submarine, down and up affect your depth, and so they have the opposite result of what you might expect.\n",
    "\n",
    "The submarine seems to already have a planned course (your puzzle input). You should probably figure out where it's going. For example:\n",
    "\n",
    "forward 5\n",
    "down 5\n",
    "forward 8\n",
    "up 3\n",
    "down 8\n",
    "forward 2\n",
    "Your horizontal position and depth both start at 0. The steps above would then modify them as follows:\n",
    "\n",
    "forward 5 adds 5 to your horizontal position, a total of 5.\n",
    "down 5 adds 5 to your depth, resulting in a value of 5.\n",
    "forward 8 adds 8 to your horizontal position, a total of 13.\n",
    "up 3 decreases your depth by 3, resulting in a value of 2.\n",
    "down 8 adds 8 to your depth, resulting in a value of 10.\n",
    "forward 2 adds 2 to your horizontal position, a total of 15.\n",
    "After following these instructions, you would have a horizontal position of 15 and a depth of 10. (Multiplying these together produces 150.)\n",
    "\n",
    "Calculate the horizontal position and depth you would have after following the planned course. What do you get if you multiply your final horizontal position by your final depth?"
   ]
  },
  {
   "cell_type": "code",
   "execution_count": 2,
   "id": "b12b0054-3065-4498-9d9c-74a94e7641bb",
   "metadata": {},
   "outputs": [],
   "source": [
    "df = pd.read_csv('input.txt', header=None, sep=\"\\s+\", names=[\"direction\",\"magnitude\"])"
   ]
  },
  {
   "cell_type": "code",
   "execution_count": 3,
   "id": "063a4951-ed12-474d-97ce-d1e270fd557f",
   "metadata": {},
   "outputs": [
    {
     "data": {
      "text/html": [
       "<div>\n",
       "<style scoped>\n",
       "    .dataframe tbody tr th:only-of-type {\n",
       "        vertical-align: middle;\n",
       "    }\n",
       "\n",
       "    .dataframe tbody tr th {\n",
       "        vertical-align: top;\n",
       "    }\n",
       "\n",
       "    .dataframe thead th {\n",
       "        text-align: right;\n",
       "    }\n",
       "</style>\n",
       "<table border=\"1\" class=\"dataframe\">\n",
       "  <thead>\n",
       "    <tr style=\"text-align: right;\">\n",
       "      <th></th>\n",
       "      <th>direction</th>\n",
       "      <th>magnitude</th>\n",
       "    </tr>\n",
       "  </thead>\n",
       "  <tbody>\n",
       "    <tr>\n",
       "      <th>0</th>\n",
       "      <td>forward</td>\n",
       "      <td>8</td>\n",
       "    </tr>\n",
       "    <tr>\n",
       "      <th>1</th>\n",
       "      <td>down</td>\n",
       "      <td>9</td>\n",
       "    </tr>\n",
       "    <tr>\n",
       "      <th>2</th>\n",
       "      <td>up</td>\n",
       "      <td>1</td>\n",
       "    </tr>\n",
       "    <tr>\n",
       "      <th>3</th>\n",
       "      <td>forward</td>\n",
       "      <td>2</td>\n",
       "    </tr>\n",
       "    <tr>\n",
       "      <th>4</th>\n",
       "      <td>down</td>\n",
       "      <td>6</td>\n",
       "    </tr>\n",
       "  </tbody>\n",
       "</table>\n",
       "</div>"
      ],
      "text/plain": [
       "  direction  magnitude\n",
       "0   forward          8\n",
       "1      down          9\n",
       "2        up          1\n",
       "3   forward          2\n",
       "4      down          6"
      ]
     },
     "execution_count": 3,
     "metadata": {},
     "output_type": "execute_result"
    }
   ],
   "source": [
    "df.head()"
   ]
  },
  {
   "cell_type": "code",
   "execution_count": 5,
   "id": "00ab7315-3494-47fe-82ee-b5d53913d5db",
   "metadata": {},
   "outputs": [],
   "source": [
    "translate_directions = {\"forward\": 1, \"down\": 1, \"up\": -1}"
   ]
  },
  {
   "cell_type": "code",
   "execution_count": 4,
   "id": "b5188cd9-eb84-4be8-93a2-05ffaa43d6e2",
   "metadata": {},
   "outputs": [
    {
     "data": {
      "text/plain": [
       "{'down', 'forward', 'up'}"
      ]
     },
     "execution_count": 4,
     "metadata": {},
     "output_type": "execute_result"
    }
   ],
   "source": [
    "set(df.direction)"
   ]
  },
  {
   "cell_type": "code",
   "execution_count": 6,
   "id": "15e15bc5-bdca-4bac-a904-ecfbb7c5f4f0",
   "metadata": {},
   "outputs": [],
   "source": [
    "df[\"vector\"] = df.apply(lambda x: translate_directions[x[\"direction\"]]*x[\"magnitude\"], axis=1)"
   ]
  },
  {
   "cell_type": "code",
   "execution_count": 7,
   "id": "7e80a56e-62ba-4fc3-8687-eb7903243445",
   "metadata": {},
   "outputs": [
    {
     "data": {
      "text/html": [
       "<div>\n",
       "<style scoped>\n",
       "    .dataframe tbody tr th:only-of-type {\n",
       "        vertical-align: middle;\n",
       "    }\n",
       "\n",
       "    .dataframe tbody tr th {\n",
       "        vertical-align: top;\n",
       "    }\n",
       "\n",
       "    .dataframe thead th {\n",
       "        text-align: right;\n",
       "    }\n",
       "</style>\n",
       "<table border=\"1\" class=\"dataframe\">\n",
       "  <thead>\n",
       "    <tr style=\"text-align: right;\">\n",
       "      <th></th>\n",
       "      <th>direction</th>\n",
       "      <th>magnitude</th>\n",
       "      <th>vector</th>\n",
       "    </tr>\n",
       "  </thead>\n",
       "  <tbody>\n",
       "    <tr>\n",
       "      <th>0</th>\n",
       "      <td>forward</td>\n",
       "      <td>8</td>\n",
       "      <td>8</td>\n",
       "    </tr>\n",
       "    <tr>\n",
       "      <th>1</th>\n",
       "      <td>down</td>\n",
       "      <td>9</td>\n",
       "      <td>9</td>\n",
       "    </tr>\n",
       "    <tr>\n",
       "      <th>2</th>\n",
       "      <td>up</td>\n",
       "      <td>1</td>\n",
       "      <td>-1</td>\n",
       "    </tr>\n",
       "    <tr>\n",
       "      <th>3</th>\n",
       "      <td>forward</td>\n",
       "      <td>2</td>\n",
       "      <td>2</td>\n",
       "    </tr>\n",
       "    <tr>\n",
       "      <th>4</th>\n",
       "      <td>down</td>\n",
       "      <td>6</td>\n",
       "      <td>6</td>\n",
       "    </tr>\n",
       "  </tbody>\n",
       "</table>\n",
       "</div>"
      ],
      "text/plain": [
       "  direction  magnitude  vector\n",
       "0   forward          8       8\n",
       "1      down          9       9\n",
       "2        up          1      -1\n",
       "3   forward          2       2\n",
       "4      down          6       6"
      ]
     },
     "execution_count": 7,
     "metadata": {},
     "output_type": "execute_result"
    }
   ],
   "source": [
    "df.head()"
   ]
  },
  {
   "cell_type": "code",
   "execution_count": 8,
   "id": "349ed35e-7cea-427d-9a4e-b87461508fd1",
   "metadata": {},
   "outputs": [
    {
     "data": {
      "text/plain": [
       "1911"
      ]
     },
     "execution_count": 8,
     "metadata": {},
     "output_type": "execute_result"
    }
   ],
   "source": [
    "df[df.direction==\"forward\"][\"vector\"].sum()"
   ]
  },
  {
   "cell_type": "code",
   "execution_count": 9,
   "id": "f7da731f-5ba7-496b-8798-329e737416d5",
   "metadata": {},
   "outputs": [
    {
     "data": {
      "text/plain": [
       "779"
      ]
     },
     "execution_count": 9,
     "metadata": {},
     "output_type": "execute_result"
    }
   ],
   "source": [
    "df[df.direction!=\"forward\"][\"vector\"].sum()"
   ]
  },
  {
   "cell_type": "code",
   "execution_count": 10,
   "id": "afd468e4-3f7d-4fe8-8e37-0bd1d710b593",
   "metadata": {},
   "outputs": [
    {
     "data": {
      "text/plain": [
       "1488669"
      ]
     },
     "execution_count": 10,
     "metadata": {},
     "output_type": "execute_result"
    }
   ],
   "source": [
    "df[df.direction==\"forward\"][\"vector\"].sum()*df[df.direction!=\"forward\"][\"vector\"].sum()"
   ]
  },
  {
   "cell_type": "code",
   "execution_count": 11,
   "id": "cd1f872c-85a1-4f6e-b851-c38a60964961",
   "metadata": {},
   "outputs": [
    {
     "data": {
      "text/plain": [
       "1488669"
      ]
     },
     "execution_count": 11,
     "metadata": {},
     "output_type": "execute_result"
    }
   ],
   "source": [
    "1911*779"
   ]
  },
  {
   "cell_type": "markdown",
   "id": "904f41f7-06f6-4d38-b2f3-66225a0bfe53",
   "metadata": {},
   "source": [
    "--- Part Two ---\n",
    "\n",
    "Based on your calculations, the planned course doesn't seem to make any sense. You find the submarine manual and discover that the process is actually slightly more complicated.\n",
    "\n",
    "In addition to horizontal position and depth, you'll also need to track a third value, aim, which also starts at 0. The commands also mean something entirely different than you first thought:\n",
    "\n",
    "down X increases your aim by X units.\n",
    "up X decreases your aim by X units.\n",
    "forward X does two things:\n",
    "It increases your horizontal position by X units.\n",
    "It increases your depth by your aim multiplied by X.\n",
    "Again note that since you're on a submarine, down and up do the opposite of what you might expect: \"down\" means aiming in the positive direction.\n",
    "\n",
    "Now, the above example does something different:\n",
    "\n",
    "forward 5 adds 5 to your horizontal position, a total of 5. Because your aim is 0, your depth does not change.\n",
    "down 5 adds 5 to your aim, resulting in a value of 5.\n",
    "forward 8 adds 8 to your horizontal position, a total of 13. Because your aim is 5, your depth increases by 8*5=40.\n",
    "up 3 decreases your aim by 3, resulting in a value of 2.\n",
    "down 8 adds 8 to your aim, resulting in a value of 10.\n",
    "forward 2 adds 2 to your horizontal position, a total of 15. Because your aim is 10, your depth increases by 2*10=20 to a total of 60.\n",
    "After following these new instructions, you would have a horizontal position of 15 and a depth of 60. (Multiplying these produces 900.)\n",
    "\n",
    "Using this new interpretation of the commands, calculate the horizontal position and depth you would have after following the planned course. What do you get if you multiply your final horizontal position by your final depth?"
   ]
  },
  {
   "cell_type": "code",
   "execution_count": 14,
   "id": "d769d780-a1c6-4711-8c26-f590838fdd5b",
   "metadata": {},
   "outputs": [
    {
     "data": {
      "text/plain": [
       "0         8\n",
       "3        10\n",
       "5        16\n",
       "9        19\n",
       "10       27\n",
       "       ... \n",
       "991    1896\n",
       "992    1898\n",
       "996    1902\n",
       "998    1909\n",
       "999    1911\n",
       "Name: vector, Length: 400, dtype: int64"
      ]
     },
     "execution_count": 14,
     "metadata": {},
     "output_type": "execute_result"
    }
   ],
   "source": [
    "df.loc[df.direction==\"forward\"][\"vector\"].cumsum()"
   ]
  },
  {
   "cell_type": "code",
   "execution_count": 15,
   "id": "85b5b859-6aff-4285-8c90-8b2c09fc1f90",
   "metadata": {},
   "outputs": [
    {
     "data": {
      "text/plain": [
       "0      8\n",
       "3      2\n",
       "5      6\n",
       "9      3\n",
       "10     8\n",
       "      ..\n",
       "991    9\n",
       "992    2\n",
       "996    4\n",
       "998    7\n",
       "999    2\n",
       "Name: vector, Length: 400, dtype: int64"
      ]
     },
     "execution_count": 15,
     "metadata": {},
     "output_type": "execute_result"
    }
   ],
   "source": [
    "df.loc[df.direction==\"forward\"][\"vector\"]"
   ]
  },
  {
   "cell_type": "code",
   "execution_count": 18,
   "id": "ac930104-083a-4d9c-ba71-21d7f164e8c9",
   "metadata": {},
   "outputs": [],
   "source": [
    "df[\"horizontal\"] = np.zeros_like(len(df))"
   ]
  },
  {
   "cell_type": "code",
   "execution_count": 19,
   "id": "a56aa294-cc1d-4bcd-87f7-5fca7babbf7f",
   "metadata": {},
   "outputs": [],
   "source": [
    "df.loc[df.direction==\"forward\", \"horizontal\"] = df.loc[df.direction==\"forward\", \"vector\"].cumsum()"
   ]
  },
  {
   "cell_type": "code",
   "execution_count": 20,
   "id": "8a69488f-f7d1-452d-b0f0-be1c5dadf344",
   "metadata": {},
   "outputs": [
    {
     "data": {
      "text/html": [
       "<div>\n",
       "<style scoped>\n",
       "    .dataframe tbody tr th:only-of-type {\n",
       "        vertical-align: middle;\n",
       "    }\n",
       "\n",
       "    .dataframe tbody tr th {\n",
       "        vertical-align: top;\n",
       "    }\n",
       "\n",
       "    .dataframe thead th {\n",
       "        text-align: right;\n",
       "    }\n",
       "</style>\n",
       "<table border=\"1\" class=\"dataframe\">\n",
       "  <thead>\n",
       "    <tr style=\"text-align: right;\">\n",
       "      <th></th>\n",
       "      <th>direction</th>\n",
       "      <th>magnitude</th>\n",
       "      <th>vector</th>\n",
       "      <th>horizontal</th>\n",
       "    </tr>\n",
       "  </thead>\n",
       "  <tbody>\n",
       "    <tr>\n",
       "      <th>0</th>\n",
       "      <td>forward</td>\n",
       "      <td>8</td>\n",
       "      <td>8</td>\n",
       "      <td>8</td>\n",
       "    </tr>\n",
       "    <tr>\n",
       "      <th>1</th>\n",
       "      <td>down</td>\n",
       "      <td>9</td>\n",
       "      <td>9</td>\n",
       "      <td>0</td>\n",
       "    </tr>\n",
       "    <tr>\n",
       "      <th>2</th>\n",
       "      <td>up</td>\n",
       "      <td>1</td>\n",
       "      <td>-1</td>\n",
       "      <td>0</td>\n",
       "    </tr>\n",
       "    <tr>\n",
       "      <th>3</th>\n",
       "      <td>forward</td>\n",
       "      <td>2</td>\n",
       "      <td>2</td>\n",
       "      <td>10</td>\n",
       "    </tr>\n",
       "    <tr>\n",
       "      <th>4</th>\n",
       "      <td>down</td>\n",
       "      <td>6</td>\n",
       "      <td>6</td>\n",
       "      <td>0</td>\n",
       "    </tr>\n",
       "  </tbody>\n",
       "</table>\n",
       "</div>"
      ],
      "text/plain": [
       "  direction  magnitude  vector  horizontal\n",
       "0   forward          8       8           8\n",
       "1      down          9       9           0\n",
       "2        up          1      -1           0\n",
       "3   forward          2       2          10\n",
       "4      down          6       6           0"
      ]
     },
     "execution_count": 20,
     "metadata": {},
     "output_type": "execute_result"
    }
   ],
   "source": [
    "df.head()"
   ]
  },
  {
   "cell_type": "code",
   "execution_count": 23,
   "id": "ea638a81-99e7-4ab1-b5d8-255ddd19e624",
   "metadata": {},
   "outputs": [],
   "source": [
    "df[\"horizontal\"] = df.horizontal.replace(to_replace=0, method=\"ffill\")"
   ]
  },
  {
   "cell_type": "code",
   "execution_count": 24,
   "id": "d57eba25-04e4-4ad6-bf70-d8c0436e6f63",
   "metadata": {},
   "outputs": [
    {
     "data": {
      "text/html": [
       "<div>\n",
       "<style scoped>\n",
       "    .dataframe tbody tr th:only-of-type {\n",
       "        vertical-align: middle;\n",
       "    }\n",
       "\n",
       "    .dataframe tbody tr th {\n",
       "        vertical-align: top;\n",
       "    }\n",
       "\n",
       "    .dataframe thead th {\n",
       "        text-align: right;\n",
       "    }\n",
       "</style>\n",
       "<table border=\"1\" class=\"dataframe\">\n",
       "  <thead>\n",
       "    <tr style=\"text-align: right;\">\n",
       "      <th></th>\n",
       "      <th>direction</th>\n",
       "      <th>magnitude</th>\n",
       "      <th>vector</th>\n",
       "      <th>horizontal</th>\n",
       "    </tr>\n",
       "  </thead>\n",
       "  <tbody>\n",
       "    <tr>\n",
       "      <th>0</th>\n",
       "      <td>forward</td>\n",
       "      <td>8</td>\n",
       "      <td>8</td>\n",
       "      <td>8</td>\n",
       "    </tr>\n",
       "    <tr>\n",
       "      <th>1</th>\n",
       "      <td>down</td>\n",
       "      <td>9</td>\n",
       "      <td>9</td>\n",
       "      <td>8</td>\n",
       "    </tr>\n",
       "    <tr>\n",
       "      <th>2</th>\n",
       "      <td>up</td>\n",
       "      <td>1</td>\n",
       "      <td>-1</td>\n",
       "      <td>8</td>\n",
       "    </tr>\n",
       "    <tr>\n",
       "      <th>3</th>\n",
       "      <td>forward</td>\n",
       "      <td>2</td>\n",
       "      <td>2</td>\n",
       "      <td>10</td>\n",
       "    </tr>\n",
       "    <tr>\n",
       "      <th>4</th>\n",
       "      <td>down</td>\n",
       "      <td>6</td>\n",
       "      <td>6</td>\n",
       "      <td>10</td>\n",
       "    </tr>\n",
       "  </tbody>\n",
       "</table>\n",
       "</div>"
      ],
      "text/plain": [
       "  direction  magnitude  vector  horizontal\n",
       "0   forward          8       8           8\n",
       "1      down          9       9           8\n",
       "2        up          1      -1           8\n",
       "3   forward          2       2          10\n",
       "4      down          6       6          10"
      ]
     },
     "execution_count": 24,
     "metadata": {},
     "output_type": "execute_result"
    }
   ],
   "source": [
    "df.head()"
   ]
  },
  {
   "cell_type": "code",
   "execution_count": 25,
   "id": "1d1add1f-d1f9-4278-9fa8-8ea49f6283a9",
   "metadata": {},
   "outputs": [],
   "source": [
    "df[\"depth\"] = np.zeros_like(len(df))"
   ]
  },
  {
   "cell_type": "code",
   "execution_count": 26,
   "id": "67e39b1c-ef64-4c26-b7f3-1761a2b4678a",
   "metadata": {},
   "outputs": [],
   "source": [
    "df.loc[df.direction!=\"forward\", \"depth\"] = df.loc[df.direction!=\"forward\", \"vector\"].cumsum()"
   ]
  },
  {
   "cell_type": "code",
   "execution_count": 27,
   "id": "3c81eb46-bfe5-44e9-9ffd-42e63bf7d9c9",
   "metadata": {},
   "outputs": [
    {
     "data": {
      "text/html": [
       "<div>\n",
       "<style scoped>\n",
       "    .dataframe tbody tr th:only-of-type {\n",
       "        vertical-align: middle;\n",
       "    }\n",
       "\n",
       "    .dataframe tbody tr th {\n",
       "        vertical-align: top;\n",
       "    }\n",
       "\n",
       "    .dataframe thead th {\n",
       "        text-align: right;\n",
       "    }\n",
       "</style>\n",
       "<table border=\"1\" class=\"dataframe\">\n",
       "  <thead>\n",
       "    <tr style=\"text-align: right;\">\n",
       "      <th></th>\n",
       "      <th>direction</th>\n",
       "      <th>magnitude</th>\n",
       "      <th>vector</th>\n",
       "      <th>horizontal</th>\n",
       "      <th>depth</th>\n",
       "    </tr>\n",
       "  </thead>\n",
       "  <tbody>\n",
       "    <tr>\n",
       "      <th>0</th>\n",
       "      <td>forward</td>\n",
       "      <td>8</td>\n",
       "      <td>8</td>\n",
       "      <td>8</td>\n",
       "      <td>0</td>\n",
       "    </tr>\n",
       "    <tr>\n",
       "      <th>1</th>\n",
       "      <td>down</td>\n",
       "      <td>9</td>\n",
       "      <td>9</td>\n",
       "      <td>8</td>\n",
       "      <td>9</td>\n",
       "    </tr>\n",
       "    <tr>\n",
       "      <th>2</th>\n",
       "      <td>up</td>\n",
       "      <td>1</td>\n",
       "      <td>-1</td>\n",
       "      <td>8</td>\n",
       "      <td>8</td>\n",
       "    </tr>\n",
       "    <tr>\n",
       "      <th>3</th>\n",
       "      <td>forward</td>\n",
       "      <td>2</td>\n",
       "      <td>2</td>\n",
       "      <td>10</td>\n",
       "      <td>0</td>\n",
       "    </tr>\n",
       "    <tr>\n",
       "      <th>4</th>\n",
       "      <td>down</td>\n",
       "      <td>6</td>\n",
       "      <td>6</td>\n",
       "      <td>10</td>\n",
       "      <td>14</td>\n",
       "    </tr>\n",
       "  </tbody>\n",
       "</table>\n",
       "</div>"
      ],
      "text/plain": [
       "  direction  magnitude  vector  horizontal  depth\n",
       "0   forward          8       8           8      0\n",
       "1      down          9       9           8      9\n",
       "2        up          1      -1           8      8\n",
       "3   forward          2       2          10      0\n",
       "4      down          6       6          10     14"
      ]
     },
     "execution_count": 27,
     "metadata": {},
     "output_type": "execute_result"
    }
   ],
   "source": [
    "df.head()"
   ]
  },
  {
   "cell_type": "code",
   "execution_count": 29,
   "id": "7bee2e75-ba5e-49ad-a7f2-4095cd462df7",
   "metadata": {},
   "outputs": [],
   "source": [
    "df[\"depth\"] = df.depth.replace(to_replace=0, method=\"ffill\")"
   ]
  },
  {
   "cell_type": "code",
   "execution_count": 30,
   "id": "e35e6545-08c9-408f-8e90-b7affa2d64d2",
   "metadata": {},
   "outputs": [
    {
     "data": {
      "text/html": [
       "<div>\n",
       "<style scoped>\n",
       "    .dataframe tbody tr th:only-of-type {\n",
       "        vertical-align: middle;\n",
       "    }\n",
       "\n",
       "    .dataframe tbody tr th {\n",
       "        vertical-align: top;\n",
       "    }\n",
       "\n",
       "    .dataframe thead th {\n",
       "        text-align: right;\n",
       "    }\n",
       "</style>\n",
       "<table border=\"1\" class=\"dataframe\">\n",
       "  <thead>\n",
       "    <tr style=\"text-align: right;\">\n",
       "      <th></th>\n",
       "      <th>direction</th>\n",
       "      <th>magnitude</th>\n",
       "      <th>vector</th>\n",
       "      <th>horizontal</th>\n",
       "      <th>depth</th>\n",
       "    </tr>\n",
       "  </thead>\n",
       "  <tbody>\n",
       "    <tr>\n",
       "      <th>0</th>\n",
       "      <td>forward</td>\n",
       "      <td>8</td>\n",
       "      <td>8</td>\n",
       "      <td>8</td>\n",
       "      <td>0</td>\n",
       "    </tr>\n",
       "    <tr>\n",
       "      <th>1</th>\n",
       "      <td>down</td>\n",
       "      <td>9</td>\n",
       "      <td>9</td>\n",
       "      <td>8</td>\n",
       "      <td>9</td>\n",
       "    </tr>\n",
       "    <tr>\n",
       "      <th>2</th>\n",
       "      <td>up</td>\n",
       "      <td>1</td>\n",
       "      <td>-1</td>\n",
       "      <td>8</td>\n",
       "      <td>8</td>\n",
       "    </tr>\n",
       "    <tr>\n",
       "      <th>3</th>\n",
       "      <td>forward</td>\n",
       "      <td>2</td>\n",
       "      <td>2</td>\n",
       "      <td>10</td>\n",
       "      <td>8</td>\n",
       "    </tr>\n",
       "    <tr>\n",
       "      <th>4</th>\n",
       "      <td>down</td>\n",
       "      <td>6</td>\n",
       "      <td>6</td>\n",
       "      <td>10</td>\n",
       "      <td>14</td>\n",
       "    </tr>\n",
       "  </tbody>\n",
       "</table>\n",
       "</div>"
      ],
      "text/plain": [
       "  direction  magnitude  vector  horizontal  depth\n",
       "0   forward          8       8           8      0\n",
       "1      down          9       9           8      9\n",
       "2        up          1      -1           8      8\n",
       "3   forward          2       2          10      8\n",
       "4      down          6       6          10     14"
      ]
     },
     "execution_count": 30,
     "metadata": {},
     "output_type": "execute_result"
    }
   ],
   "source": [
    "df.head()"
   ]
  },
  {
   "cell_type": "code",
   "execution_count": 37,
   "id": "8f331a47-c191-4c5f-91cf-5b318ed986f4",
   "metadata": {},
   "outputs": [],
   "source": [
    "df[\"aim\"] = df.depth"
   ]
  },
  {
   "cell_type": "code",
   "execution_count": 38,
   "id": "16afdbec-7f82-4d24-a0d7-8c2cc40f8894",
   "metadata": {},
   "outputs": [
    {
     "data": {
      "text/html": [
       "<div>\n",
       "<style scoped>\n",
       "    .dataframe tbody tr th:only-of-type {\n",
       "        vertical-align: middle;\n",
       "    }\n",
       "\n",
       "    .dataframe tbody tr th {\n",
       "        vertical-align: top;\n",
       "    }\n",
       "\n",
       "    .dataframe thead th {\n",
       "        text-align: right;\n",
       "    }\n",
       "</style>\n",
       "<table border=\"1\" class=\"dataframe\">\n",
       "  <thead>\n",
       "    <tr style=\"text-align: right;\">\n",
       "      <th></th>\n",
       "      <th>direction</th>\n",
       "      <th>magnitude</th>\n",
       "      <th>vector</th>\n",
       "      <th>horizontal</th>\n",
       "      <th>depth</th>\n",
       "      <th>aim</th>\n",
       "    </tr>\n",
       "  </thead>\n",
       "  <tbody>\n",
       "    <tr>\n",
       "      <th>0</th>\n",
       "      <td>forward</td>\n",
       "      <td>8</td>\n",
       "      <td>8</td>\n",
       "      <td>8</td>\n",
       "      <td>0</td>\n",
       "      <td>0</td>\n",
       "    </tr>\n",
       "    <tr>\n",
       "      <th>1</th>\n",
       "      <td>down</td>\n",
       "      <td>9</td>\n",
       "      <td>9</td>\n",
       "      <td>8</td>\n",
       "      <td>9</td>\n",
       "      <td>9</td>\n",
       "    </tr>\n",
       "    <tr>\n",
       "      <th>2</th>\n",
       "      <td>up</td>\n",
       "      <td>1</td>\n",
       "      <td>-1</td>\n",
       "      <td>8</td>\n",
       "      <td>8</td>\n",
       "      <td>8</td>\n",
       "    </tr>\n",
       "    <tr>\n",
       "      <th>3</th>\n",
       "      <td>forward</td>\n",
       "      <td>2</td>\n",
       "      <td>2</td>\n",
       "      <td>10</td>\n",
       "      <td>8</td>\n",
       "      <td>8</td>\n",
       "    </tr>\n",
       "    <tr>\n",
       "      <th>4</th>\n",
       "      <td>down</td>\n",
       "      <td>6</td>\n",
       "      <td>6</td>\n",
       "      <td>10</td>\n",
       "      <td>14</td>\n",
       "      <td>14</td>\n",
       "    </tr>\n",
       "  </tbody>\n",
       "</table>\n",
       "</div>"
      ],
      "text/plain": [
       "  direction  magnitude  vector  horizontal  depth  aim\n",
       "0   forward          8       8           8      0    0\n",
       "1      down          9       9           8      9    9\n",
       "2        up          1      -1           8      8    8\n",
       "3   forward          2       2          10      8    8\n",
       "4      down          6       6          10     14   14"
      ]
     },
     "execution_count": 38,
     "metadata": {},
     "output_type": "execute_result"
    }
   ],
   "source": [
    "df.head()"
   ]
  },
  {
   "cell_type": "code",
   "execution_count": 63,
   "id": "185c13f0-afe7-4c9c-bfc7-5b2e5e8a5243",
   "metadata": {},
   "outputs": [],
   "source": [
    "df[\"new_depth_vector\"] = np.zeros_like(len(df))\n",
    "#del df[\"new_vector\"]"
   ]
  },
  {
   "cell_type": "code",
   "execution_count": 50,
   "id": "183fdfd9-7f9a-40e7-886d-63ec3c644adb",
   "metadata": {},
   "outputs": [
    {
     "data": {
      "text/html": [
       "<div>\n",
       "<style scoped>\n",
       "    .dataframe tbody tr th:only-of-type {\n",
       "        vertical-align: middle;\n",
       "    }\n",
       "\n",
       "    .dataframe tbody tr th {\n",
       "        vertical-align: top;\n",
       "    }\n",
       "\n",
       "    .dataframe thead th {\n",
       "        text-align: right;\n",
       "    }\n",
       "</style>\n",
       "<table border=\"1\" class=\"dataframe\">\n",
       "  <thead>\n",
       "    <tr style=\"text-align: right;\">\n",
       "      <th></th>\n",
       "      <th>direction</th>\n",
       "      <th>magnitude</th>\n",
       "      <th>vector</th>\n",
       "      <th>horizontal</th>\n",
       "      <th>depth</th>\n",
       "      <th>aim</th>\n",
       "      <th>new_depth</th>\n",
       "    </tr>\n",
       "  </thead>\n",
       "  <tbody>\n",
       "    <tr>\n",
       "      <th>0</th>\n",
       "      <td>forward</td>\n",
       "      <td>8</td>\n",
       "      <td>8</td>\n",
       "      <td>8</td>\n",
       "      <td>0</td>\n",
       "      <td>0</td>\n",
       "      <td>0</td>\n",
       "    </tr>\n",
       "    <tr>\n",
       "      <th>1</th>\n",
       "      <td>down</td>\n",
       "      <td>9</td>\n",
       "      <td>9</td>\n",
       "      <td>8</td>\n",
       "      <td>9</td>\n",
       "      <td>9</td>\n",
       "      <td>0</td>\n",
       "    </tr>\n",
       "    <tr>\n",
       "      <th>2</th>\n",
       "      <td>up</td>\n",
       "      <td>1</td>\n",
       "      <td>-1</td>\n",
       "      <td>8</td>\n",
       "      <td>8</td>\n",
       "      <td>8</td>\n",
       "      <td>0</td>\n",
       "    </tr>\n",
       "    <tr>\n",
       "      <th>3</th>\n",
       "      <td>forward</td>\n",
       "      <td>2</td>\n",
       "      <td>2</td>\n",
       "      <td>10</td>\n",
       "      <td>8</td>\n",
       "      <td>8</td>\n",
       "      <td>0</td>\n",
       "    </tr>\n",
       "    <tr>\n",
       "      <th>4</th>\n",
       "      <td>down</td>\n",
       "      <td>6</td>\n",
       "      <td>6</td>\n",
       "      <td>10</td>\n",
       "      <td>14</td>\n",
       "      <td>14</td>\n",
       "      <td>0</td>\n",
       "    </tr>\n",
       "  </tbody>\n",
       "</table>\n",
       "</div>"
      ],
      "text/plain": [
       "  direction  magnitude  vector  horizontal  depth  aim  new_depth\n",
       "0   forward          8       8           8      0    0          0\n",
       "1      down          9       9           8      9    9          0\n",
       "2        up          1      -1           8      8    8          0\n",
       "3   forward          2       2          10      8    8          0\n",
       "4      down          6       6          10     14   14          0"
      ]
     },
     "execution_count": 50,
     "metadata": {},
     "output_type": "execute_result"
    }
   ],
   "source": [
    "df.head()"
   ]
  },
  {
   "cell_type": "code",
   "execution_count": 64,
   "id": "1fc8aa7b-ef4e-42bc-ac84-59466ec903e2",
   "metadata": {},
   "outputs": [],
   "source": [
    "mask = df.direction==\"forward\"\n",
    "df.loc[mask,\"new_depth_vector\"] = df.loc[mask,\"aim\"]*df.loc[mask,\"magnitude\"]"
   ]
  },
  {
   "cell_type": "code",
   "execution_count": 65,
   "id": "3301e65a-2227-40d6-840d-f6ecb17788f3",
   "metadata": {},
   "outputs": [
    {
     "data": {
      "text/html": [
       "<div>\n",
       "<style scoped>\n",
       "    .dataframe tbody tr th:only-of-type {\n",
       "        vertical-align: middle;\n",
       "    }\n",
       "\n",
       "    .dataframe tbody tr th {\n",
       "        vertical-align: top;\n",
       "    }\n",
       "\n",
       "    .dataframe thead th {\n",
       "        text-align: right;\n",
       "    }\n",
       "</style>\n",
       "<table border=\"1\" class=\"dataframe\">\n",
       "  <thead>\n",
       "    <tr style=\"text-align: right;\">\n",
       "      <th></th>\n",
       "      <th>direction</th>\n",
       "      <th>magnitude</th>\n",
       "      <th>vector</th>\n",
       "      <th>horizontal</th>\n",
       "      <th>depth</th>\n",
       "      <th>aim</th>\n",
       "      <th>new_depth</th>\n",
       "      <th>new_depth_vector</th>\n",
       "    </tr>\n",
       "  </thead>\n",
       "  <tbody>\n",
       "    <tr>\n",
       "      <th>0</th>\n",
       "      <td>forward</td>\n",
       "      <td>8</td>\n",
       "      <td>8</td>\n",
       "      <td>8</td>\n",
       "      <td>0</td>\n",
       "      <td>0</td>\n",
       "      <td>0</td>\n",
       "      <td>0</td>\n",
       "    </tr>\n",
       "    <tr>\n",
       "      <th>1</th>\n",
       "      <td>down</td>\n",
       "      <td>9</td>\n",
       "      <td>9</td>\n",
       "      <td>8</td>\n",
       "      <td>9</td>\n",
       "      <td>9</td>\n",
       "      <td>9</td>\n",
       "      <td>0</td>\n",
       "    </tr>\n",
       "    <tr>\n",
       "      <th>2</th>\n",
       "      <td>up</td>\n",
       "      <td>1</td>\n",
       "      <td>-1</td>\n",
       "      <td>8</td>\n",
       "      <td>8</td>\n",
       "      <td>8</td>\n",
       "      <td>-1</td>\n",
       "      <td>0</td>\n",
       "    </tr>\n",
       "    <tr>\n",
       "      <th>3</th>\n",
       "      <td>forward</td>\n",
       "      <td>2</td>\n",
       "      <td>2</td>\n",
       "      <td>10</td>\n",
       "      <td>8</td>\n",
       "      <td>8</td>\n",
       "      <td>16</td>\n",
       "      <td>16</td>\n",
       "    </tr>\n",
       "    <tr>\n",
       "      <th>4</th>\n",
       "      <td>down</td>\n",
       "      <td>6</td>\n",
       "      <td>6</td>\n",
       "      <td>10</td>\n",
       "      <td>14</td>\n",
       "      <td>14</td>\n",
       "      <td>6</td>\n",
       "      <td>0</td>\n",
       "    </tr>\n",
       "  </tbody>\n",
       "</table>\n",
       "</div>"
      ],
      "text/plain": [
       "  direction  magnitude  vector  horizontal  depth  aim  new_depth  \\\n",
       "0   forward          8       8           8      0    0          0   \n",
       "1      down          9       9           8      9    9          9   \n",
       "2        up          1      -1           8      8    8         -1   \n",
       "3   forward          2       2          10      8    8         16   \n",
       "4      down          6       6          10     14   14          6   \n",
       "\n",
       "   new_depth_vector  \n",
       "0                 0  \n",
       "1                 0  \n",
       "2                 0  \n",
       "3                16  \n",
       "4                 0  "
      ]
     },
     "execution_count": 65,
     "metadata": {},
     "output_type": "execute_result"
    }
   ],
   "source": [
    "df.head()"
   ]
  },
  {
   "cell_type": "code",
   "execution_count": 66,
   "id": "310563a9-973d-4958-95b4-ea35f07850e6",
   "metadata": {},
   "outputs": [],
   "source": [
    "mask = df.direction!=\"forward\"\n",
    "df.loc[mask,\"new_depth_vector\"] = df.loc[mask,\"vector\"]"
   ]
  },
  {
   "cell_type": "code",
   "execution_count": 67,
   "id": "bc672a0c-9092-489d-b399-98301df28ac9",
   "metadata": {},
   "outputs": [
    {
     "data": {
      "text/html": [
       "<div>\n",
       "<style scoped>\n",
       "    .dataframe tbody tr th:only-of-type {\n",
       "        vertical-align: middle;\n",
       "    }\n",
       "\n",
       "    .dataframe tbody tr th {\n",
       "        vertical-align: top;\n",
       "    }\n",
       "\n",
       "    .dataframe thead th {\n",
       "        text-align: right;\n",
       "    }\n",
       "</style>\n",
       "<table border=\"1\" class=\"dataframe\">\n",
       "  <thead>\n",
       "    <tr style=\"text-align: right;\">\n",
       "      <th></th>\n",
       "      <th>direction</th>\n",
       "      <th>magnitude</th>\n",
       "      <th>vector</th>\n",
       "      <th>horizontal</th>\n",
       "      <th>depth</th>\n",
       "      <th>aim</th>\n",
       "      <th>new_depth</th>\n",
       "      <th>new_depth_vector</th>\n",
       "    </tr>\n",
       "  </thead>\n",
       "  <tbody>\n",
       "    <tr>\n",
       "      <th>0</th>\n",
       "      <td>forward</td>\n",
       "      <td>8</td>\n",
       "      <td>8</td>\n",
       "      <td>8</td>\n",
       "      <td>0</td>\n",
       "      <td>0</td>\n",
       "      <td>0</td>\n",
       "      <td>0</td>\n",
       "    </tr>\n",
       "    <tr>\n",
       "      <th>1</th>\n",
       "      <td>down</td>\n",
       "      <td>9</td>\n",
       "      <td>9</td>\n",
       "      <td>8</td>\n",
       "      <td>9</td>\n",
       "      <td>9</td>\n",
       "      <td>9</td>\n",
       "      <td>9</td>\n",
       "    </tr>\n",
       "    <tr>\n",
       "      <th>2</th>\n",
       "      <td>up</td>\n",
       "      <td>1</td>\n",
       "      <td>-1</td>\n",
       "      <td>8</td>\n",
       "      <td>8</td>\n",
       "      <td>8</td>\n",
       "      <td>-1</td>\n",
       "      <td>-1</td>\n",
       "    </tr>\n",
       "    <tr>\n",
       "      <th>3</th>\n",
       "      <td>forward</td>\n",
       "      <td>2</td>\n",
       "      <td>2</td>\n",
       "      <td>10</td>\n",
       "      <td>8</td>\n",
       "      <td>8</td>\n",
       "      <td>16</td>\n",
       "      <td>16</td>\n",
       "    </tr>\n",
       "    <tr>\n",
       "      <th>4</th>\n",
       "      <td>down</td>\n",
       "      <td>6</td>\n",
       "      <td>6</td>\n",
       "      <td>10</td>\n",
       "      <td>14</td>\n",
       "      <td>14</td>\n",
       "      <td>6</td>\n",
       "      <td>6</td>\n",
       "    </tr>\n",
       "    <tr>\n",
       "      <th>5</th>\n",
       "      <td>forward</td>\n",
       "      <td>6</td>\n",
       "      <td>6</td>\n",
       "      <td>16</td>\n",
       "      <td>14</td>\n",
       "      <td>14</td>\n",
       "      <td>84</td>\n",
       "      <td>84</td>\n",
       "    </tr>\n",
       "    <tr>\n",
       "      <th>6</th>\n",
       "      <td>down</td>\n",
       "      <td>5</td>\n",
       "      <td>5</td>\n",
       "      <td>16</td>\n",
       "      <td>19</td>\n",
       "      <td>19</td>\n",
       "      <td>5</td>\n",
       "      <td>5</td>\n",
       "    </tr>\n",
       "    <tr>\n",
       "      <th>7</th>\n",
       "      <td>down</td>\n",
       "      <td>4</td>\n",
       "      <td>4</td>\n",
       "      <td>16</td>\n",
       "      <td>23</td>\n",
       "      <td>23</td>\n",
       "      <td>4</td>\n",
       "      <td>4</td>\n",
       "    </tr>\n",
       "    <tr>\n",
       "      <th>8</th>\n",
       "      <td>down</td>\n",
       "      <td>2</td>\n",
       "      <td>2</td>\n",
       "      <td>16</td>\n",
       "      <td>25</td>\n",
       "      <td>25</td>\n",
       "      <td>2</td>\n",
       "      <td>2</td>\n",
       "    </tr>\n",
       "    <tr>\n",
       "      <th>9</th>\n",
       "      <td>forward</td>\n",
       "      <td>3</td>\n",
       "      <td>3</td>\n",
       "      <td>19</td>\n",
       "      <td>25</td>\n",
       "      <td>25</td>\n",
       "      <td>75</td>\n",
       "      <td>75</td>\n",
       "    </tr>\n",
       "  </tbody>\n",
       "</table>\n",
       "</div>"
      ],
      "text/plain": [
       "  direction  magnitude  vector  horizontal  depth  aim  new_depth  \\\n",
       "0   forward          8       8           8      0    0          0   \n",
       "1      down          9       9           8      9    9          9   \n",
       "2        up          1      -1           8      8    8         -1   \n",
       "3   forward          2       2          10      8    8         16   \n",
       "4      down          6       6          10     14   14          6   \n",
       "5   forward          6       6          16     14   14         84   \n",
       "6      down          5       5          16     19   19          5   \n",
       "7      down          4       4          16     23   23          4   \n",
       "8      down          2       2          16     25   25          2   \n",
       "9   forward          3       3          19     25   25         75   \n",
       "\n",
       "   new_depth_vector  \n",
       "0                 0  \n",
       "1                 9  \n",
       "2                -1  \n",
       "3                16  \n",
       "4                 6  \n",
       "5                84  \n",
       "6                 5  \n",
       "7                 4  \n",
       "8                 2  \n",
       "9                75  "
      ]
     },
     "execution_count": 67,
     "metadata": {},
     "output_type": "execute_result"
    }
   ],
   "source": [
    "df.head(10)"
   ]
  },
  {
   "cell_type": "code",
   "execution_count": 68,
   "id": "a364f0cf-5d4c-4de8-ab1e-f85a1eabc130",
   "metadata": {},
   "outputs": [
    {
     "data": {
      "text/html": [
       "<div>\n",
       "<style scoped>\n",
       "    .dataframe tbody tr th:only-of-type {\n",
       "        vertical-align: middle;\n",
       "    }\n",
       "\n",
       "    .dataframe tbody tr th {\n",
       "        vertical-align: top;\n",
       "    }\n",
       "\n",
       "    .dataframe thead th {\n",
       "        text-align: right;\n",
       "    }\n",
       "</style>\n",
       "<table border=\"1\" class=\"dataframe\">\n",
       "  <thead>\n",
       "    <tr style=\"text-align: right;\">\n",
       "      <th></th>\n",
       "      <th>direction</th>\n",
       "      <th>magnitude</th>\n",
       "      <th>vector</th>\n",
       "      <th>horizontal</th>\n",
       "      <th>depth</th>\n",
       "      <th>aim</th>\n",
       "      <th>new_depth</th>\n",
       "      <th>new_depth_vector</th>\n",
       "    </tr>\n",
       "  </thead>\n",
       "  <tbody>\n",
       "    <tr>\n",
       "      <th>0</th>\n",
       "      <td>forward</td>\n",
       "      <td>8</td>\n",
       "      <td>8</td>\n",
       "      <td>8</td>\n",
       "      <td>0</td>\n",
       "      <td>0</td>\n",
       "      <td>0</td>\n",
       "      <td>0</td>\n",
       "    </tr>\n",
       "    <tr>\n",
       "      <th>3</th>\n",
       "      <td>forward</td>\n",
       "      <td>2</td>\n",
       "      <td>2</td>\n",
       "      <td>10</td>\n",
       "      <td>8</td>\n",
       "      <td>8</td>\n",
       "      <td>16</td>\n",
       "      <td>16</td>\n",
       "    </tr>\n",
       "    <tr>\n",
       "      <th>5</th>\n",
       "      <td>forward</td>\n",
       "      <td>6</td>\n",
       "      <td>6</td>\n",
       "      <td>16</td>\n",
       "      <td>14</td>\n",
       "      <td>14</td>\n",
       "      <td>84</td>\n",
       "      <td>84</td>\n",
       "    </tr>\n",
       "    <tr>\n",
       "      <th>9</th>\n",
       "      <td>forward</td>\n",
       "      <td>3</td>\n",
       "      <td>3</td>\n",
       "      <td>19</td>\n",
       "      <td>25</td>\n",
       "      <td>25</td>\n",
       "      <td>75</td>\n",
       "      <td>75</td>\n",
       "    </tr>\n",
       "    <tr>\n",
       "      <th>10</th>\n",
       "      <td>forward</td>\n",
       "      <td>8</td>\n",
       "      <td>8</td>\n",
       "      <td>27</td>\n",
       "      <td>25</td>\n",
       "      <td>25</td>\n",
       "      <td>200</td>\n",
       "      <td>200</td>\n",
       "    </tr>\n",
       "    <tr>\n",
       "      <th>...</th>\n",
       "      <td>...</td>\n",
       "      <td>...</td>\n",
       "      <td>...</td>\n",
       "      <td>...</td>\n",
       "      <td>...</td>\n",
       "      <td>...</td>\n",
       "      <td>...</td>\n",
       "      <td>...</td>\n",
       "    </tr>\n",
       "    <tr>\n",
       "      <th>991</th>\n",
       "      <td>forward</td>\n",
       "      <td>9</td>\n",
       "      <td>9</td>\n",
       "      <td>1896</td>\n",
       "      <td>763</td>\n",
       "      <td>763</td>\n",
       "      <td>6867</td>\n",
       "      <td>6867</td>\n",
       "    </tr>\n",
       "    <tr>\n",
       "      <th>992</th>\n",
       "      <td>forward</td>\n",
       "      <td>2</td>\n",
       "      <td>2</td>\n",
       "      <td>1898</td>\n",
       "      <td>763</td>\n",
       "      <td>763</td>\n",
       "      <td>1526</td>\n",
       "      <td>1526</td>\n",
       "    </tr>\n",
       "    <tr>\n",
       "      <th>996</th>\n",
       "      <td>forward</td>\n",
       "      <td>4</td>\n",
       "      <td>4</td>\n",
       "      <td>1902</td>\n",
       "      <td>773</td>\n",
       "      <td>773</td>\n",
       "      <td>3092</td>\n",
       "      <td>3092</td>\n",
       "    </tr>\n",
       "    <tr>\n",
       "      <th>998</th>\n",
       "      <td>forward</td>\n",
       "      <td>7</td>\n",
       "      <td>7</td>\n",
       "      <td>1909</td>\n",
       "      <td>779</td>\n",
       "      <td>779</td>\n",
       "      <td>5453</td>\n",
       "      <td>5453</td>\n",
       "    </tr>\n",
       "    <tr>\n",
       "      <th>999</th>\n",
       "      <td>forward</td>\n",
       "      <td>2</td>\n",
       "      <td>2</td>\n",
       "      <td>1911</td>\n",
       "      <td>779</td>\n",
       "      <td>779</td>\n",
       "      <td>1558</td>\n",
       "      <td>1558</td>\n",
       "    </tr>\n",
       "  </tbody>\n",
       "</table>\n",
       "<p>400 rows × 8 columns</p>\n",
       "</div>"
      ],
      "text/plain": [
       "    direction  magnitude  vector  horizontal  depth  aim  new_depth  \\\n",
       "0     forward          8       8           8      0    0          0   \n",
       "3     forward          2       2          10      8    8         16   \n",
       "5     forward          6       6          16     14   14         84   \n",
       "9     forward          3       3          19     25   25         75   \n",
       "10    forward          8       8          27     25   25        200   \n",
       "..        ...        ...     ...         ...    ...  ...        ...   \n",
       "991   forward          9       9        1896    763  763       6867   \n",
       "992   forward          2       2        1898    763  763       1526   \n",
       "996   forward          4       4        1902    773  773       3092   \n",
       "998   forward          7       7        1909    779  779       5453   \n",
       "999   forward          2       2        1911    779  779       1558   \n",
       "\n",
       "     new_depth_vector  \n",
       "0                   0  \n",
       "3                  16  \n",
       "5                  84  \n",
       "9                  75  \n",
       "10                200  \n",
       "..                ...  \n",
       "991              6867  \n",
       "992              1526  \n",
       "996              3092  \n",
       "998              5453  \n",
       "999              1558  \n",
       "\n",
       "[400 rows x 8 columns]"
      ]
     },
     "execution_count": 68,
     "metadata": {},
     "output_type": "execute_result"
    }
   ],
   "source": [
    "df.loc[df.direction==\"forward\"]"
   ]
  },
  {
   "cell_type": "code",
   "execution_count": 74,
   "id": "b67bdf64-048b-4862-adc7-201a15bacace",
   "metadata": {},
   "outputs": [],
   "source": [
    "df[\"new_depth\"] = df[\"new_depth_vector\"].cumsum()"
   ]
  },
  {
   "cell_type": "code",
   "execution_count": 75,
   "id": "d63239eb-b575-4c7b-9126-bf50de989869",
   "metadata": {},
   "outputs": [
    {
     "data": {
      "text/html": [
       "<div>\n",
       "<style scoped>\n",
       "    .dataframe tbody tr th:only-of-type {\n",
       "        vertical-align: middle;\n",
       "    }\n",
       "\n",
       "    .dataframe tbody tr th {\n",
       "        vertical-align: top;\n",
       "    }\n",
       "\n",
       "    .dataframe thead th {\n",
       "        text-align: right;\n",
       "    }\n",
       "</style>\n",
       "<table border=\"1\" class=\"dataframe\">\n",
       "  <thead>\n",
       "    <tr style=\"text-align: right;\">\n",
       "      <th></th>\n",
       "      <th>direction</th>\n",
       "      <th>magnitude</th>\n",
       "      <th>vector</th>\n",
       "      <th>horizontal</th>\n",
       "      <th>depth</th>\n",
       "      <th>aim</th>\n",
       "      <th>new_depth</th>\n",
       "      <th>new_depth_vector</th>\n",
       "    </tr>\n",
       "  </thead>\n",
       "  <tbody>\n",
       "    <tr>\n",
       "      <th>0</th>\n",
       "      <td>forward</td>\n",
       "      <td>8</td>\n",
       "      <td>8</td>\n",
       "      <td>8</td>\n",
       "      <td>0</td>\n",
       "      <td>0</td>\n",
       "      <td>0</td>\n",
       "      <td>0</td>\n",
       "    </tr>\n",
       "    <tr>\n",
       "      <th>1</th>\n",
       "      <td>down</td>\n",
       "      <td>9</td>\n",
       "      <td>9</td>\n",
       "      <td>8</td>\n",
       "      <td>9</td>\n",
       "      <td>9</td>\n",
       "      <td>9</td>\n",
       "      <td>9</td>\n",
       "    </tr>\n",
       "    <tr>\n",
       "      <th>2</th>\n",
       "      <td>up</td>\n",
       "      <td>1</td>\n",
       "      <td>-1</td>\n",
       "      <td>8</td>\n",
       "      <td>8</td>\n",
       "      <td>8</td>\n",
       "      <td>8</td>\n",
       "      <td>-1</td>\n",
       "    </tr>\n",
       "    <tr>\n",
       "      <th>3</th>\n",
       "      <td>forward</td>\n",
       "      <td>2</td>\n",
       "      <td>2</td>\n",
       "      <td>10</td>\n",
       "      <td>8</td>\n",
       "      <td>8</td>\n",
       "      <td>24</td>\n",
       "      <td>16</td>\n",
       "    </tr>\n",
       "    <tr>\n",
       "      <th>4</th>\n",
       "      <td>down</td>\n",
       "      <td>6</td>\n",
       "      <td>6</td>\n",
       "      <td>10</td>\n",
       "      <td>14</td>\n",
       "      <td>14</td>\n",
       "      <td>30</td>\n",
       "      <td>6</td>\n",
       "    </tr>\n",
       "  </tbody>\n",
       "</table>\n",
       "</div>"
      ],
      "text/plain": [
       "  direction  magnitude  vector  horizontal  depth  aim  new_depth  \\\n",
       "0   forward          8       8           8      0    0          0   \n",
       "1      down          9       9           8      9    9          9   \n",
       "2        up          1      -1           8      8    8          8   \n",
       "3   forward          2       2          10      8    8         24   \n",
       "4      down          6       6          10     14   14         30   \n",
       "\n",
       "   new_depth_vector  \n",
       "0                 0  \n",
       "1                 9  \n",
       "2                -1  \n",
       "3                16  \n",
       "4                 6  "
      ]
     },
     "execution_count": 75,
     "metadata": {},
     "output_type": "execute_result"
    }
   ],
   "source": [
    "df.head()"
   ]
  },
  {
   "cell_type": "code",
   "execution_count": 76,
   "id": "4661a9eb-0e36-4880-8b3e-e6c47579bb7c",
   "metadata": {},
   "outputs": [
    {
     "data": {
      "text/html": [
       "<div>\n",
       "<style scoped>\n",
       "    .dataframe tbody tr th:only-of-type {\n",
       "        vertical-align: middle;\n",
       "    }\n",
       "\n",
       "    .dataframe tbody tr th {\n",
       "        vertical-align: top;\n",
       "    }\n",
       "\n",
       "    .dataframe thead th {\n",
       "        text-align: right;\n",
       "    }\n",
       "</style>\n",
       "<table border=\"1\" class=\"dataframe\">\n",
       "  <thead>\n",
       "    <tr style=\"text-align: right;\">\n",
       "      <th></th>\n",
       "      <th>direction</th>\n",
       "      <th>magnitude</th>\n",
       "      <th>vector</th>\n",
       "      <th>horizontal</th>\n",
       "      <th>depth</th>\n",
       "      <th>aim</th>\n",
       "      <th>new_depth</th>\n",
       "      <th>new_depth_vector</th>\n",
       "    </tr>\n",
       "  </thead>\n",
       "  <tbody>\n",
       "    <tr>\n",
       "      <th>0</th>\n",
       "      <td>forward</td>\n",
       "      <td>8</td>\n",
       "      <td>8</td>\n",
       "      <td>8</td>\n",
       "      <td>0</td>\n",
       "      <td>0</td>\n",
       "      <td>0</td>\n",
       "      <td>0</td>\n",
       "    </tr>\n",
       "  </tbody>\n",
       "</table>\n",
       "</div>"
      ],
      "text/plain": [
       "  direction  magnitude  vector  horizontal  depth  aim  new_depth  \\\n",
       "0   forward          8       8           8      0    0          0   \n",
       "\n",
       "   new_depth_vector  \n",
       "0                 0  "
      ]
     },
     "execution_count": 76,
     "metadata": {},
     "output_type": "execute_result"
    }
   ],
   "source": [
    "df[df.new_depth==0]"
   ]
  },
  {
   "cell_type": "code",
   "execution_count": 77,
   "id": "f2c3820b-0dab-42c3-8cec-d22ce2390b56",
   "metadata": {},
   "outputs": [
    {
     "data": {
      "text/html": [
       "<div>\n",
       "<style scoped>\n",
       "    .dataframe tbody tr th:only-of-type {\n",
       "        vertical-align: middle;\n",
       "    }\n",
       "\n",
       "    .dataframe tbody tr th {\n",
       "        vertical-align: top;\n",
       "    }\n",
       "\n",
       "    .dataframe thead th {\n",
       "        text-align: right;\n",
       "    }\n",
       "</style>\n",
       "<table border=\"1\" class=\"dataframe\">\n",
       "  <thead>\n",
       "    <tr style=\"text-align: right;\">\n",
       "      <th></th>\n",
       "      <th>direction</th>\n",
       "      <th>magnitude</th>\n",
       "      <th>vector</th>\n",
       "      <th>horizontal</th>\n",
       "      <th>depth</th>\n",
       "      <th>aim</th>\n",
       "      <th>new_depth</th>\n",
       "      <th>new_depth_vector</th>\n",
       "    </tr>\n",
       "  </thead>\n",
       "  <tbody>\n",
       "    <tr>\n",
       "      <th>995</th>\n",
       "      <td>down</td>\n",
       "      <td>8</td>\n",
       "      <td>8</td>\n",
       "      <td>1898</td>\n",
       "      <td>773</td>\n",
       "      <td>773</td>\n",
       "      <td>606324</td>\n",
       "      <td>8</td>\n",
       "    </tr>\n",
       "    <tr>\n",
       "      <th>996</th>\n",
       "      <td>forward</td>\n",
       "      <td>4</td>\n",
       "      <td>4</td>\n",
       "      <td>1902</td>\n",
       "      <td>773</td>\n",
       "      <td>773</td>\n",
       "      <td>609416</td>\n",
       "      <td>3092</td>\n",
       "    </tr>\n",
       "    <tr>\n",
       "      <th>997</th>\n",
       "      <td>down</td>\n",
       "      <td>6</td>\n",
       "      <td>6</td>\n",
       "      <td>1902</td>\n",
       "      <td>779</td>\n",
       "      <td>779</td>\n",
       "      <td>609422</td>\n",
       "      <td>6</td>\n",
       "    </tr>\n",
       "    <tr>\n",
       "      <th>998</th>\n",
       "      <td>forward</td>\n",
       "      <td>7</td>\n",
       "      <td>7</td>\n",
       "      <td>1909</td>\n",
       "      <td>779</td>\n",
       "      <td>779</td>\n",
       "      <td>614875</td>\n",
       "      <td>5453</td>\n",
       "    </tr>\n",
       "    <tr>\n",
       "      <th>999</th>\n",
       "      <td>forward</td>\n",
       "      <td>2</td>\n",
       "      <td>2</td>\n",
       "      <td>1911</td>\n",
       "      <td>779</td>\n",
       "      <td>779</td>\n",
       "      <td>616433</td>\n",
       "      <td>1558</td>\n",
       "    </tr>\n",
       "  </tbody>\n",
       "</table>\n",
       "</div>"
      ],
      "text/plain": [
       "    direction  magnitude  vector  horizontal  depth  aim  new_depth  \\\n",
       "995      down          8       8        1898    773  773     606324   \n",
       "996   forward          4       4        1902    773  773     609416   \n",
       "997      down          6       6        1902    779  779     609422   \n",
       "998   forward          7       7        1909    779  779     614875   \n",
       "999   forward          2       2        1911    779  779     616433   \n",
       "\n",
       "     new_depth_vector  \n",
       "995                 8  \n",
       "996              3092  \n",
       "997                 6  \n",
       "998              5453  \n",
       "999              1558  "
      ]
     },
     "execution_count": 77,
     "metadata": {},
     "output_type": "execute_result"
    }
   ],
   "source": [
    "df.tail()"
   ]
  },
  {
   "cell_type": "code",
   "execution_count": 79,
   "id": "ea6c17ea-17f8-4701-b11e-478ca907512b",
   "metadata": {},
   "outputs": [
    {
     "data": {
      "text/plain": [
       "999    1178003463\n",
       "dtype: int64"
      ]
     },
     "execution_count": 79,
     "metadata": {},
     "output_type": "execute_result"
    }
   ],
   "source": [
    "df.tail(1)[\"horizontal\"] * df.tail(1)[\"new_depth\"]"
   ]
  },
  {
   "cell_type": "code",
   "execution_count": 98,
   "id": "102366b8-a600-423e-8a01-e77327cd7fac",
   "metadata": {},
   "outputs": [],
   "source": [
    "def part2(input_file=\"input.txt\"):\n",
    "    \n",
    "    df = pd.read_csv(input_file, header=None, sep=\"\\s+\", names=[\"direction\",\"magnitude\"])\n",
    "    \n",
    "    translate_directions = {\"forward\": 1, \"down\": 1, \"up\": -1}\n",
    "    df[\"vector\"] = df.apply(lambda x: translate_directions[x[\"direction\"]] * x[\"magnitude\"], axis=1)\n",
    "    \n",
    "    horizontal_mask = df.direction == \"forward\"\n",
    "    df[\"horizontal\"] = np.zeros_like(len(df))\n",
    "    df.loc[horizontal_mask, \"horizontal\"] = df.loc[horizontal_mask, \"vector\"].cumsum()\n",
    "    df[\"horizontal\"] = df.horizontal.replace(to_replace=0, method=\"ffill\")\n",
    "    \n",
    "    depth_mask = df.direction != \"forward\"\n",
    "    df[\"aim_vector\"] = np.zeros_like(len(df))\n",
    "    df[\"aim\"] = np.zeros_like(len(df))\n",
    "    df[\"depth2_vector\"] = np.zeros_like(len(df))\n",
    "    df[\"depth2\"] = np.zeros_like(len(df))\n",
    "    \n",
    "    df.loc[depth_mask,\"aim_vector\"] = df.loc[depth_mask,\"vector\"]\n",
    "    df[\"aim\"] = df[\"aim_vector\"].cumsum()\n",
    "    \n",
    "    #df.loc[depth_mask, \"depth2_vector\"] = df.loc[depth_mask, \"vector\"]\n",
    "    df.loc[horizontal_mask, \"depth2_vector\"] = df.loc[horizontal_mask].apply(lambda x: x[\"magnitude\"] * x[\"aim\"], axis=1)\n",
    "    df[\"depth2\"] = df[\"depth2_vector\"].cumsum()\n",
    "    \n",
    "    return df"
   ]
  },
  {
   "cell_type": "code",
   "execution_count": 95,
   "id": "b4cc6104-da95-4a37-b926-ca1d54c0cf99",
   "metadata": {},
   "outputs": [],
   "source": [
    "df = part2()"
   ]
  },
  {
   "cell_type": "code",
   "execution_count": 96,
   "id": "d983a3b1-62ab-4dea-aca6-b19726f111d4",
   "metadata": {},
   "outputs": [
    {
     "data": {
      "text/html": [
       "<div>\n",
       "<style scoped>\n",
       "    .dataframe tbody tr th:only-of-type {\n",
       "        vertical-align: middle;\n",
       "    }\n",
       "\n",
       "    .dataframe tbody tr th {\n",
       "        vertical-align: top;\n",
       "    }\n",
       "\n",
       "    .dataframe thead th {\n",
       "        text-align: right;\n",
       "    }\n",
       "</style>\n",
       "<table border=\"1\" class=\"dataframe\">\n",
       "  <thead>\n",
       "    <tr style=\"text-align: right;\">\n",
       "      <th></th>\n",
       "      <th>direction</th>\n",
       "      <th>magnitude</th>\n",
       "      <th>vector</th>\n",
       "      <th>horizontal</th>\n",
       "      <th>aim_vector</th>\n",
       "      <th>aim</th>\n",
       "      <th>depth2_vector</th>\n",
       "      <th>depth2</th>\n",
       "    </tr>\n",
       "  </thead>\n",
       "  <tbody>\n",
       "    <tr>\n",
       "      <th>995</th>\n",
       "      <td>down</td>\n",
       "      <td>8</td>\n",
       "      <td>8</td>\n",
       "      <td>1898</td>\n",
       "      <td>8</td>\n",
       "      <td>773</td>\n",
       "      <td>8</td>\n",
       "      <td>606324</td>\n",
       "    </tr>\n",
       "    <tr>\n",
       "      <th>996</th>\n",
       "      <td>forward</td>\n",
       "      <td>4</td>\n",
       "      <td>4</td>\n",
       "      <td>1902</td>\n",
       "      <td>0</td>\n",
       "      <td>773</td>\n",
       "      <td>3092</td>\n",
       "      <td>609416</td>\n",
       "    </tr>\n",
       "    <tr>\n",
       "      <th>997</th>\n",
       "      <td>down</td>\n",
       "      <td>6</td>\n",
       "      <td>6</td>\n",
       "      <td>1902</td>\n",
       "      <td>6</td>\n",
       "      <td>779</td>\n",
       "      <td>6</td>\n",
       "      <td>609422</td>\n",
       "    </tr>\n",
       "    <tr>\n",
       "      <th>998</th>\n",
       "      <td>forward</td>\n",
       "      <td>7</td>\n",
       "      <td>7</td>\n",
       "      <td>1909</td>\n",
       "      <td>0</td>\n",
       "      <td>779</td>\n",
       "      <td>5453</td>\n",
       "      <td>614875</td>\n",
       "    </tr>\n",
       "    <tr>\n",
       "      <th>999</th>\n",
       "      <td>forward</td>\n",
       "      <td>2</td>\n",
       "      <td>2</td>\n",
       "      <td>1911</td>\n",
       "      <td>0</td>\n",
       "      <td>779</td>\n",
       "      <td>1558</td>\n",
       "      <td>616433</td>\n",
       "    </tr>\n",
       "  </tbody>\n",
       "</table>\n",
       "</div>"
      ],
      "text/plain": [
       "    direction  magnitude  vector  horizontal  aim_vector  aim  depth2_vector  \\\n",
       "995      down          8       8        1898           8  773              8   \n",
       "996   forward          4       4        1902           0  773           3092   \n",
       "997      down          6       6        1902           6  779              6   \n",
       "998   forward          7       7        1909           0  779           5453   \n",
       "999   forward          2       2        1911           0  779           1558   \n",
       "\n",
       "     depth2  \n",
       "995  606324  \n",
       "996  609416  \n",
       "997  609422  \n",
       "998  614875  \n",
       "999  616433  "
      ]
     },
     "execution_count": 96,
     "metadata": {},
     "output_type": "execute_result"
    }
   ],
   "source": [
    "df.tail()"
   ]
  },
  {
   "cell_type": "code",
   "execution_count": 97,
   "id": "def89f13-a8da-44aa-9634-d039ade05674",
   "metadata": {},
   "outputs": [
    {
     "data": {
      "text/plain": [
       "999    1178003463\n",
       "dtype: int64"
      ]
     },
     "execution_count": 97,
     "metadata": {},
     "output_type": "execute_result"
    }
   ],
   "source": [
    "df.tail(1)[\"horizontal\"] * df.tail(1)[\"depth2\"]"
   ]
  },
  {
   "cell_type": "code",
   "execution_count": 99,
   "id": "b6d3123f-31f0-4182-9cf8-352f2bfb5ff5",
   "metadata": {},
   "outputs": [],
   "source": [
    "df = part2()"
   ]
  },
  {
   "cell_type": "code",
   "execution_count": 100,
   "id": "2c00bbcd-5390-4ef4-b505-3c23d9c9a2d8",
   "metadata": {},
   "outputs": [
    {
     "data": {
      "text/html": [
       "<div>\n",
       "<style scoped>\n",
       "    .dataframe tbody tr th:only-of-type {\n",
       "        vertical-align: middle;\n",
       "    }\n",
       "\n",
       "    .dataframe tbody tr th {\n",
       "        vertical-align: top;\n",
       "    }\n",
       "\n",
       "    .dataframe thead th {\n",
       "        text-align: right;\n",
       "    }\n",
       "</style>\n",
       "<table border=\"1\" class=\"dataframe\">\n",
       "  <thead>\n",
       "    <tr style=\"text-align: right;\">\n",
       "      <th></th>\n",
       "      <th>direction</th>\n",
       "      <th>magnitude</th>\n",
       "      <th>vector</th>\n",
       "      <th>horizontal</th>\n",
       "      <th>aim_vector</th>\n",
       "      <th>aim</th>\n",
       "      <th>depth2_vector</th>\n",
       "      <th>depth2</th>\n",
       "    </tr>\n",
       "  </thead>\n",
       "  <tbody>\n",
       "    <tr>\n",
       "      <th>995</th>\n",
       "      <td>down</td>\n",
       "      <td>8</td>\n",
       "      <td>8</td>\n",
       "      <td>1898</td>\n",
       "      <td>8</td>\n",
       "      <td>773</td>\n",
       "      <td>0</td>\n",
       "      <td>605551</td>\n",
       "    </tr>\n",
       "    <tr>\n",
       "      <th>996</th>\n",
       "      <td>forward</td>\n",
       "      <td>4</td>\n",
       "      <td>4</td>\n",
       "      <td>1902</td>\n",
       "      <td>0</td>\n",
       "      <td>773</td>\n",
       "      <td>3092</td>\n",
       "      <td>608643</td>\n",
       "    </tr>\n",
       "    <tr>\n",
       "      <th>997</th>\n",
       "      <td>down</td>\n",
       "      <td>6</td>\n",
       "      <td>6</td>\n",
       "      <td>1902</td>\n",
       "      <td>6</td>\n",
       "      <td>779</td>\n",
       "      <td>0</td>\n",
       "      <td>608643</td>\n",
       "    </tr>\n",
       "    <tr>\n",
       "      <th>998</th>\n",
       "      <td>forward</td>\n",
       "      <td>7</td>\n",
       "      <td>7</td>\n",
       "      <td>1909</td>\n",
       "      <td>0</td>\n",
       "      <td>779</td>\n",
       "      <td>5453</td>\n",
       "      <td>614096</td>\n",
       "    </tr>\n",
       "    <tr>\n",
       "      <th>999</th>\n",
       "      <td>forward</td>\n",
       "      <td>2</td>\n",
       "      <td>2</td>\n",
       "      <td>1911</td>\n",
       "      <td>0</td>\n",
       "      <td>779</td>\n",
       "      <td>1558</td>\n",
       "      <td>615654</td>\n",
       "    </tr>\n",
       "  </tbody>\n",
       "</table>\n",
       "</div>"
      ],
      "text/plain": [
       "    direction  magnitude  vector  horizontal  aim_vector  aim  depth2_vector  \\\n",
       "995      down          8       8        1898           8  773              0   \n",
       "996   forward          4       4        1902           0  773           3092   \n",
       "997      down          6       6        1902           6  779              0   \n",
       "998   forward          7       7        1909           0  779           5453   \n",
       "999   forward          2       2        1911           0  779           1558   \n",
       "\n",
       "     depth2  \n",
       "995  605551  \n",
       "996  608643  \n",
       "997  608643  \n",
       "998  614096  \n",
       "999  615654  "
      ]
     },
     "execution_count": 100,
     "metadata": {},
     "output_type": "execute_result"
    }
   ],
   "source": [
    "df.tail()"
   ]
  },
  {
   "cell_type": "code",
   "execution_count": 102,
   "id": "36498226-75cc-417f-8ead-7d213ad963ac",
   "metadata": {},
   "outputs": [
    {
     "data": {
      "text/plain": [
       "999    1176514794\n",
       "dtype: int64"
      ]
     },
     "execution_count": 102,
     "metadata": {},
     "output_type": "execute_result"
    }
   ],
   "source": [
    "df.tail(1)[\"horizontal\"] * df.tail(1)[\"depth2\"]"
   ]
  },
  {
   "cell_type": "code",
   "execution_count": 103,
   "id": "6055e3d7-5a2b-4015-b37f-716447905440",
   "metadata": {},
   "outputs": [],
   "source": [
    "var_string = \"{var} other things in string\""
   ]
  },
  {
   "cell_type": "code",
   "execution_count": 105,
   "id": "ea869428-19ee-410a-bc2d-65d91e84471d",
   "metadata": {},
   "outputs": [
    {
     "name": "stdout",
     "output_type": "stream",
     "text": [
      "{var} other things in string\n"
     ]
    }
   ],
   "source": [
    "print(var_string)"
   ]
  },
  {
   "cell_type": "code",
   "execution_count": 106,
   "id": "8ef420ba-eec4-4d9e-b100-65ba48c608a7",
   "metadata": {},
   "outputs": [
    {
     "data": {
      "text/plain": [
       "'some text other things in string'"
      ]
     },
     "execution_count": 106,
     "metadata": {},
     "output_type": "execute_result"
    }
   ],
   "source": [
    "var_string.format(var=\"some text\")"
   ]
  },
  {
   "cell_type": "code",
   "execution_count": 107,
   "id": "848d8178-aaf6-4221-baaa-5108dae280e3",
   "metadata": {},
   "outputs": [],
   "source": [
    "var_dict = {\"var\": \"some text in a dictionary\"}"
   ]
  },
  {
   "cell_type": "code",
   "execution_count": 108,
   "id": "4e94da15-5924-4a1c-8e20-6cccc8c77578",
   "metadata": {},
   "outputs": [
    {
     "data": {
      "text/plain": [
       "'{var} other things in string'"
      ]
     },
     "execution_count": 108,
     "metadata": {},
     "output_type": "execute_result"
    }
   ],
   "source": [
    "var_string"
   ]
  },
  {
   "cell_type": "code",
   "execution_count": 109,
   "id": "e63cf1db-f9cf-43ec-aaf9-2a268e143281",
   "metadata": {},
   "outputs": [
    {
     "data": {
      "text/plain": [
       "'some text in a dictionary other things in string'"
      ]
     },
     "execution_count": 109,
     "metadata": {},
     "output_type": "execute_result"
    }
   ],
   "source": [
    "var_string.format(**var_dict)"
   ]
  },
  {
   "cell_type": "code",
   "execution_count": 110,
   "id": "936e45d7-00c1-4ce7-9efe-f20dab9b8f45",
   "metadata": {},
   "outputs": [
    {
     "data": {
      "text/html": [
       "<div>\n",
       "<style scoped>\n",
       "    .dataframe tbody tr th:only-of-type {\n",
       "        vertical-align: middle;\n",
       "    }\n",
       "\n",
       "    .dataframe tbody tr th {\n",
       "        vertical-align: top;\n",
       "    }\n",
       "\n",
       "    .dataframe thead th {\n",
       "        text-align: right;\n",
       "    }\n",
       "</style>\n",
       "<table border=\"1\" class=\"dataframe\">\n",
       "  <thead>\n",
       "    <tr style=\"text-align: right;\">\n",
       "      <th></th>\n",
       "      <th>direction</th>\n",
       "      <th>magnitude</th>\n",
       "      <th>vector</th>\n",
       "      <th>horizontal</th>\n",
       "      <th>aim_vector</th>\n",
       "      <th>aim</th>\n",
       "      <th>depth2_vector</th>\n",
       "      <th>depth2</th>\n",
       "    </tr>\n",
       "  </thead>\n",
       "  <tbody>\n",
       "    <tr>\n",
       "      <th>0</th>\n",
       "      <td>forward</td>\n",
       "      <td>8</td>\n",
       "      <td>8</td>\n",
       "      <td>8</td>\n",
       "      <td>0</td>\n",
       "      <td>0</td>\n",
       "      <td>0</td>\n",
       "      <td>0</td>\n",
       "    </tr>\n",
       "    <tr>\n",
       "      <th>1</th>\n",
       "      <td>down</td>\n",
       "      <td>9</td>\n",
       "      <td>9</td>\n",
       "      <td>8</td>\n",
       "      <td>9</td>\n",
       "      <td>9</td>\n",
       "      <td>0</td>\n",
       "      <td>0</td>\n",
       "    </tr>\n",
       "    <tr>\n",
       "      <th>2</th>\n",
       "      <td>up</td>\n",
       "      <td>1</td>\n",
       "      <td>-1</td>\n",
       "      <td>8</td>\n",
       "      <td>-1</td>\n",
       "      <td>8</td>\n",
       "      <td>0</td>\n",
       "      <td>0</td>\n",
       "    </tr>\n",
       "    <tr>\n",
       "      <th>3</th>\n",
       "      <td>forward</td>\n",
       "      <td>2</td>\n",
       "      <td>2</td>\n",
       "      <td>10</td>\n",
       "      <td>0</td>\n",
       "      <td>8</td>\n",
       "      <td>16</td>\n",
       "      <td>16</td>\n",
       "    </tr>\n",
       "    <tr>\n",
       "      <th>4</th>\n",
       "      <td>down</td>\n",
       "      <td>6</td>\n",
       "      <td>6</td>\n",
       "      <td>10</td>\n",
       "      <td>6</td>\n",
       "      <td>14</td>\n",
       "      <td>0</td>\n",
       "      <td>16</td>\n",
       "    </tr>\n",
       "  </tbody>\n",
       "</table>\n",
       "</div>"
      ],
      "text/plain": [
       "  direction  magnitude  vector  horizontal  aim_vector  aim  depth2_vector  \\\n",
       "0   forward          8       8           8           0    0              0   \n",
       "1      down          9       9           8           9    9              0   \n",
       "2        up          1      -1           8          -1    8              0   \n",
       "3   forward          2       2          10           0    8             16   \n",
       "4      down          6       6          10           6   14              0   \n",
       "\n",
       "   depth2  \n",
       "0       0  \n",
       "1       0  \n",
       "2       0  \n",
       "3      16  \n",
       "4      16  "
      ]
     },
     "execution_count": 110,
     "metadata": {},
     "output_type": "execute_result"
    }
   ],
   "source": [
    "df.head()"
   ]
  },
  {
   "cell_type": "code",
   "execution_count": 113,
   "id": "1e581f15-0d1a-43d4-9342-c31896fec9fb",
   "metadata": {},
   "outputs": [
    {
     "name": "stdout",
     "output_type": "stream",
     "text": [
      "forward from the DataFrame\n",
      "down from the DataFrame\n",
      "up from the DataFrame\n",
      "forward from the DataFrame\n",
      "down from the DataFrame\n"
     ]
    }
   ],
   "source": [
    "dir_string = \"{direction} from the DataFrame\"\n",
    "for idx, row in df.head().iterrows():\n",
    "    print(dir_string.format(**row))"
   ]
  },
  {
   "cell_type": "code",
   "execution_count": 114,
   "id": "a31325c7-4ebf-491d-b2f8-9cfe18a7def1",
   "metadata": {},
   "outputs": [
    {
     "ename": "KeyError",
     "evalue": "'var'",
     "output_type": "error",
     "traceback": [
      "\u001b[0;31m---------------------------------------------------------------------------\u001b[0m",
      "\u001b[0;31mKeyError\u001b[0m                                  Traceback (most recent call last)",
      "\u001b[0;32m<ipython-input-114-106b8d83b3eb>\u001b[0m in \u001b[0;36m<module>\u001b[0;34m\u001b[0m\n\u001b[1;32m      1\u001b[0m \u001b[0;32mfor\u001b[0m \u001b[0midx\u001b[0m\u001b[0;34m,\u001b[0m \u001b[0mrow\u001b[0m \u001b[0;32min\u001b[0m \u001b[0mdf\u001b[0m\u001b[0;34m.\u001b[0m\u001b[0mhead\u001b[0m\u001b[0;34m(\u001b[0m\u001b[0;34m)\u001b[0m\u001b[0;34m.\u001b[0m\u001b[0miterrows\u001b[0m\u001b[0;34m(\u001b[0m\u001b[0;34m)\u001b[0m\u001b[0;34m:\u001b[0m\u001b[0;34m\u001b[0m\u001b[0;34m\u001b[0m\u001b[0m\n\u001b[0;32m----> 2\u001b[0;31m     \u001b[0mprint\u001b[0m\u001b[0;34m(\u001b[0m\u001b[0mvar_string\u001b[0m\u001b[0;34m.\u001b[0m\u001b[0mformat\u001b[0m\u001b[0;34m(\u001b[0m\u001b[0;34m**\u001b[0m\u001b[0mrow\u001b[0m\u001b[0;34m)\u001b[0m\u001b[0;34m)\u001b[0m\u001b[0;34m\u001b[0m\u001b[0;34m\u001b[0m\u001b[0m\n\u001b[0m",
      "\u001b[0;31mKeyError\u001b[0m: 'var'"
     ]
    }
   ],
   "source": [
    "for idx, row in df.head().iterrows():\n",
    "    print(var_string.format(**row))"
   ]
  },
  {
   "cell_type": "code",
   "execution_count": null,
   "id": "aa19b326-b701-4706-8887-ce0adb2e0e5d",
   "metadata": {},
   "outputs": [],
   "source": []
  }
 ],
 "metadata": {
  "kernelspec": {
   "display_name": "Python 3",
   "language": "python",
   "name": "python3"
  },
  "language_info": {
   "codemirror_mode": {
    "name": "ipython",
    "version": 3
   },
   "file_extension": ".py",
   "mimetype": "text/x-python",
   "name": "python",
   "nbconvert_exporter": "python",
   "pygments_lexer": "ipython3",
   "version": "3.9.6"
  }
 },
 "nbformat": 4,
 "nbformat_minor": 5
}
