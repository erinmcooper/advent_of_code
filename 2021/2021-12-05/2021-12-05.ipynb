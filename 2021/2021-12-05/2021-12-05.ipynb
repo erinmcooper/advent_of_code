{
 "cells": [
  {
   "cell_type": "code",
   "execution_count": 17,
   "metadata": {},
   "outputs": [],
   "source": [
    "import pandas as pd\n",
    "import numpy as np\n",
    "\n",
    "from collections import Counter"
   ]
  },
  {
   "cell_type": "code",
   "execution_count": 2,
   "metadata": {},
   "outputs": [],
   "source": [
    "with open(\"test_input.txt\") as f:\n",
    "    data = f.readlines()"
   ]
  },
  {
   "cell_type": "code",
   "execution_count": 4,
   "metadata": {},
   "outputs": [],
   "source": [
    "data = [line.strip(\"\\n\") for line in data]"
   ]
  },
  {
   "cell_type": "code",
   "execution_count": 5,
   "metadata": {},
   "outputs": [
    {
     "data": {
      "text/plain": [
       "['0,9 -> 5,9',\n",
       " '8,0 -> 0,8',\n",
       " '9,4 -> 3,4',\n",
       " '2,2 -> 2,1',\n",
       " '7,0 -> 7,4',\n",
       " '6,4 -> 2,0',\n",
       " '0,9 -> 2,9',\n",
       " '3,4 -> 1,4',\n",
       " '0,0 -> 8,8',\n",
       " '5,5 -> 8,2']"
      ]
     },
     "execution_count": 5,
     "metadata": {},
     "output_type": "execute_result"
    }
   ],
   "source": [
    "data"
   ]
  },
  {
   "cell_type": "code",
   "execution_count": 6,
   "metadata": {},
   "outputs": [],
   "source": [
    "points = []"
   ]
  },
  {
   "cell_type": "code",
   "execution_count": 62,
   "metadata": {},
   "outputs": [],
   "source": [
    "def find_overlapping_points(input_file=\"test_input.txt\"):\n",
    "    with open(input_file) as f:\n",
    "        data = f.readlines()\n",
    "    data = [line.strip(\"\\n\") for line in data]\n",
    "    \n",
    "    hvpoints = []\n",
    "    hvdpoints = []\n",
    "    for line in data:\n",
    "        pt1,pt2 = line.split(' -> ')\n",
    "        x1,y1 = (int(i) for i in pt1.split(','))\n",
    "        x2,y2 = (int(i) for i in pt2.split(','))\n",
    "        if x1 == x2:\n",
    "            if y1 < y2:\n",
    "                pts = [(x1, y) for y in range(y1,y2+1)]\n",
    "                hvpoints.extend(pts)\n",
    "                hvdpoints.extend(pts)\n",
    "                #print('horizontal: ', (x1,y1), (x2,y2), pts)\n",
    "            else:\n",
    "                pts = [(x1, y) for y in range(y2,y1+1)]\n",
    "                hvpoints.extend(pts)\n",
    "                hvdpoints.extend(pts)\n",
    "                #print('horizontal: ', (x1,y1), (x2,y2), pts)\n",
    "        elif y1 == y2:\n",
    "            if x1 < x2:\n",
    "                pts = [(x, y1) for x in range(x1,x2+1)]\n",
    "                hvpoints.extend(pts)\n",
    "                hvdpoints.extend(pts)\n",
    "                #print(\"vertical: \", (x1,y1), (x2,y2), pts)\n",
    "            else:\n",
    "                pts = [(x, y1) for x in range(x2,x1+1)]\n",
    "                hvpoints.extend(pts)\n",
    "                hvdpoints.extend(pts)\n",
    "                #print(\"vertical: \", (x1,y1), (x2,y2), pts)\n",
    "        elif (x1 != x2) and (y1 != y2) and (abs(x2-x1)==abs(y2-y1)):\n",
    "            #print(\"Diagonal: \", (x1,y1), (x2,y2))\n",
    "            if x1 < x2:\n",
    "                x_counter = 1\n",
    "            else:\n",
    "                x_counter = -1\n",
    "            if y1 < y2:\n",
    "                y_counter = 1\n",
    "            else:\n",
    "                y_counter = -1\n",
    "            pts = [(x,y) for x,y in zip(range(x1,x2+x_counter,x_counter), range(y1,y2+y_counter,y_counter))]\n",
    "            hvdpoints.extend(pts)\n",
    "            #print(\"diagonal: \", (x1,y1), (x2,y2), pts)\n",
    "            \n",
    "    counted_hvpoints = Counter(hvpoints)\n",
    "    overlapping_hvpoints = {point:counted_hvpoints[point] for point in counted_hvpoints if counted_hvpoints[point] > 1}\n",
    "    \n",
    "    counted_hvdpoints = Counter(hvdpoints)\n",
    "    overlapping_hvdpoints = {point:counted_hvdpoints[point] for point in counted_hvdpoints if counted_hvdpoints[point] > 1}\n",
    "    \n",
    "    print(\"Horizontal + Vertical: \",len(overlapping_hvpoints))\n",
    "    print(\"Horizontal + Vertical + Diagonal: \",len(overlapping_hvdpoints))\n",
    "    #print([key for key in overlapping_hvpoints])\n",
    "    #print([key for key in overlapping_hvdpoints])"
   ]
  },
  {
   "cell_type": "code",
   "execution_count": 63,
   "metadata": {},
   "outputs": [
    {
     "name": "stdout",
     "output_type": "stream",
     "text": [
      "Horizontal + Vertical:  5\n",
      "Horizontal + Vertical + Diagonal:  12\n"
     ]
    }
   ],
   "source": [
    "find_overlapping_points()"
   ]
  },
  {
   "cell_type": "code",
   "execution_count": 64,
   "metadata": {},
   "outputs": [
    {
     "name": "stdout",
     "output_type": "stream",
     "text": [
      "Horizontal + Vertical:  4728\n",
      "Horizontal + Vertical + Diagonal:  17717\n"
     ]
    }
   ],
   "source": [
    "find_overlapping_points(input_file=\"input.txt\")"
   ]
  },
  {
   "cell_type": "code",
   "execution_count": null,
   "metadata": {},
   "outputs": [],
   "source": []
  }
 ],
 "metadata": {
  "kernelspec": {
   "display_name": "Python 3",
   "language": "python",
   "name": "python3"
  },
  "language_info": {
   "codemirror_mode": {
    "name": "ipython",
    "version": 3
   },
   "file_extension": ".py",
   "mimetype": "text/x-python",
   "name": "python",
   "nbconvert_exporter": "python",
   "pygments_lexer": "ipython3",
   "version": "3.8.3"
  }
 },
 "nbformat": 4,
 "nbformat_minor": 4
}
