{
 "cells": [
  {
   "cell_type": "code",
   "execution_count": 7,
   "metadata": {},
   "outputs": [],
   "source": [
    "from collections import Counter\n",
    "import datetime"
   ]
  },
  {
   "cell_type": "code",
   "execution_count": 4,
   "metadata": {},
   "outputs": [],
   "source": [
    "def how_many_fish(input_file='test_input.txt', num_days=80):\n",
    "    start_time = datetime.datetime.now()\n",
    "    with open(input_file, 'r') as f:\n",
    "        data = f.readlines()\n",
    "    \n",
    "    start = data[0].strip('\\n').split()[-1]\n",
    "    state = [int(i) for i in start.split(',')]\n",
    "    \n",
    "    for day in range(num_days):\n",
    "        for i in range(len(state)):\n",
    "            # print(\"before\",i,state)\n",
    "            if state[i] == 0:\n",
    "                state[i] = 6\n",
    "                state.append(8)\n",
    "            else:\n",
    "                state[i] -= 1\n",
    "        print(\"after\",day,\"says total lanternfish:\", len(state), \n",
    "              \"time to compute:\", str(datetime.datetime.now()-start_time))\n",
    "    \n",
    "    print(\"total fish after\",num_days,\"days: \", len(state))\n",
    "    return data,state"
   ]
  },
  {
   "cell_type": "code",
   "execution_count": 6,
   "metadata": {},
   "outputs": [
    {
     "name": "stdout",
     "output_type": "stream",
     "text": [
      "after 0 says total lanternfish: 5 time to compute: 0:00:00.001119\n",
      "after 1 says total lanternfish: 6 time to compute: 0:00:00.001402\n",
      "after 2 says total lanternfish: 7 time to compute: 0:00:00.001606\n",
      "after 3 says total lanternfish: 9 time to compute: 0:00:00.001770\n",
      "after 4 says total lanternfish: 10 time to compute: 0:00:00.001938\n",
      "after 5 says total lanternfish: 10 time to compute: 0:00:00.002050\n",
      "after 6 says total lanternfish: 10 time to compute: 0:00:00.002192\n",
      "after 7 says total lanternfish: 10 time to compute: 0:00:00.002881\n",
      "after 8 says total lanternfish: 11 time to compute: 0:00:00.002955\n",
      "after 9 says total lanternfish: 12 time to compute: 0:00:00.003060\n",
      "after 10 says total lanternfish: 15 time to compute: 0:00:00.003155\n",
      "after 11 says total lanternfish: 17 time to compute: 0:00:00.003246\n",
      "after 12 says total lanternfish: 19 time to compute: 0:00:00.003363\n",
      "after 13 says total lanternfish: 20 time to compute: 0:00:00.003709\n",
      "after 14 says total lanternfish: 20 time to compute: 0:00:00.003818\n",
      "after 15 says total lanternfish: 21 time to compute: 0:00:00.003914\n",
      "after 16 says total lanternfish: 22 time to compute: 0:00:00.004175\n",
      "after 17 says total lanternfish: 26 time to compute: 0:00:00.004297\n",
      "after 18 says total lanternfish: 29 time to compute: 0:00:00.004432\n",
      "after 19 says total lanternfish: 34 time to compute: 0:00:00.004557\n",
      "after 20 says total lanternfish: 37 time to compute: 0:00:00.004688\n",
      "after 21 says total lanternfish: 39 time to compute: 0:00:00.004786\n",
      "after 22 says total lanternfish: 41 time to compute: 0:00:00.004888\n",
      "after 23 says total lanternfish: 42 time to compute: 0:00:00.004986\n",
      "after 24 says total lanternfish: 47 time to compute: 0:00:00.005095\n",
      "after 25 says total lanternfish: 51 time to compute: 0:00:00.005238\n",
      "after 26 says total lanternfish: 60 time to compute: 0:00:00.005543\n",
      "after 27 says total lanternfish: 66 time to compute: 0:00:00.005678\n",
      "after 28 says total lanternfish: 73 time to compute: 0:00:00.005821\n",
      "after 29 says total lanternfish: 78 time to compute: 0:00:00.006040\n",
      "after 30 says total lanternfish: 81 time to compute: 0:00:00.006323\n",
      "after 31 says total lanternfish: 88 time to compute: 0:00:00.006512\n",
      "after 32 says total lanternfish: 93 time to compute: 0:00:00.006849\n",
      "after 33 says total lanternfish: 107 time to compute: 0:00:00.006985\n",
      "after 34 says total lanternfish: 117 time to compute: 0:00:00.007113\n",
      "after 35 says total lanternfish: 133 time to compute: 0:00:00.007222\n",
      "after 36 says total lanternfish: 144 time to compute: 0:00:00.007347\n",
      "after 37 says total lanternfish: 154 time to compute: 0:00:00.007475\n",
      "after 38 says total lanternfish: 166 time to compute: 0:00:00.007636\n",
      "after 39 says total lanternfish: 174 time to compute: 0:00:00.007780\n",
      "after 40 says total lanternfish: 195 time to compute: 0:00:00.008042\n",
      "after 41 says total lanternfish: 210 time to compute: 0:00:00.008158\n",
      "after 42 says total lanternfish: 240 time to compute: 0:00:00.008270\n",
      "after 43 says total lanternfish: 261 time to compute: 0:00:00.008376\n",
      "after 44 says total lanternfish: 287 time to compute: 0:00:00.008494\n",
      "after 45 says total lanternfish: 310 time to compute: 0:00:00.008612\n",
      "after 46 says total lanternfish: 328 time to compute: 0:00:00.008719\n",
      "after 47 says total lanternfish: 361 time to compute: 0:00:00.008846\n",
      "after 48 says total lanternfish: 384 time to compute: 0:00:00.009009\n",
      "after 49 says total lanternfish: 435 time to compute: 0:00:00.009146\n",
      "after 50 says total lanternfish: 471 time to compute: 0:00:00.009496\n",
      "after 51 says total lanternfish: 527 time to compute: 0:00:00.009640\n",
      "after 52 says total lanternfish: 571 time to compute: 0:00:00.009822\n",
      "after 53 says total lanternfish: 615 time to compute: 0:00:00.009995\n",
      "after 54 says total lanternfish: 671 time to compute: 0:00:00.010184\n",
      "after 55 says total lanternfish: 712 time to compute: 0:00:00.010354\n",
      "after 56 says total lanternfish: 796 time to compute: 0:00:00.010543\n",
      "after 57 says total lanternfish: 855 time to compute: 0:00:00.010970\n",
      "after 58 says total lanternfish: 962 time to compute: 0:00:00.011186\n",
      "after 59 says total lanternfish: 1042 time to compute: 0:00:00.011410\n",
      "after 60 says total lanternfish: 1142 time to compute: 0:00:00.011684\n",
      "after 61 says total lanternfish: 1242 time to compute: 0:00:00.011923\n",
      "after 62 says total lanternfish: 1327 time to compute: 0:00:00.012453\n",
      "after 63 says total lanternfish: 1467 time to compute: 0:00:00.012717\n",
      "after 64 says total lanternfish: 1567 time to compute: 0:00:00.013005\n",
      "after 65 says total lanternfish: 1758 time to compute: 0:00:00.013456\n",
      "after 66 says total lanternfish: 1897 time to compute: 0:00:00.013900\n",
      "after 67 says total lanternfish: 2104 time to compute: 0:00:00.014226\n",
      "after 68 says total lanternfish: 2284 time to compute: 0:00:00.014591\n",
      "after 69 says total lanternfish: 2469 time to compute: 0:00:00.014945\n",
      "after 70 says total lanternfish: 2709 time to compute: 0:00:00.015464\n",
      "after 71 says total lanternfish: 2894 time to compute: 0:00:00.016066\n",
      "after 72 says total lanternfish: 3225 time to compute: 0:00:00.016505\n",
      "after 73 says total lanternfish: 3464 time to compute: 0:00:00.017106\n",
      "after 74 says total lanternfish: 3862 time to compute: 0:00:00.017620\n",
      "after 75 says total lanternfish: 4181 time to compute: 0:00:00.018151\n",
      "after 76 says total lanternfish: 4573 time to compute: 0:00:00.018910\n",
      "after 77 says total lanternfish: 4993 time to compute: 0:00:00.019507\n",
      "after 78 says total lanternfish: 5363 time to compute: 0:00:00.020301\n",
      "after 79 says total lanternfish: 5934 time to compute: 0:00:00.020989\n",
      "after 80 says total lanternfish: 6358 time to compute: 0:00:00.022025\n",
      "after 81 says total lanternfish: 7087 time to compute: 0:00:00.022887\n",
      "after 82 says total lanternfish: 7645 time to compute: 0:00:00.023799\n",
      "after 83 says total lanternfish: 8435 time to compute: 0:00:00.024884\n",
      "after 84 says total lanternfish: 9174 time to compute: 0:00:00.025908\n",
      "after 85 says total lanternfish: 9936 time to compute: 0:00:00.026914\n",
      "after 86 says total lanternfish: 10927 time to compute: 0:00:00.028102\n",
      "after 87 says total lanternfish: 11721 time to compute: 0:00:00.029221\n",
      "after 88 says total lanternfish: 13021 time to compute: 0:00:00.030522\n",
      "after 89 says total lanternfish: 14003 time to compute: 0:00:00.032025\n",
      "after 90 says total lanternfish: 15522 time to compute: 0:00:00.033564\n",
      "after 91 says total lanternfish: 16819 time to compute: 0:00:00.035352\n",
      "after 92 says total lanternfish: 18371 time to compute: 0:00:00.037098\n",
      "after 93 says total lanternfish: 20101 time to compute: 0:00:00.039046\n",
      "after 94 says total lanternfish: 21657 time to compute: 0:00:00.041165\n",
      "after 95 says total lanternfish: 23948 time to compute: 0:00:00.043348\n",
      "after 96 says total lanternfish: 25724 time to compute: 0:00:00.045847\n",
      "after 97 says total lanternfish: 28543 time to compute: 0:00:00.048495\n",
      "after 98 says total lanternfish: 30822 time to compute: 0:00:00.051474\n",
      "after 99 says total lanternfish: 33893 time to compute: 0:00:00.054589\n",
      "after 100 says total lanternfish: 36920 time to compute: 0:00:00.058644\n",
      "after 101 says total lanternfish: 40028 time to compute: 0:00:00.062630\n",
      "after 102 says total lanternfish: 44049 time to compute: 0:00:00.067419\n",
      "after 103 says total lanternfish: 47381 time to compute: 0:00:00.072599\n",
      "after 104 says total lanternfish: 52491 time to compute: 0:00:00.077885\n",
      "after 105 says total lanternfish: 56546 time to compute: 0:00:00.085016\n",
      "after 106 says total lanternfish: 62436 time to compute: 0:00:00.092623\n",
      "after 107 says total lanternfish: 67742 time to compute: 0:00:00.099282\n",
      "after 108 says total lanternfish: 73921 time to compute: 0:00:00.107044\n",
      "after 109 says total lanternfish: 80969 time to compute: 0:00:00.114884\n",
      "after 110 says total lanternfish: 87409 time to compute: 0:00:00.124317\n",
      "after 111 says total lanternfish: 96540 time to compute: 0:00:00.133730\n",
      "after 112 says total lanternfish: 103927 time to compute: 0:00:00.143409\n",
      "after 113 says total lanternfish: 114927 time to compute: 0:00:00.153920\n",
      "after 114 says total lanternfish: 124288 time to compute: 0:00:00.165622\n",
      "after 115 says total lanternfish: 136357 time to compute: 0:00:00.177564\n",
      "after 116 says total lanternfish: 148711 time to compute: 0:00:00.191094\n",
      "after 117 says total lanternfish: 161330 time to compute: 0:00:00.205947\n",
      "after 118 says total lanternfish: 177509 time to compute: 0:00:00.221520\n",
      "after 119 says total lanternfish: 191336 time to compute: 0:00:00.238075\n",
      "after 120 says total lanternfish: 211467 time to compute: 0:00:00.257102\n",
      "after 121 says total lanternfish: 228215 time to compute: 0:00:00.279666\n",
      "after 122 says total lanternfish: 251284 time to compute: 0:00:00.302441\n",
      "after 123 says total lanternfish: 272999 time to compute: 0:00:00.327466\n",
      "after 124 says total lanternfish: 297687 time to compute: 0:00:00.354133\n",
      "after 125 says total lanternfish: 326220 time to compute: 0:00:00.382873\n",
      "after 126 says total lanternfish: 352666 time to compute: 0:00:00.413816\n",
      "after 127 says total lanternfish: 388976 time to compute: 0:00:00.446498\n",
      "after 128 says total lanternfish: 419551 time to compute: 0:00:00.480102\n",
      "after 129 says total lanternfish: 462751 time to compute: 0:00:00.522437\n",
      "after 130 says total lanternfish: 501214 time to compute: 0:00:00.568391\n",
      "after 131 says total lanternfish: 548971 time to compute: 0:00:00.617477\n",
      "after 132 says total lanternfish: 599219 time to compute: 0:00:00.672880\n",
      "after 133 says total lanternfish: 650353 time to compute: 0:00:00.735250\n",
      "after 134 says total lanternfish: 715196 time to compute: 0:00:00.806989\n",
      "after 135 says total lanternfish: 772217 time to compute: 0:00:00.883921\n",
      "after 136 says total lanternfish: 851727 time to compute: 0:00:00.965666\n",
      "after 137 says total lanternfish: 920765 time to compute: 0:00:01.059396\n",
      "after 138 says total lanternfish: 1011722 time to compute: 0:00:01.162903\n",
      "after 139 says total lanternfish: 1100433 time to compute: 0:00:01.275585\n",
      "after 140 says total lanternfish: 1199324 time to compute: 0:00:01.397841\n",
      "after 141 says total lanternfish: 1314415 time to compute: 0:00:01.522910\n",
      "after 142 says total lanternfish: 1422570 time to compute: 0:00:01.667552\n",
      "after 143 says total lanternfish: 1566923 time to compute: 0:00:01.819802\n",
      "after 144 says total lanternfish: 1692982 time to compute: 0:00:01.986794\n",
      "after 145 says total lanternfish: 1863449 time to compute: 0:00:02.165910\n",
      "after 146 says total lanternfish: 2021198 time to compute: 0:00:02.372994\n",
      "after 147 says total lanternfish: 2211046 time to compute: 0:00:02.586443\n",
      "after 148 says total lanternfish: 2414848 time to compute: 0:00:02.806477\n",
      "after 149 says total lanternfish: 2621894 time to compute: 0:00:03.044896\n",
      "after 150 says total lanternfish: 2881338 time to compute: 0:00:03.314319\n",
      "after 151 says total lanternfish: 3115552 time to compute: 0:00:03.602259\n",
      "after 152 says total lanternfish: 3430372 time to compute: 0:00:03.920437\n",
      "after 153 says total lanternfish: 3714180 time to compute: 0:00:04.251809\n",
      "after 154 says total lanternfish: 4074495 time to compute: 0:00:04.593094\n",
      "after 155 says total lanternfish: 4436046 time to compute: 0:00:04.965409\n",
      "after 156 says total lanternfish: 4832940 time to compute: 0:00:05.369798\n",
      "after 157 says total lanternfish: 5296186 time to compute: 0:00:05.862958\n",
      "after 158 says total lanternfish: 5737446 time to compute: 0:00:06.404818\n",
      "after 159 says total lanternfish: 6311710 time to compute: 0:00:06.974034\n",
      "after 160 says total lanternfish: 6829732 time to compute: 0:00:07.590137\n",
      "after 161 says total lanternfish: 7504867 time to compute: 0:00:08.253016\n",
      "after 162 says total lanternfish: 8150226 time to compute: 0:00:08.949896\n",
      "after 163 says total lanternfish: 8907435 time to compute: 0:00:09.717824\n",
      "after 164 says total lanternfish: 9732232 time to compute: 0:00:10.569493\n",
      "after 165 says total lanternfish: 10570386 time to compute: 0:00:11.486852\n",
      "after 166 says total lanternfish: 11607896 time to compute: 0:00:12.422439\n",
      "after 167 says total lanternfish: 12567178 time to compute: 0:00:13.481489\n",
      "after 168 says total lanternfish: 13816577 time to compute: 0:00:14.629395\n",
      "after 169 says total lanternfish: 14979958 time to compute: 0:00:15.903909\n",
      "after 170 says total lanternfish: 16412302 time to compute: 0:00:17.369735\n",
      "after 171 says total lanternfish: 17882458 time to compute: 0:00:18.932561\n",
      "after 172 says total lanternfish: 19477821 time to compute: 0:00:20.578241\n",
      "after 173 says total lanternfish: 21340128 time to compute: 0:00:22.394107\n",
      "after 174 says total lanternfish: 23137564 time to compute: 0:00:24.368180\n",
      "after 175 says total lanternfish: 25424473 time to compute: 0:00:26.497318\n",
      "after 176 says total lanternfish: 27547136 time to compute: 0:00:28.796055\n",
      "after 177 says total lanternfish: 30228879 time to compute: 0:00:31.396217\n",
      "after 178 says total lanternfish: 32862416 time to compute: 0:00:34.104395\n",
      "after 179 says total lanternfish: 35890123 time to compute: 0:00:37.299398\n",
      "after 180 says total lanternfish: 39222586 time to compute: 0:00:40.450800\n",
      "after 181 says total lanternfish: 42615385 time to compute: 0:00:43.902843\n",
      "after 182 says total lanternfish: 46764601 time to compute: 0:00:47.724927\n",
      "after 183 says total lanternfish: 50684700 time to compute: 0:00:51.920174\n",
      "after 184 says total lanternfish: 55653352 time to compute: 0:00:56.376726\n",
      "after 185 says total lanternfish: 60409552 time to compute: 0:01:01.325758\n",
      "after 186 says total lanternfish: 66119002 time to compute: 0:01:06.782225\n",
      "after 187 says total lanternfish: 72085002 time to compute: 0:01:13.216836\n",
      "after 188 says total lanternfish: 78505508 time to compute: 0:01:19.942110\n",
      "after 189 says total lanternfish: 85987187 time to compute: 0:01:26.843908\n",
      "after 190 says total lanternfish: 93300085 time to compute: 0:01:34.167880\n",
      "after 191 says total lanternfish: 102417953 time to compute: 0:01:42.613176\n",
      "after 192 says total lanternfish: 111094252 time to compute: 0:01:52.536658\n",
      "after 193 says total lanternfish: 121772354 time to compute: 0:02:02.967480\n",
      "after 194 says total lanternfish: 132494554 time to compute: 0:02:14.128296\n",
      "after 195 says total lanternfish: 144624510 time to compute: 0:02:26.239036\n",
      "after 196 says total lanternfish: 158072189 time to compute: 0:02:39.259073\n",
      "after 197 says total lanternfish: 171805593 time to compute: 0:02:52.821878\n",
      "after 198 says total lanternfish: 188405140 time to compute: 0:03:08.096635\n",
      "after 199 says total lanternfish: 204394337 time to compute: 0:03:24.869030\n",
      "after 200 says total lanternfish: 224190307 time to compute: 0:03:43.878875\n",
      "after 201 says total lanternfish: 243588806 time to compute: 0:04:03.862937\n",
      "after 202 says total lanternfish: 266396864 time to compute: 0:04:25.090441\n",
      "after 203 says total lanternfish: 290566743 time to compute: 0:04:48.880406\n",
      "after 204 says total lanternfish: 316430103 time to compute: 0:05:14.628038\n",
      "after 205 says total lanternfish: 346477329 time to compute: 0:05:43.038441\n",
      "after 206 says total lanternfish: 376199930 time to compute: 0:06:13.279485\n",
      "after 207 says total lanternfish: 412595447 time to compute: 0:06:45.253711\n",
      "after 208 says total lanternfish: 447983143 time to compute: 0:07:20.083705\n",
      "after 209 says total lanternfish: 490587171 time to compute: 0:08:00.152334\n",
      "after 210 says total lanternfish: 534155549 time to compute: 0:08:44.442218\n",
      "after 211 says total lanternfish: 582826967 time to compute: 0:09:34.656137\n",
      "after 212 says total lanternfish: 637044072 time to compute: 0:10:25.251215\n",
      "after 213 says total lanternfish: 692630033 time to compute: 0:11:19.671556\n",
      "after 214 says total lanternfish: 759072776 time to compute: 0:12:18.492247\n",
      "after 215 says total lanternfish: 824183073 time to compute: 0:13:23.461715\n",
      "after 216 says total lanternfish: 903182618 time to compute: 0:14:38.118336\n",
      "after 217 says total lanternfish: 982138692 time to compute: 0:16:00.387381\n"
     ]
    },
    {
     "ename": "KeyboardInterrupt",
     "evalue": "",
     "output_type": "error",
     "traceback": [
      "\u001b[0;31m---------------------------------------------------------------------------\u001b[0m",
      "\u001b[0;31mKeyboardInterrupt\u001b[0m                         Traceback (most recent call last)",
      "\u001b[0;32m<ipython-input-6-284d78255452>\u001b[0m in \u001b[0;36m<module>\u001b[0;34m\u001b[0m\n\u001b[0;32m----> 1\u001b[0;31m \u001b[0mdata\u001b[0m\u001b[0;34m,\u001b[0m\u001b[0mstate\u001b[0m \u001b[0;34m=\u001b[0m \u001b[0mhow_many_fish\u001b[0m\u001b[0;34m(\u001b[0m\u001b[0mnum_days\u001b[0m\u001b[0;34m=\u001b[0m\u001b[0;36m256\u001b[0m\u001b[0;34m)\u001b[0m\u001b[0;34m\u001b[0m\u001b[0;34m\u001b[0m\u001b[0m\n\u001b[0m",
      "\u001b[0;32m<ipython-input-4-30b984c66adb>\u001b[0m in \u001b[0;36mhow_many_fish\u001b[0;34m(input_file, num_days)\u001b[0m\n\u001b[1;32m     14\u001b[0m                 \u001b[0mstate\u001b[0m\u001b[0;34m.\u001b[0m\u001b[0mappend\u001b[0m\u001b[0;34m(\u001b[0m\u001b[0;36m8\u001b[0m\u001b[0;34m)\u001b[0m\u001b[0;34m\u001b[0m\u001b[0;34m\u001b[0m\u001b[0m\n\u001b[1;32m     15\u001b[0m             \u001b[0;32melse\u001b[0m\u001b[0;34m:\u001b[0m\u001b[0;34m\u001b[0m\u001b[0;34m\u001b[0m\u001b[0m\n\u001b[0;32m---> 16\u001b[0;31m                 \u001b[0mstate\u001b[0m\u001b[0;34m[\u001b[0m\u001b[0mi\u001b[0m\u001b[0;34m]\u001b[0m \u001b[0;34m-=\u001b[0m \u001b[0;36m1\u001b[0m\u001b[0;34m\u001b[0m\u001b[0;34m\u001b[0m\u001b[0m\n\u001b[0m\u001b[1;32m     17\u001b[0m         print(\"after\",day,\"says total lanternfish:\", len(state), \n\u001b[1;32m     18\u001b[0m               \"time to compute:\", str(datetime.datetime.now()-start_time))\n",
      "\u001b[0;31mKeyboardInterrupt\u001b[0m: "
     ]
    }
   ],
   "source": [
    "data,state = how_many_fish(num_days=256)"
   ]
  },
  {
   "cell_type": "code",
   "execution_count": 53,
   "metadata": {},
   "outputs": [
    {
     "name": "stdout",
     "output_type": "stream",
     "text": [
      "total fish after 80 days:  385391\n"
     ]
    }
   ],
   "source": [
    "data,state = how_many_fish(input_file=\"input.txt\")"
   ]
  },
  {
   "cell_type": "code",
   "execution_count": null,
   "metadata": {},
   "outputs": [],
   "source": []
  },
  {
   "cell_type": "code",
   "execution_count": 44,
   "metadata": {},
   "outputs": [],
   "source": [
    "def how_many_fish_using_dict(input_file='test_input.txt', num_days=18):\n",
    "    start_time = datetime.datetime.now()\n",
    "    with open(input_file, 'r') as f:\n",
    "        data = f.readlines()\n",
    "    \n",
    "    start = data[0].strip('\\n').split()[-1]\n",
    "    start = [int(i) for i in start.split(',')]\n",
    "    \n",
    "    state = [start.count(i) for i in range(9)]\n",
    "    print(state)\n",
    "    for day in range(num_days):\n",
    "        temp = [0 for i in range(9)]\n",
    "        for i in range(9):\n",
    "            if i==0:\n",
    "                temp[8] = state[0]\n",
    "                temp[6] = state[0] + state[7]\n",
    "            elif i==7:\n",
    "                temp[i-1] = state[i]+state[0]\n",
    "            else:\n",
    "                temp[i-1] = state[i]\n",
    "        #print(\"after\",day,\"days total lanternfish:\", sum(temp.values()),\n",
    "        #      \"time to compute:\", str(datetime.datetime.now()-start_time))\n",
    "        #print(temp, sum(temp))\n",
    "        state = temp.copy()\n",
    "    \n",
    "    print(\"total fish after\",num_days,\"days: \", sum(state))\n",
    "    return data,state"
   ]
  },
  {
   "cell_type": "code",
   "execution_count": 46,
   "metadata": {},
   "outputs": [
    {
     "name": "stdout",
     "output_type": "stream",
     "text": [
      "[0, 1, 1, 2, 1, 0, 0, 0, 0]\n",
      "total fish after 256 days:  26984457539\n"
     ]
    }
   ],
   "source": [
    "data, state = how_many_fish_using_dict(num_days=256)"
   ]
  },
  {
   "cell_type": "code",
   "execution_count": 48,
   "metadata": {},
   "outputs": [
    {
     "name": "stdout",
     "output_type": "stream",
     "text": [
      "[0, 191, 30, 20, 35, 24, 0, 0, 0]\n",
      "total fish after 256 days:  1728611055389\n"
     ]
    }
   ],
   "source": [
    "data, state = how_many_fish_using_dict(input_file='input.txt',num_days=256)"
   ]
  },
  {
   "cell_type": "code",
   "execution_count": 49,
   "metadata": {},
   "outputs": [
    {
     "data": {
      "text/plain": [
       "[146254241331,\n",
       " 177678367688,\n",
       " 185787065930,\n",
       " 197631400000,\n",
       " 235116279239,\n",
       " 223587769270,\n",
       " 286810831582,\n",
       " 119672150371,\n",
       " 156072949978]"
      ]
     },
     "execution_count": 49,
     "metadata": {},
     "output_type": "execute_result"
    }
   ],
   "source": [
    "state"
   ]
  },
  {
   "cell_type": "code",
   "execution_count": 50,
   "metadata": {},
   "outputs": [
    {
     "data": {
      "text/plain": [
       "int"
      ]
     },
     "execution_count": 50,
     "metadata": {},
     "output_type": "execute_result"
    }
   ],
   "source": [
    "type(state[0])"
   ]
  },
  {
   "cell_type": "code",
   "execution_count": null,
   "metadata": {},
   "outputs": [],
   "source": []
  }
 ],
 "metadata": {
  "kernelspec": {
   "display_name": "Python 3",
   "language": "python",
   "name": "python3"
  },
  "language_info": {
   "codemirror_mode": {
    "name": "ipython",
    "version": 3
   },
   "file_extension": ".py",
   "mimetype": "text/x-python",
   "name": "python",
   "nbconvert_exporter": "python",
   "pygments_lexer": "ipython3",
   "version": "3.8.3"
  }
 },
 "nbformat": 4,
 "nbformat_minor": 4
}
