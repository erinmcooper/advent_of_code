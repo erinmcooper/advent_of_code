{
 "cells": [
  {
   "cell_type": "code",
   "execution_count": 1,
   "metadata": {},
   "outputs": [],
   "source": [
    "import pandas as pd\n",
    "import numpy as np"
   ]
  },
  {
   "cell_type": "code",
   "execution_count": 41,
   "metadata": {},
   "outputs": [],
   "source": [
    "def find_fuel_efficient_crab_position(input_file=\"test_input.txt\"):\n",
    "    \n",
    "    with open(input_file,'r') as f:\n",
    "        data = f.readlines()\n",
    "    data = [int(i) for i in data[0].split(',')]\n",
    "    \n",
    "    df = pd.DataFrame(data)\n",
    "    \n",
    "    pos = df[0].median()\n",
    "    fuel_spent = fuel_spent_1(df,pos)\n",
    "    print(\"PART 1 ---------------\")\n",
    "    print(\"position: \", pos)\n",
    "    print(\"fuel spent: \", fuel_spent)\n",
    "    print()\n",
    "    \n",
    "    start = df[0].min()\n",
    "    stop = df[0].max()\n",
    "    min_fuel = fuel_spent_2(df,start)\n",
    "    for i in range(start,stop):\n",
    "        temp_fuel = fuel_spent_2(df,i)\n",
    "        if temp_fuel < min_fuel:\n",
    "            min_fuel = temp_fuel\n",
    "            pos = i\n",
    "    fuel_spent = fuel_spent_2(df,pos)\n",
    "    \n",
    "    print(\"PART 2 ---------------\")\n",
    "    print(\"position: \", pos)\n",
    "    print(\"fuel spent: \", fuel_spent)\n",
    "    \n",
    "    return df"
   ]
  },
  {
   "cell_type": "code",
   "execution_count": 33,
   "metadata": {},
   "outputs": [],
   "source": [
    "def fuel_spent_1(df, pos):\n",
    "    return (df[0]-pos).abs().sum()\n",
    "\n",
    "def fuel_spent_2(df, pos):\n",
    "    return ((df[0]-pos).abs()*((df[0]-pos).abs()+1)/2).sum()"
   ]
  },
  {
   "cell_type": "code",
   "execution_count": 42,
   "metadata": {},
   "outputs": [
    {
     "name": "stdout",
     "output_type": "stream",
     "text": [
      "PART 1 ---------------\n",
      "position:  2.0\n",
      "fuel spent:  37.0\n",
      "\n",
      "PART 2 ---------------\n",
      "position:  5\n",
      "fuel spent:  168.0\n"
     ]
    }
   ],
   "source": [
    "df = find_fuel_efficient_crab_position()"
   ]
  },
  {
   "cell_type": "code",
   "execution_count": 43,
   "metadata": {},
   "outputs": [
    {
     "data": {
      "text/plain": [
       "206.0"
      ]
     },
     "execution_count": 43,
     "metadata": {},
     "output_type": "execute_result"
    }
   ],
   "source": [
    "fuel_spent_2(df,2)"
   ]
  },
  {
   "cell_type": "code",
   "execution_count": 36,
   "metadata": {},
   "outputs": [
    {
     "name": "stdout",
     "output_type": "stream",
     "text": [
      "PART 1 ---------------\n",
      "position:  343.0\n",
      "fuel spent:  340987.0\n",
      "\n",
      "PART 2 ---------------\n",
      "position:  479\n",
      "fuel spent:  96987919.0\n"
     ]
    }
   ],
   "source": [
    "df = find_fuel_efficient_crab_position(\"input.txt\")"
   ]
  },
  {
   "cell_type": "code",
   "execution_count": 44,
   "metadata": {},
   "outputs": [
    {
     "name": "stdout",
     "output_type": "stream",
     "text": [
      "PART 1 ---------------\n",
      "position:  343.0\n",
      "fuel spent:  340987.0\n",
      "\n",
      "PART 2 ---------------\n",
      "position:  478\n",
      "fuel spent:  96987874.0\n"
     ]
    }
   ],
   "source": [
    "df = find_fuel_efficient_crab_position(\"input.txt\")"
   ]
  },
  {
   "cell_type": "code",
   "execution_count": 37,
   "metadata": {},
   "outputs": [
    {
     "data": {
      "text/plain": [
       "478.567"
      ]
     },
     "execution_count": 37,
     "metadata": {},
     "output_type": "execute_result"
    }
   ],
   "source": [
    "df[0].mean()"
   ]
  },
  {
   "cell_type": "code",
   "execution_count": 38,
   "metadata": {},
   "outputs": [
    {
     "data": {
      "text/plain": [
       "96987874.0"
      ]
     },
     "execution_count": 38,
     "metadata": {},
     "output_type": "execute_result"
    }
   ],
   "source": [
    "fuel_spent_2(df,478)"
   ]
  },
  {
   "cell_type": "code",
   "execution_count": null,
   "metadata": {},
   "outputs": [],
   "source": []
  }
 ],
 "metadata": {
  "kernelspec": {
   "display_name": "Python 3",
   "language": "python",
   "name": "python3"
  },
  "language_info": {
   "codemirror_mode": {
    "name": "ipython",
    "version": 3
   },
   "file_extension": ".py",
   "mimetype": "text/x-python",
   "name": "python",
   "nbconvert_exporter": "python",
   "pygments_lexer": "ipython3",
   "version": "3.8.3"
  }
 },
 "nbformat": 4,
 "nbformat_minor": 4
}
