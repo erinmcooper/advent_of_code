{
 "cells": [
  {
   "cell_type": "code",
   "execution_count": 1,
   "id": "de484f85-386b-4878-9a03-479d16d7348b",
   "metadata": {},
   "outputs": [],
   "source": [
    "import pandas as pd\n",
    "import numpy as np"
   ]
  },
  {
   "cell_type": "code",
   "execution_count": 90,
   "id": "c82cbcac-81a1-48b2-9582-69f67aa556b1",
   "metadata": {},
   "outputs": [],
   "source": [
    "def nearest_neighbors_less_than_9(matrix,low,i,j,basins):\n",
    "    \n",
    "    num_rows, num_cols = matrix.shape\n",
    "    \n",
    "    # left\n",
    "    if j != 0:\n",
    "        if matrix[i][j-1] != 9:\n",
    "            basins[low][\"not_checked\"].append((i,j-1))\n",
    "    # right\n",
    "    if j != num_cols-1:\n",
    "        if matrix[i][j+1] != 9:\n",
    "            basins[low][\"not_checked\"].append((i,j+1))\n",
    "    # top\n",
    "    if i != 0:\n",
    "        if matrix[i-1][j] != 9:\n",
    "            basins[low][\"not_checked\"].append((i-1,j))\n",
    "    if i != num_rows-1:\n",
    "        if matrix[i+1][j] != 9:\n",
    "            basins[low][\"not_checked\"].append((i+1,j))\n",
    "    \n",
    "    return basins"
   ]
  },
  {
   "cell_type": "code",
   "execution_count": 117,
   "id": "10ac5384-ade2-4ca2-bf62-342f543f49ac",
   "metadata": {},
   "outputs": [],
   "source": [
    "def compute_the_thing(input_file=\"test_input.txt\"):\n",
    "    \n",
    "    with open(input_file, 'r') as f:\n",
    "        data = f.readlines()\n",
    "    data = [line.strip(\"\\n\") for line in data]\n",
    "    \n",
    "    matrix = np.array([[int(line[idx]) for line in data] for idx in range(len(data[0]))]).transpose()\n",
    "    \n",
    "    num_rows, num_cols = matrix.shape\n",
    "    lowest = {}\n",
    "    for i in range(num_rows):\n",
    "        for j in range(num_cols):\n",
    "            nearest = []\n",
    "            # left\n",
    "            if j != 0:\n",
    "                nearest.append(matrix[i][j-1])\n",
    "            # right\n",
    "            if j != num_cols-1:\n",
    "                nearest.append(matrix[i][j+1])\n",
    "            # top\n",
    "            if i != 0:\n",
    "                nearest.append(matrix[i-1][j])\n",
    "            if i != num_rows-1:\n",
    "                nearest.append(matrix[i+1][j])\n",
    "            if matrix[i][j] < min(nearest):\n",
    "                lowest[(i,j)] = (matrix[i][j])\n",
    "                \n",
    "    risk_level = sum([1+low for low in lowest.values()])\n",
    "    # print(\"number of low points: \", len(lowest))\n",
    "    print(\"risk level: \", risk_level)\n",
    "    \n",
    "    basins = {}\n",
    "    for low in lowest:\n",
    "        x,y = low\n",
    "        basins[low] = {}\n",
    "        basins[low][\"checked\"] = [low]\n",
    "        basins[low][\"not_checked\"] = []\n",
    "        i,j = low\n",
    "        # check nearest neighbors\n",
    "        basins = nearest_neighbors_less_than_9(matrix,low,i,j,basins)\n",
    "        while len(basins[low][\"not_checked\"]) > 0:\n",
    "            #print(low, \"points not checked: \", basins[low][\"not_checked\"])\n",
    "            #print(\"points checked: \", basins[low][\"checked\"])\n",
    "            point = basins[low][\"not_checked\"].pop(0)\n",
    "            i,j = point\n",
    "            if (matrix[i][j] != 9) and (point not in basins[low][\"checked\"]):\n",
    "                basins[low][\"checked\"].append(point)\n",
    "                basins = nearest_neighbors_less_than_9(matrix,low,i,j,basins)\n",
    "    \n",
    "    basin_sizes = {low: len(basins[low][\"checked\"]) for low in basins}\n",
    "    product_largest_3 = np.product(sorted(basin_sizes.values())[-3:])\n",
    "    print(\"product of 3 largest basin sizes: \", product_largest_3)\n",
    "    \n",
    "    return risk_level, product_largest_3"
   ]
  },
  {
   "cell_type": "code",
   "execution_count": 118,
   "id": "a972379d-a0f0-4329-9e2e-ed9dc4be9439",
   "metadata": {},
   "outputs": [
    {
     "name": "stdout",
     "output_type": "stream",
     "text": [
      "risk level:  15\n",
      "product of 3 largest basin sizes:  1134\n"
     ]
    }
   ],
   "source": [
    "risk_level, product_largest_3 = compute_the_thing()\n",
    "assert risk_level == 15\n",
    "assert product_largest_3 == 1134"
   ]
  },
  {
   "cell_type": "code",
   "execution_count": 119,
   "id": "29921c47-920a-444f-9d74-7582bb117587",
   "metadata": {},
   "outputs": [
    {
     "name": "stdout",
     "output_type": "stream",
     "text": [
      "risk level:  480\n",
      "product of 3 largest basin sizes:  1045660\n"
     ]
    }
   ],
   "source": [
    "risk_level = compute_the_thing(\"input.txt\")"
   ]
  },
  {
   "cell_type": "code",
   "execution_count": null,
   "id": "97001d94-4ab5-4adb-98a4-86f8d68e994a",
   "metadata": {},
   "outputs": [],
   "source": []
  }
 ],
 "metadata": {
  "kernelspec": {
   "display_name": "Python 3",
   "language": "python",
   "name": "python3"
  },
  "language_info": {
   "codemirror_mode": {
    "name": "ipython",
    "version": 3
   },
   "file_extension": ".py",
   "mimetype": "text/x-python",
   "name": "python",
   "nbconvert_exporter": "python",
   "pygments_lexer": "ipython3",
   "version": "3.9.6"
  }
 },
 "nbformat": 4,
 "nbformat_minor": 5
}
