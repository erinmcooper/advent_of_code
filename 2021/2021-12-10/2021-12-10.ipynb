{
 "cells": [
  {
   "cell_type": "code",
   "execution_count": 1,
   "metadata": {},
   "outputs": [],
   "source": [
    "import pandas as pd\n",
    "import numpy as np"
   ]
  },
  {
   "cell_type": "code",
   "execution_count": 88,
   "metadata": {},
   "outputs": [],
   "source": [
    "def compute_the_thing(input_file=\"test_input.txt\"):\n",
    "    \n",
    "    with open(input_file, 'r') as f:\n",
    "        data = f.readlines()\n",
    "        \n",
    "    data = [line.strip('\\n') for line in data]\n",
    "    \n",
    "    opens = {\"(\":\")\", \"[\":\"]\",\"{\":\"}\",\"<\":\">\"}\n",
    "    points_per_corrupt_char = {\")\": 3, \"]\": 57, \"}\": 1197, \">\": 25137}\n",
    "    closes = {opens[key]: key for key in opens}\n",
    "    corrupt_score = 0\n",
    "    incomplete_scores = []\n",
    "    points_per_incomplete_char = {\")\": 1, \"]\": 2, \"}\": 3, \">\": 4}\n",
    "    counts = {char: 0 for char in opens}\n",
    "    expect = []\n",
    "    illegal = False\n",
    "    for line,idx in zip(data,range(len(data))):\n",
    "        for char in line:\n",
    "            if char in opens:\n",
    "                expect.append(opens[char])\n",
    "            elif char in closes:\n",
    "                if char == expect[-1]:\n",
    "                    expect.pop(-1)\n",
    "                elif char != expect[-1]:\n",
    "                    illegal = True\n",
    "                    corrupt_score += points_per_corrupt_char[char]\n",
    "                    #print(idx,line, f\"illegal {char} found! score {points_per_corrupt_char[char]} added; new score {corrupt_score}\")\n",
    "                    break\n",
    "        score = 0\n",
    "        if not illegal:\n",
    "            for char in reversed(expect):\n",
    "                score *= 5\n",
    "                score += points_per_incomplete_char[char]\n",
    "            incomplete_scores.append(score)\n",
    "            #print(idx,line, \"incomplete\", \"\".join(expect), score)\n",
    "        expect = []\n",
    "        illegal = False\n",
    "    \n",
    "    incomplete_score = np.median(incomplete_scores)\n",
    "    \n",
    "    return corrupt_score, incomplete_score"
   ]
  },
  {
   "cell_type": "code",
   "execution_count": 89,
   "metadata": {},
   "outputs": [],
   "source": [
    "corrupt_score, incomplete_score = compute_the_thing()\n",
    "assert corrupt_score == 26397\n",
    "assert incomplete_score == 288957"
   ]
  },
  {
   "cell_type": "code",
   "execution_count": 90,
   "metadata": {},
   "outputs": [
    {
     "name": "stdout",
     "output_type": "stream",
     "text": [
      "PART 1: corrupted score 271245\n",
      "PART 2: incomplete score 1685293086.0\n"
     ]
    }
   ],
   "source": [
    "corrupted_score, incomplete_score = compute_the_thing(\"input.txt\")\n",
    "print(f\"PART 1: corrupted score {corrupted_score}\")\n",
    "print(f\"PART 2: incomplete score {incomplete_score}\")"
   ]
  },
  {
   "cell_type": "code",
   "execution_count": null,
   "metadata": {},
   "outputs": [],
   "source": []
  }
 ],
 "metadata": {
  "kernelspec": {
   "display_name": "Python 3",
   "language": "python",
   "name": "python3"
  },
  "language_info": {
   "codemirror_mode": {
    "name": "ipython",
    "version": 3
   },
   "file_extension": ".py",
   "mimetype": "text/x-python",
   "name": "python",
   "nbconvert_exporter": "python",
   "pygments_lexer": "ipython3",
   "version": "3.8.3"
  }
 },
 "nbformat": 4,
 "nbformat_minor": 4
}
