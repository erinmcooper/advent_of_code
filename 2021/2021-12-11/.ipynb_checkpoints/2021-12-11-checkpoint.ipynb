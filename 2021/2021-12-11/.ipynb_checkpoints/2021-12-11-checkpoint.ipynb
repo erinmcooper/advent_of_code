{
 "cells": [
  {
   "cell_type": "code",
   "execution_count": 1,
   "metadata": {},
   "outputs": [],
   "source": [
    "import pandas as pd\n",
    "import numpy as np"
   ]
  },
  {
   "cell_type": "code",
   "execution_count": 35,
   "metadata": {},
   "outputs": [],
   "source": [
    "def flash(matrix,i,j,total_flashes,num_rows,num_cols):\n",
    "    \n",
    "    # convert flash point\n",
    "    total_flashes += 1\n",
    "    \n",
    "    # top left\n",
    "    if (i != 0) and (j != 0):\n",
    "        matrix[i-1][j-1] += 1\n",
    "    # top middle\n",
    "    if (i != 0):\n",
    "        matrix[i-1][j] += 1\n",
    "    # top right\n",
    "    if (i != 0) and (j != num_cols-1):\n",
    "        matrix[i-1][j+1] += 1\n",
    "    # left\n",
    "    if (j != 0):\n",
    "        matrix[i][j-1] += 1\n",
    "    # right\n",
    "    if (j != num_cols-1):\n",
    "        matrix[i][j+1] += 1\n",
    "    # bottom left\n",
    "    if (i != num_rows-1) and (j != 0):\n",
    "        matrix[i+1][j-1] += 1\n",
    "    # bottom middle\n",
    "    if (i != num_rows-1):\n",
    "        matrix[i+1][j] += 1\n",
    "    # bottom right\n",
    "    if (i != num_rows-1) and (j != num_cols-1):\n",
    "        matrix[i+1][j+1] += 1\n",
    "        \n",
    "    return matrix, total_flashes\n",
    "        \n",
    "    "
   ]
  },
  {
   "cell_type": "code",
   "execution_count": 83,
   "metadata": {},
   "outputs": [],
   "source": [
    "def compute_the_thing1(input_file=\"test_input.txt\", steps=1):\n",
    "    \n",
    "    with open(input_file, 'r') as f:\n",
    "        data = f.readlines()\n",
    "    data = [line.strip(\"\\n\") for line in data]\n",
    "    \n",
    "    matrix = np.array([[int(line[idx]) for line in data] for idx in range(len(data[0]))]).transpose()\n",
    "    num_rows, num_cols = matrix.shape\n",
    "    \n",
    "    total_flashes = 0\n",
    "    \n",
    "    for step in range(steps):\n",
    "        points_to_zero = []\n",
    "        matrix += 1\n",
    "        result = np.where(matrix>9)\n",
    "        while len(result[0]) > 0:\n",
    "            for i,j in zip(result[0],result[1]):\n",
    "                matrix, total_flashes = flash(matrix,i,j,total_flashes,num_rows,num_cols)\n",
    "                points_to_zero.append((i,j))\n",
    "            result = np.where(matrix>9)\n",
    "        for point in points_to_zero:\n",
    "            i,j = point\n",
    "            matrix[i][j] = 0\n",
    "    \n",
    "    return total_flashes, matrix"
   ]
  },
  {
   "cell_type": "code",
   "execution_count": 84,
   "metadata": {},
   "outputs": [],
   "source": [
    "total_flashes, matrix = compute_the_thing1(steps=100)\n",
    "assert total_flashes == 1656"
   ]
  },
  {
   "cell_type": "code",
   "execution_count": 85,
   "metadata": {},
   "outputs": [
    {
     "data": {
      "text/plain": [
       "1743"
      ]
     },
     "execution_count": 85,
     "metadata": {},
     "output_type": "execute_result"
    }
   ],
   "source": [
    "total_flashes, matrix = compute_the_thing(input_file=\"input.txt\",steps=100)\n",
    "total_flashes"
   ]
  },
  {
   "cell_type": "code",
   "execution_count": 80,
   "metadata": {},
   "outputs": [],
   "source": [
    "def compute_the_thing2(input_file=\"test_input.txt\"):\n",
    "    \n",
    "    with open(input_file, 'r') as f:\n",
    "        data = f.readlines()\n",
    "    data = [line.strip(\"\\n\") for line in data]\n",
    "    \n",
    "    matrix = np.array([[int(line[idx]) for line in data] for idx in range(len(data[0]))]).transpose()\n",
    "    num_rows, num_cols = matrix.shape\n",
    "    \n",
    "    total_flashes = 0\n",
    "    \n",
    "    steps = 0\n",
    "    while matrix.sum() > 0:\n",
    "        points_to_zero = []\n",
    "        matrix += 1\n",
    "        result = np.where(matrix>9)\n",
    "        while len(result[0]) > 0:\n",
    "            for i,j in zip(result[0],result[1]):\n",
    "                matrix, total_flashes = flash(matrix,i,j,total_flashes,num_rows,num_cols)\n",
    "                points_to_zero.append((i,j))\n",
    "            result = np.where(matrix>9)\n",
    "        for point in points_to_zero:\n",
    "            i,j = point\n",
    "            matrix[i][j] = 0\n",
    "        steps += 1\n",
    "    \n",
    "    return steps, matrix"
   ]
  },
  {
   "cell_type": "code",
   "execution_count": 81,
   "metadata": {},
   "outputs": [],
   "source": [
    "steps, matrix = compute_the_thing2()\n",
    "assert steps == 195"
   ]
  },
  {
   "cell_type": "code",
   "execution_count": 82,
   "metadata": {},
   "outputs": [
    {
     "data": {
      "text/plain": [
       "364"
      ]
     },
     "execution_count": 82,
     "metadata": {},
     "output_type": "execute_result"
    }
   ],
   "source": [
    "steps, matrix = compute_the_thing2(input_file=\"input.txt\")\n",
    "steps"
   ]
  },
  {
   "cell_type": "code",
   "execution_count": null,
   "metadata": {},
   "outputs": [],
   "source": []
  }
 ],
 "metadata": {
  "kernelspec": {
   "display_name": "Python 3",
   "language": "python",
   "name": "python3"
  },
  "language_info": {
   "codemirror_mode": {
    "name": "ipython",
    "version": 3
   },
   "file_extension": ".py",
   "mimetype": "text/x-python",
   "name": "python",
   "nbconvert_exporter": "python",
   "pygments_lexer": "ipython3",
   "version": "3.8.3"
  }
 },
 "nbformat": 4,
 "nbformat_minor": 4
}
