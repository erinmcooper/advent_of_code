{
 "cells": [
  {
   "cell_type": "code",
   "execution_count": 134,
   "metadata": {},
   "outputs": [],
   "source": [
    "import pandas as pd\n",
    "import numpy as np\n",
    "import datetime"
   ]
  },
  {
   "cell_type": "code",
   "execution_count": 124,
   "metadata": {},
   "outputs": [],
   "source": [
    "def compute_the_thing(input_file=\"test_input_small.txt\",allowed_smalls=1):\n",
    "    \n",
    "    with open(input_file, 'r') as f:\n",
    "        data = f.readlines()\n",
    "        \n",
    "    data = [line.strip(\"\\n\") for line in data]\n",
    "    \n",
    "    caves = []\n",
    "    for line in data:\n",
    "        i,j = line.split(\"-\")\n",
    "        caves.extend([i,j])\n",
    "    caves = list(set(caves))\n",
    "    \n",
    "    smalls = [cave for cave in caves if cave==cave.lower() and cave!=\"start\" and cave!=\"end\"]\n",
    "    \n",
    "    starts = []\n",
    "    for start in [tuple(line.split(\"-\")) for line in data if \"start\" in line]:\n",
    "        i,j = start\n",
    "        if i!=\"start\":\n",
    "            starts.append((j,i))\n",
    "        else:\n",
    "            starts.append((i,j))\n",
    "            \n",
    "    middles = [tuple(line.split(\"-\")) for line in data if \"start\" not in line and \"end\" not in line]\n",
    "    reverse_middles = []\n",
    "    for middle in middles:\n",
    "        i,j = middle\n",
    "        reverse_middles.append((j,i))\n",
    "    middles.extend(reverse_middles)\n",
    "    \n",
    "    ends = []\n",
    "    for end in [tuple(line.split(\"-\")) for line in data if \"end\" in line]:\n",
    "        i,j = end\n",
    "        if j!=\"end\":\n",
    "            ends.append((j,i))\n",
    "        else:\n",
    "            ends.append((i,j))\n",
    "            \n",
    "    middles_ends = []\n",
    "    middles_ends.extend(middles)\n",
    "    middles_ends.extend(ends)\n",
    "    \n",
    "    finished_paths = []\n",
    "    unfinished_paths = []\n",
    "    illegal_paths = []\n",
    "    for start in starts:\n",
    "        last_node = start[1]\n",
    "        possible_paths = [path for path in middles_ends if path[0]==last_node]\n",
    "        for node in possible_paths:\n",
    "            path = [\"start\",start[1],node[1]]\n",
    "            if \"end\" in node:\n",
    "                finished_paths.append(tuple(path))\n",
    "            else:\n",
    "                unfinished_paths.append(path)\n",
    "    # print(\"finished\", finished_paths)\n",
    "    # print(\"unfinished\", unfinished_paths)\n",
    "    i=0\n",
    "    while len(unfinished_paths) > 0:\n",
    "        unfinished = unfinished_paths.pop(0)\n",
    "        last_node = unfinished[-1]\n",
    "        possible_paths = [path for path in middles_ends if path[0]==last_node]\n",
    "        for node in possible_paths:\n",
    "            path = list(unfinished)\n",
    "            path.append(node[1])\n",
    "            # check illegal\n",
    "            illegal = False\n",
    "            if allowed_smalls == 1:\n",
    "                illegal_path = [0 for cave in smalls if path.count(cave)>allowed_smalls]\n",
    "                if 0 in illegal_path:\n",
    "                    illegal = True\n",
    "            elif allowed_smalls == 2:\n",
    "                illegal_path = [path.count(cave) for cave in smalls]\n",
    "                if any(c > allowed_smalls for c in illegal_path):\n",
    "                    illegal = True\n",
    "                elif illegal_path.count(allowed_smalls)>1:\n",
    "                    illegal = True\n",
    "            if illegal:\n",
    "                # print(\"illegal\", path)\n",
    "                illegal_paths.append(tuple(path))\n",
    "            elif \"end\" in node:\n",
    "                # print(\"finished\", path)\n",
    "                finished_paths.append(tuple(path))\n",
    "            else:\n",
    "                # print(\"unfinished\", path)\n",
    "                unfinished_paths.append(tuple(path))\n",
    "        i+=1\n",
    "        \n",
    "    num_paths = len(finished_paths)\n",
    "    print(i, num_paths)\n",
    "    return data, finished_paths, num_paths"
   ]
  },
  {
   "cell_type": "code",
   "execution_count": 125,
   "metadata": {},
   "outputs": [
    {
     "name": "stdout",
     "output_type": "stream",
     "text": [
      "14 10\n"
     ]
    }
   ],
   "source": [
    "data, finished_paths, num_paths = compute_the_thing(input_file=\"test_input_small.txt\")\n",
    "assert num_paths == 10"
   ]
  },
  {
   "cell_type": "code",
   "execution_count": 126,
   "metadata": {},
   "outputs": [
    {
     "name": "stdout",
     "output_type": "stream",
     "text": [
      "54 36\n"
     ]
    }
   ],
   "source": [
    "data, finished_paths, num_paths = compute_the_thing(input_file=\"test_input_small.txt\", allowed_smalls=2)\n",
    "assert num_paths == 36"
   ]
  },
  {
   "cell_type": "code",
   "execution_count": 128,
   "metadata": {},
   "outputs": [
    {
     "name": "stdout",
     "output_type": "stream",
     "text": [
      "34 19\n"
     ]
    }
   ],
   "source": [
    "data, finished_paths, num_paths = compute_the_thing(input_file=\"test_input_medium.txt\")\n",
    "assert num_paths == 19"
   ]
  },
  {
   "cell_type": "code",
   "execution_count": 129,
   "metadata": {},
   "outputs": [
    {
     "name": "stdout",
     "output_type": "stream",
     "text": [
      "196 103\n"
     ]
    }
   ],
   "source": [
    "data, finished_paths, num_paths = compute_the_thing(input_file=\"test_input_medium.txt\", allowed_smalls=2)\n",
    "assert num_paths == 103"
   ]
  },
  {
   "cell_type": "code",
   "execution_count": 131,
   "metadata": {},
   "outputs": [
    {
     "name": "stdout",
     "output_type": "stream",
     "text": [
      "1003 226\n"
     ]
    }
   ],
   "source": [
    "data, finished_paths, num_paths = compute_the_thing(input_file=\"test_input_large.txt\")\n",
    "assert num_paths == 226"
   ]
  },
  {
   "cell_type": "code",
   "execution_count": 132,
   "metadata": {},
   "outputs": [
    {
     "name": "stdout",
     "output_type": "stream",
     "text": [
      "17407 3509\n"
     ]
    }
   ],
   "source": [
    "data, finished_paths, num_paths = compute_the_thing(input_file=\"test_input_large.txt\", allowed_smalls=2)\n",
    "assert num_paths == 3509"
   ]
  },
  {
   "cell_type": "code",
   "execution_count": 135,
   "metadata": {},
   "outputs": [
    {
     "name": "stdout",
     "output_type": "stream",
     "text": [
      "17324 3497\n",
      "0:00:00.295015\n"
     ]
    }
   ],
   "source": [
    "start_time = datetime.datetime.now()\n",
    "data, finished_paths, num_paths = compute_the_thing(input_file=\"input.txt\")\n",
    "print(datetime.datetime.now()-start_time)"
   ]
  },
  {
   "cell_type": "code",
   "execution_count": 136,
   "metadata": {},
   "outputs": [
    {
     "name": "stdout",
     "output_type": "stream",
     "text": [
      "480641 93686\n",
      "0:01:30.112754\n"
     ]
    }
   ],
   "source": [
    "start_time = datetime.datetime.now()\n",
    "data, finished_paths, num_paths = compute_the_thing(input_file=\"input.txt\", allowed_smalls=2)\n",
    "print(datetime.datetime.now()-start_time)"
   ]
  },
  {
   "cell_type": "code",
   "execution_count": null,
   "metadata": {},
   "outputs": [],
   "source": []
  }
 ],
 "metadata": {
  "kernelspec": {
   "display_name": "Python 3",
   "language": "python",
   "name": "python3"
  },
  "language_info": {
   "codemirror_mode": {
    "name": "ipython",
    "version": 3
   },
   "file_extension": ".py",
   "mimetype": "text/x-python",
   "name": "python",
   "nbconvert_exporter": "python",
   "pygments_lexer": "ipython3",
   "version": "3.8.3"
  }
 },
 "nbformat": 4,
 "nbformat_minor": 4
}
