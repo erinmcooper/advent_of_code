{
 "cells": [
  {
   "cell_type": "code",
   "execution_count": 1,
   "metadata": {},
   "outputs": [],
   "source": [
    "import pandas as pd\n",
    "import numpy as np"
   ]
  },
  {
   "cell_type": "code",
   "execution_count": 65,
   "metadata": {},
   "outputs": [],
   "source": [
    "def fold(dots, instruction):\n",
    "    \n",
    "    folded_dots = []\n",
    "    axis,loc = instruction \n",
    "    if axis == \"x\":\n",
    "        for dot in dots:\n",
    "            x,y = dot\n",
    "            if x > loc:\n",
    "                folded_dots.append((x-2*(x-loc),y))\n",
    "            else:\n",
    "                folded_dots.append((x,y))\n",
    "    if axis == \"y\":\n",
    "        for dot in dots:\n",
    "            x,y = dot\n",
    "            if y > loc:\n",
    "                folded_dots.append((x,y-2*(y-loc)))\n",
    "            else:\n",
    "                folded_dots.append((x,y))\n",
    "                \n",
    "    return folded_dots"
   ]
  },
  {
   "cell_type": "code",
   "execution_count": 82,
   "metadata": {},
   "outputs": [],
   "source": [
    "def compute_the_thing(input_file=\"test_input.txt\"):\n",
    "    \n",
    "    with open(input_file,'r') as f:\n",
    "        data = f.readlines()\n",
    "    data = [line.strip(\"\\n\") for line in data]\n",
    "    \n",
    "    dots = [tuple([int(i) for i in line.split(\",\")]) for line in data if \"fold\" not in line and line != \"\"]\n",
    "    instructions = [line.split()[-1].split(\"=\") for line in data if \"fold\" in line]\n",
    "    for idx in range(len(instructions)):\n",
    "        i,j=instructions[idx]\n",
    "        instructions[idx] = (i,int(j))\n",
    "        \n",
    "    folded_dots = dots.copy()\n",
    "    for instruction in instructions:\n",
    "        folded_dots = fold(folded_dots,instruction)\n",
    "                \n",
    "    return folded_dots"
   ]
  },
  {
   "cell_type": "code",
   "execution_count": 83,
   "metadata": {},
   "outputs": [],
   "source": [
    "folded_dots = compute_the_thing()\n",
    "assert len(set(once_folded_dots)) == 17"
   ]
  },
  {
   "cell_type": "code",
   "execution_count": 87,
   "metadata": {},
   "outputs": [
    {
     "data": {
      "text/plain": [
       "98"
      ]
     },
     "execution_count": 87,
     "metadata": {},
     "output_type": "execute_result"
    }
   ],
   "source": [
    "folded_dots = compute_the_thing(\"input.txt\")\n",
    "len(set(folded_dots))"
   ]
  },
  {
   "cell_type": "code",
   "execution_count": 69,
   "metadata": {},
   "outputs": [
    {
     "data": {
      "text/plain": [
       "[(6, 4),\n",
       " (0, 0),\n",
       " (9, 4),\n",
       " (0, 3),\n",
       " (10, 4),\n",
       " (4, 3),\n",
       " (6, 0),\n",
       " (6, 2),\n",
       " (4, 1),\n",
       " (0, 1),\n",
       " (10, 2),\n",
       " (3, 4),\n",
       " (3, 0),\n",
       " (8, 4),\n",
       " (1, 4),\n",
       " (2, 0),\n",
       " (8, 4),\n",
       " (9, 0)]"
      ]
     },
     "execution_count": 69,
     "metadata": {},
     "output_type": "execute_result"
    }
   ],
   "source": [
    "folded_dots"
   ]
  },
  {
   "cell_type": "code",
   "execution_count": 73,
   "metadata": {},
   "outputs": [],
   "source": [
    "import matplotlib.pyplot as plt\n",
    "plt.style.use(\"ggplot\")\n",
    "%matplotlib inline"
   ]
  },
  {
   "cell_type": "code",
   "execution_count": 90,
   "metadata": {},
   "outputs": [
    {
     "data": {
      "text/plain": [
       "<matplotlib.collections.PathCollection at 0x7fe5c9f06760>"
      ]
     },
     "execution_count": 90,
     "metadata": {},
     "output_type": "execute_result"
    },
    {
     "data": {
      "image/png": "[encoded data removed]",
      "text/plain": [
       "<Figure size 1440x288 with 1 Axes>"
      ]
     },
     "metadata": {
      "needs_background": "light"
     },
     "output_type": "display_data"
    }
   ],
   "source": [
    "fig,ax = plt.subplots(figsize=(20,4))\n",
    "x = [dot[0] for dot in folded_dots]\n",
    "y = [-dot[1] for dot in folded_dots]\n",
    "plt.scatter(x,y)"
   ]
  },
  {
   "cell_type": "code",
   "execution_count": null,
   "metadata": {},
   "outputs": [],
   "source": []
  }
 ],
 "metadata": {
  "kernelspec": {
   "display_name": "Python 3",
   "language": "python",
   "name": "python3"
  },
  "language_info": {
   "codemirror_mode": {
    "name": "ipython",
    "version": 3
   },
   "file_extension": ".py",
   "mimetype": "text/x-python",
   "name": "python",
   "nbconvert_exporter": "python",
   "pygments_lexer": "ipython3",
   "version": "3.8.3"
  }
 },
 "nbformat": 4,
 "nbformat_minor": 4
}
