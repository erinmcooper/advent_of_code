{
 "cells": [
  {
   "cell_type": "code",
   "execution_count": 5,
   "id": "f9815ab6-d321-40f1-92de-c1dc26e3b21d",
   "metadata": {},
   "outputs": [],
   "source": [
    "import pandas as pd\n",
    "import numpy as np\n",
    "\n",
    "import binascii"
   ]
  },
  {
   "cell_type": "code",
   "execution_count": 144,
   "id": "1967fc19-bbad-4c6a-a09d-021cca618b36",
   "metadata": {},
   "outputs": [],
   "source": [
    "hex_to_bin = {\n",
    "    \"0\": \"0000\",\n",
    "    \"1\": \"0001\",\n",
    "    \"2\": \"0010\",\n",
    "    \"3\": \"0011\",\n",
    "    \"4\": \"0100\",\n",
    "    \"5\": \"0101\",\n",
    "    \"6\": \"0110\",\n",
    "    \"7\": \"0111\",\n",
    "    \"8\": \"1000\",\n",
    "    \"9\": \"1001\",\n",
    "    \"A\": \"1010\",\n",
    "    \"B\": \"1011\",\n",
    "    \"C\": \"1100\",\n",
    "    \"D\": \"1101\",\n",
    "    \"E\": \"1110\",\n",
    "    \"F\": \"1111\",\n",
    "}"
   ]
  },
  {
   "cell_type": "code",
   "execution_count": 42,
   "id": "93e3f882-e64c-41bb-a24e-f81f651fe6e5",
   "metadata": {},
   "outputs": [],
   "source": [
    "HEADER = [\n",
    "    {\"size\": 3, \"indent\": 0, \"name\": \"version\"},\n",
    "    {\"size\": 3, \"indent\": 3, \"name\": \"type_id\"},\n",
    "]"
   ]
  },
  {
   "cell_type": "code",
   "execution_count": 175,
   "id": "b723244d-8b42-4421-a90c-e5bb5a598d30",
   "metadata": {},
   "outputs": [],
   "source": [
    "def decode_type_4(data, info):\n",
    "    \"\"\" type_id 4 is a literal \"\"\"\n",
    "    \n",
    "    litteral = \"\"\n",
    "    for i in range((len(data)-6)//5):\n",
    "        litteral += data[3:][3:][i*5:][1:][:4]\n",
    "        if data[3:][3:][i*5:][:1] == 0:\n",
    "            break\n",
    "    \n",
    "    info[\"litteral\"] = int(litteral,2)\n",
    "    print(info)\n",
    "    \n",
    "    return info"
   ]
  },
  {
   "cell_type": "code",
   "execution_count": 176,
   "id": "d3b24453-4c45-4d94-b2d7-5c9978f8b02e",
   "metadata": {},
   "outputs": [],
   "source": [
    "def decode_length_type_0(data, info):\n",
    "    \"\"\" length_type 0 \"\"\"\n",
    "    \n",
    "    info[\"total_length_subpackets\"] = int(data[3:][3:][1:][:15],2)\n",
    "    info[\"subpackets_bin\"] = []\n",
    "    info[\"subpackets_bin\"].append(data[3:][3:][1:][15:][:11])\n",
    "    info[\"subpackets_bin\"].append(data[3:][3:][1:][15:][11:][:info[\"total_length_subpackets\"]-11])\n",
    "    \n",
    "    \n",
    "    info[\"subpackets\"] = []\n",
    "    for packet in info[\"subpackets_bin\"]:\n",
    "        sub_info = decode_subpackets(packet)\n",
    "        info[\"subpackets\"].append(sub_info)\n",
    "        \n",
    "    print(\"length type 0\", info)\n",
    "    return info\n",
    "\n",
    "def decode_length_type_1(data, info):\n",
    "    \"\"\" length_type 1 \"\"\"\n",
    "    \n",
    "    info[\"num_subpackets\"] = int(data[3:][3:][1:][:11],2)\n",
    "    info[\"subpackets_bin\"] = []\n",
    "    for packet in range(info[\"num_subpackets\"]):\n",
    "        info[\"subpackets_bin\"].append(data[3:][3:][1:][11*i:][:11])\n",
    "    \n",
    "    info[\"subpackets\"] = []\n",
    "    for packet in info[\"subpackets_bin\"]:\n",
    "        sub_info = decode_subpackets(packet)\n",
    "        info[\"subpackets\"].append(sub_info)\n",
    "        \n",
    "    #print(\"length type 1\", info)\n",
    "    return info    "
   ]
  },
  {
   "cell_type": "code",
   "execution_count": 177,
   "id": "4e2dc9be-6aef-4eb1-b2d1-488ee8559643",
   "metadata": {},
   "outputs": [],
   "source": [
    "def decode_subpackets(packet):\n",
    "    \n",
    "    sub_info = {}\n",
    "    for item in HEADER:\n",
    "        #print(\"indent\", type(item[\"indent\"]), \"size\", type(item[\"size\"]))\n",
    "        sub_info[item[\"name\"]] = int(packet[item[\"indent\"]:][:item[\"size\"]],2)\n",
    "    \n",
    "    if sub_info[\"type_id\"] == 4:\n",
    "        sub_info = decode_type_4(packet, sub_info)\n",
    "    if sub_info[\"type_id\"] != 4:\n",
    "        sub_info[\"length_id\"] = packet[3:][3:][:1]\n",
    "        if sub_info[\"length_id\"] == 0:\n",
    "            sub_info = decode_length_type_0(packet, sub_info)\n",
    "        elif sub_info[\"length_id\"] == 1:\n",
    "            sub_info = decode_length_type_1(packet, sub_info)\n",
    "            \n",
    "    return sub_info"
   ]
  },
  {
   "cell_type": "code",
   "execution_count": 178,
   "id": "53488597-6d76-4ba8-9ddf-dda211828539",
   "metadata": {},
   "outputs": [],
   "source": [
    "def compute_the_thing(input_file=\"test_input.txt\"):\n",
    "    \n",
    "    with open(input_file, 'r') as f:\n",
    "        data = f.readlines()\n",
    "        \n",
    "    code = [line.strip(\"\\n\") for line in data][0]\n",
    "    data = \"\"\n",
    "    \n",
    "    for char in code:\n",
    "        data += hex_to_bin[char]\n",
    "    \n",
    "    print(code)\n",
    "    print(data)\n",
    "    \n",
    "    info = {}\n",
    "    for item in HEADER:\n",
    "        print(item[\"name\"], int(data[item[\"indent\"]:][:item[\"size\"]],2))\n",
    "        info[item[\"name\"]] = int(data[item[\"indent\"]:][:item[\"size\"]],2)\n",
    "        \n",
    "    if info[\"type_id\"] == 4:\n",
    "        info = decode_type_4(data, info)\n",
    "        \n",
    "    if (info[\"type_id\"] != 4):\n",
    "        info[\"length_id\"] = int(data[3:][3:][:1])\n",
    "        if info[\"length_id\"] == 0:\n",
    "            info = decode_length_type_0(data, info)\n",
    "        elif info[\"length_id\"] == 1:\n",
    "            info = decode_length_type_1(data, info)\n",
    "    \n",
    "    return info"
   ]
  },
  {
   "cell_type": "code",
   "execution_count": 179,
   "id": "52cbdccd-f997-4c69-b179-f4d8f9e272e8",
   "metadata": {},
   "outputs": [
    {
     "name": "stdout",
     "output_type": "stream",
     "text": [
      "D2FE28\n",
      "110100101111111000101000\n",
      "version 6\n",
      "type_id 4\n",
      "{'version': 6, 'type_id': 4, 'litteral': 2021}\n"
     ]
    }
   ],
   "source": [
    "info = compute_the_thing(\"test_input_example.txt\")"
   ]
  },
  {
   "cell_type": "code",
   "execution_count": 183,
   "id": "d317f1e5-832e-42d6-a43b-cd27d658f72f",
   "metadata": {},
   "outputs": [
    {
     "name": "stdout",
     "output_type": "stream",
     "text": [
      "38006F45291200\n",
      "00111000000000000110111101000101001010010001001000000000\n",
      "version 1\n",
      "type_id 6\n",
      "{'version': 6, 'type_id': 4, 'litteral': 10}\n",
      "{'version': 2, 'type_id': 4, 'litteral': 20}\n",
      "length type 0 {'version': 1, 'type_id': 6, 'length_id': 0, 'total_length_subpackets': 27, 'subpackets_bin': ['11010001010', '0101001000100100'], 'subpackets': [{'version': 6, 'type_id': 4, 'litteral': 10}, {'version': 2, 'type_id': 4, 'litteral': 20}]}\n"
     ]
    }
   ],
   "source": [
    "info = compute_the_thing(\"test_input2.txt\")"
   ]
  },
  {
   "cell_type": "code",
   "execution_count": 184,
   "id": "56443d35-bd85-4d57-acfc-0e6992b4d705",
   "metadata": {},
   "outputs": [
    {
     "name": "stdout",
     "output_type": "stream",
     "text": [
      "EE00D40C823060\n",
      "11101110000000001101010000001100100000100011000001100000\n",
      "version 7\n",
      "type_id 3\n"
     ]
    },
    {
     "ename": "NameError",
     "evalue": "name 'i' is not defined",
     "output_type": "error",
     "traceback": [
      "\u001b[0;31m---------------------------------------------------------------------------\u001b[0m",
      "\u001b[0;31mNameError\u001b[0m                                 Traceback (most recent call last)",
      "\u001b[0;32m<ipython-input-184-6feb77d50a53>\u001b[0m in \u001b[0;36m<module>\u001b[0;34m\u001b[0m\n\u001b[0;32m----> 1\u001b[0;31m \u001b[0minfo\u001b[0m \u001b[0;34m=\u001b[0m \u001b[0mcompute_the_thing\u001b[0m\u001b[0;34m(\u001b[0m\u001b[0;34m\"test_input3.txt\"\u001b[0m\u001b[0;34m)\u001b[0m\u001b[0;34m\u001b[0m\u001b[0;34m\u001b[0m\u001b[0m\n\u001b[0m",
      "\u001b[0;32m<ipython-input-178-0a661eb3ff2a>\u001b[0m in \u001b[0;36mcompute_the_thing\u001b[0;34m(input_file)\u001b[0m\n\u001b[1;32m     26\u001b[0m             \u001b[0minfo\u001b[0m \u001b[0;34m=\u001b[0m \u001b[0mdecode_length_type_0\u001b[0m\u001b[0;34m(\u001b[0m\u001b[0mdata\u001b[0m\u001b[0;34m,\u001b[0m \u001b[0minfo\u001b[0m\u001b[0;34m)\u001b[0m\u001b[0;34m\u001b[0m\u001b[0;34m\u001b[0m\u001b[0m\n\u001b[1;32m     27\u001b[0m         \u001b[0;32melif\u001b[0m \u001b[0minfo\u001b[0m\u001b[0;34m[\u001b[0m\u001b[0;34m\"length_id\"\u001b[0m\u001b[0;34m]\u001b[0m \u001b[0;34m==\u001b[0m \u001b[0;36m1\u001b[0m\u001b[0;34m:\u001b[0m\u001b[0;34m\u001b[0m\u001b[0;34m\u001b[0m\u001b[0m\n\u001b[0;32m---> 28\u001b[0;31m             \u001b[0minfo\u001b[0m \u001b[0;34m=\u001b[0m \u001b[0mdecode_length_type_1\u001b[0m\u001b[0;34m(\u001b[0m\u001b[0mdata\u001b[0m\u001b[0;34m,\u001b[0m \u001b[0minfo\u001b[0m\u001b[0;34m)\u001b[0m\u001b[0;34m\u001b[0m\u001b[0;34m\u001b[0m\u001b[0m\n\u001b[0m\u001b[1;32m     29\u001b[0m \u001b[0;34m\u001b[0m\u001b[0m\n\u001b[1;32m     30\u001b[0m     \u001b[0;32mreturn\u001b[0m \u001b[0minfo\u001b[0m\u001b[0;34m\u001b[0m\u001b[0;34m\u001b[0m\u001b[0m\n",
      "\u001b[0;32m<ipython-input-176-dd07db67bf41>\u001b[0m in \u001b[0;36mdecode_length_type_1\u001b[0;34m(data, info)\u001b[0m\n\u001b[1;32m     22\u001b[0m     \u001b[0minfo\u001b[0m\u001b[0;34m[\u001b[0m\u001b[0;34m\"subpackets_bin\"\u001b[0m\u001b[0;34m]\u001b[0m \u001b[0;34m=\u001b[0m \u001b[0;34m[\u001b[0m\u001b[0;34m]\u001b[0m\u001b[0;34m\u001b[0m\u001b[0;34m\u001b[0m\u001b[0m\n\u001b[1;32m     23\u001b[0m     \u001b[0;32mfor\u001b[0m \u001b[0mpacket\u001b[0m \u001b[0;32min\u001b[0m \u001b[0mrange\u001b[0m\u001b[0;34m(\u001b[0m\u001b[0minfo\u001b[0m\u001b[0;34m[\u001b[0m\u001b[0;34m\"num_subpackets\"\u001b[0m\u001b[0;34m]\u001b[0m\u001b[0;34m)\u001b[0m\u001b[0;34m:\u001b[0m\u001b[0;34m\u001b[0m\u001b[0;34m\u001b[0m\u001b[0m\n\u001b[0;32m---> 24\u001b[0;31m         \u001b[0minfo\u001b[0m\u001b[0;34m[\u001b[0m\u001b[0;34m\"subpackets_bin\"\u001b[0m\u001b[0;34m]\u001b[0m\u001b[0;34m.\u001b[0m\u001b[0mappend\u001b[0m\u001b[0;34m(\u001b[0m\u001b[0mdata\u001b[0m\u001b[0;34m[\u001b[0m\u001b[0;36m3\u001b[0m\u001b[0;34m:\u001b[0m\u001b[0;34m]\u001b[0m\u001b[0;34m[\u001b[0m\u001b[0;36m3\u001b[0m\u001b[0;34m:\u001b[0m\u001b[0;34m]\u001b[0m\u001b[0;34m[\u001b[0m\u001b[0;36m1\u001b[0m\u001b[0;34m:\u001b[0m\u001b[0;34m]\u001b[0m\u001b[0;34m[\u001b[0m\u001b[0;36m11\u001b[0m\u001b[0;34m*\u001b[0m\u001b[0mi\u001b[0m\u001b[0;34m:\u001b[0m\u001b[0;34m]\u001b[0m\u001b[0;34m[\u001b[0m\u001b[0;34m:\u001b[0m\u001b[0;36m11\u001b[0m\u001b[0;34m]\u001b[0m\u001b[0;34m)\u001b[0m\u001b[0;34m\u001b[0m\u001b[0;34m\u001b[0m\u001b[0m\n\u001b[0m\u001b[1;32m     25\u001b[0m \u001b[0;34m\u001b[0m\u001b[0m\n\u001b[1;32m     26\u001b[0m     \u001b[0minfo\u001b[0m\u001b[0;34m[\u001b[0m\u001b[0;34m\"subpackets\"\u001b[0m\u001b[0;34m]\u001b[0m \u001b[0;34m=\u001b[0m \u001b[0;34m[\u001b[0m\u001b[0;34m]\u001b[0m\u001b[0;34m\u001b[0m\u001b[0;34m\u001b[0m\u001b[0m\n",
      "\u001b[0;31mNameError\u001b[0m: name 'i' is not defined"
     ]
    }
   ],
   "source": [
    "info = compute_the_thing(\"test_input3.txt\")"
   ]
  },
  {
   "cell_type": "code",
   "execution_count": null,
   "id": "a5aab961-0945-44be-b8d5-9e7d0c958cf8",
   "metadata": {},
   "outputs": [],
   "source": []
  }
 ],
 "metadata": {
  "kernelspec": {
   "display_name": "Python 3",
   "language": "python",
   "name": "python3"
  },
  "language_info": {
   "codemirror_mode": {
    "name": "ipython",
    "version": 3
   },
   "file_extension": ".py",
   "mimetype": "text/x-python",
   "name": "python",
   "nbconvert_exporter": "python",
   "pygments_lexer": "ipython3",
   "version": "3.9.6"
  }
 },
 "nbformat": 4,
 "nbformat_minor": 5
}
