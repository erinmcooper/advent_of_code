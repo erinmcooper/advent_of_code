{
 "cells": [
  {
   "cell_type": "code",
   "execution_count": 1,
   "id": "e2cbed2a-b37d-4547-bfa7-f319b42abefc",
   "metadata": {},
   "outputs": [],
   "source": [
    "import pandas as pd\n",
    "import numpy as np"
   ]
  },
  {
   "cell_type": "code",
   "execution_count": 95,
   "id": "457b1554-d9bf-4173-a39d-f419087eef3b",
   "metadata": {},
   "outputs": [],
   "source": [
    "def hit_target(target, vx, vy, debug=False):\n",
    "    \n",
    "    x, y = (0,0)\n",
    "    ymax = 0\n",
    "    while True: #x <= target[\"x\"][0] and y >= target[\"y\"][1]:\n",
    "        \n",
    "        if vx == 0:\n",
    "            if y > ymax:\n",
    "                ymax = y\n",
    "                if debug:\n",
    "                    print(f\"y max: {y}\")\n",
    "        x = x + vx\n",
    "        if vx != 0:\n",
    "            vx = vx - 1 \n",
    "        y = y + vy\n",
    "        vy = vy - 1\n",
    "        \n",
    "        if debug:\n",
    "            print(f\"x: {x} vx: {vx} y: {y} vy: {vy}\")\n",
    "    \n",
    "        if (x > target[\"x\"][1]) or (y < target[\"y\"][0]):\n",
    "            if debug:\n",
    "                print(\"overshot target\")\n",
    "            return False, ymax\n",
    "        if ((x >= target[\"x\"][0]) and (x <= target[\"x\"][1])) and ((y >= target[\"y\"][0]) and (y <= target[\"y\"][1])):\n",
    "            if debug:\n",
    "                print(\"hit target\")\n",
    "            return True, ymax\n",
    "        \n",
    "    "
   ]
  },
  {
   "cell_type": "code",
   "execution_count": 128,
   "id": "3de24f02-c20c-486d-b19d-efe0c20fcea4",
   "metadata": {},
   "outputs": [],
   "source": [
    "def compute_the_thing(input_file=\"test_input.txt\", debug=False):\n",
    "    \n",
    "    with open(input_file, 'r') as f:\n",
    "        data = f.readlines()\n",
    "        \n",
    "    data = [line.strip(\"\\n\") for line in data]\n",
    "    target = {\"x\": tuple([int(num) for num in data[0].split()[2].split(\"=\")[-1].split(\",\")[0].split(\"..\")]),\n",
    "              \"y\": tuple([int(num) for num in data[0].split()[3].split(\"=\")[-1].split(\"..\")])}\n",
    "    \n",
    "    x = 0; y = 0\n",
    "    ymax = 0\n",
    "    hits = []\n",
    "    starting_range = max([abs(num) for num in [target[\"x\"][0],target[\"x\"][1],target[\"y\"][0],target[\"y\"][1]]])+1\n",
    "    for vx in range(-starting_range,starting_range):\n",
    "        for vy in range(-starting_range,starting_range):\n",
    "            # print(vx,vy)\n",
    "            hit, new_ymax = hit_target(target, vx, vy, debug=debug)\n",
    "            if hit:\n",
    "                hits.append((vx,vy))\n",
    "                if new_ymax > ymax:\n",
    "                    ymax = new_ymax\n",
    "                    winning_vx = vx\n",
    "                    winning_vy = vy\n",
    "                \n",
    "                    \n",
    "    if ymax != 0:\n",
    "        print(f\"ymax: {ymax} winning vx: {winning_vx} winning vy: {winning_vy} total hits: {len(hits)}\")\n",
    "    else:\n",
    "        print(\"no hit\")\n",
    "    return hits#ymax, winning_vx, winning_vy, target"
   ]
  },
  {
   "cell_type": "code",
   "execution_count": 129,
   "id": "1468bc09-553a-4e94-bd41-71087f634ea1",
   "metadata": {
    "tags": []
   },
   "outputs": [
    {
     "name": "stdout",
     "output_type": "stream",
     "text": [
      "ymax: 45 winning vx: 6 winning vy: 9 total hits: 112\n"
     ]
    }
   ],
   "source": [
    "hits = compute_the_thing()"
   ]
  },
  {
   "cell_type": "code",
   "execution_count": 131,
   "id": "ce490c50-a431-4a13-a8bf-137e645283bb",
   "metadata": {},
   "outputs": [
    {
     "name": "stdout",
     "output_type": "stream",
     "text": [
      "ymax: 23005 winning vx: 8 winning vy: 214 total hits: 2040\n"
     ]
    }
   ],
   "source": [
    "hits = compute_the_thing(input_file=\"input.txt\")"
   ]
  },
  {
   "cell_type": "code",
   "execution_count": 96,
   "id": "bd6aad6d-e8b1-4c38-96e8-d15ba6cbd730",
   "metadata": {
    "collapsed": true,
    "jupyter": {
     "outputs_hidden": true
    },
    "tags": []
   },
   "outputs": [
    {
     "name": "stdout",
     "output_type": "stream",
     "text": [
      "x: 6 vx: 5 y: 9 vy: 8\n",
      "x: 11 vx: 4 y: 17 vy: 7\n",
      "x: 15 vx: 3 y: 24 vy: 6\n",
      "x: 18 vx: 2 y: 30 vy: 5\n",
      "x: 20 vx: 1 y: 35 vy: 4\n",
      "x: 21 vx: 0 y: 39 vy: 3\n",
      "y max: 39\n",
      "x: 21 vx: 0 y: 42 vy: 2\n",
      "y max: 42\n",
      "x: 21 vx: 0 y: 44 vy: 1\n",
      "y max: 44\n",
      "x: 21 vx: 0 y: 45 vy: 0\n",
      "y max: 45\n",
      "x: 21 vx: 0 y: 45 vy: -1\n",
      "x: 21 vx: 0 y: 44 vy: -2\n",
      "x: 21 vx: 0 y: 42 vy: -3\n",
      "x: 21 vx: 0 y: 39 vy: -4\n",
      "x: 21 vx: 0 y: 35 vy: -5\n",
      "x: 21 vx: 0 y: 30 vy: -6\n",
      "x: 21 vx: 0 y: 24 vy: -7\n",
      "x: 21 vx: 0 y: 17 vy: -8\n",
      "x: 21 vx: 0 y: 9 vy: -9\n",
      "x: 21 vx: 0 y: 0 vy: -10\n",
      "x: 21 vx: 0 y: -10 vy: -11\n",
      "hit target\n"
     ]
    },
    {
     "data": {
      "text/plain": [
       "(True, 45)"
      ]
     },
     "execution_count": 96,
     "metadata": {},
     "output_type": "execute_result"
    }
   ],
   "source": [
    "hit_target(target, 6, 9, debug=True)"
   ]
  },
  {
   "cell_type": "code",
   "execution_count": 123,
   "id": "89ac0f1c-2901-474e-b7f3-e5529f133ffa",
   "metadata": {},
   "outputs": [],
   "source": [
    "with open(\"test_output.txt\", \"r\") as f:\n",
    "    data = f.read()\n",
    "data = data.strip(\"\\n\")\n",
    "vs = data.split()\n",
    "test_hits = []\n",
    "for line in vs:\n",
    "    i,j = line.split(\",\")\n",
    "    i = int(i)\n",
    "    j = int(j)\n",
    "    test_hits.append((i,j))"
   ]
  },
  {
   "cell_type": "code",
   "execution_count": 125,
   "id": "4b31764b-5ae4-43c7-a689-0a7396c7f202",
   "metadata": {},
   "outputs": [
    {
     "data": {
      "text/plain": [
       "(112, 106)"
      ]
     },
     "execution_count": 125,
     "metadata": {},
     "output_type": "execute_result"
    }
   ],
   "source": [
    "len(set(test_hits)), len(set(hits))"
   ]
  },
  {
   "cell_type": "code",
   "execution_count": 126,
   "id": "d60a3ef6-fdaf-45a4-9efe-0ba2a062f7cd",
   "metadata": {},
   "outputs": [],
   "source": [
    "set_test_hits = set(test_hits)\n",
    "set_hits = set(hits)"
   ]
  },
  {
   "cell_type": "code",
   "execution_count": 127,
   "id": "d55c6b5a-ff50-4773-8331-675b16aef9b6",
   "metadata": {},
   "outputs": [
    {
     "data": {
      "text/plain": [
       "{(30, -10), (30, -9), (30, -8), (30, -7), (30, -6), (30, -5)}"
      ]
     },
     "execution_count": 127,
     "metadata": {},
     "output_type": "execute_result"
    }
   ],
   "source": [
    "set_test_hits - set_hits"
   ]
  },
  {
   "cell_type": "code",
   "execution_count": 132,
   "id": "88b10d46-3d58-4b99-916b-e6e150fbe926",
   "metadata": {},
   "outputs": [
    {
     "name": "stdout",
     "output_type": "stream",
     "text": [
      "ymax: 6441 winning vx: 17 winning vy: 113 total hits: 3186\n"
     ]
    }
   ],
   "source": [
    "hits = compute_the_thing(\"elizabeth.txt\")"
   ]
  },
  {
   "cell_type": "code",
   "execution_count": null,
   "id": "d8d98089-0a82-494d-85e9-b097c797de79",
   "metadata": {},
   "outputs": [],
   "source": []
  }
 ],
 "metadata": {
  "kernelspec": {
   "display_name": "Python 3",
   "language": "python",
   "name": "python3"
  },
  "language_info": {
   "codemirror_mode": {
    "name": "ipython",
    "version": 3
   },
   "file_extension": ".py",
   "mimetype": "text/x-python",
   "name": "python",
   "nbconvert_exporter": "python",
   "pygments_lexer": "ipython3",
   "version": "3.9.6"
  }
 },
 "nbformat": 4,
 "nbformat_minor": 5
}
