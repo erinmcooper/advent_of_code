{
 "cells": [
  {
   "cell_type": "code",
   "execution_count": 28,
   "id": "4c2fd38a-1ca4-4afc-9b8f-847928b947b5",
   "metadata": {},
   "outputs": [],
   "source": [
    "def three_elfs_carrying_most_calories(filename='test_input_1.txt'):\n",
    "    max_elfs = []\n",
    "    elf = 0\n",
    "    with open(filename, 'r') as f:\n",
    "        for line in f:\n",
    "            #print(line)\n",
    "            if line == '\\n':\n",
    "                #print(f\"complete elf: {elf}\")\n",
    "                if len(max_elfs) < 3:\n",
    "                    max_elfs.append(elf)\n",
    "                    elf = 0\n",
    "                else:\n",
    "                    max_elfs.append(elf)\n",
    "                    max_elfs.remove(min(max_elfs))\n",
    "                    elf = 0\n",
    "            else:\n",
    "                elf += int(line)\n",
    "            #print(f\"elf in progress: {elf}\")\n",
    "        max_elfs.append(elf)\n",
    "        max_elfs.remove(min(max_elfs))\n",
    "        #print(f\"last complete elf: {elf}\")\n",
    "\n",
    "    print(f\"Top 3 Elfs carrying most Calories are carrying {sorted(max_elfs)} Calories indivdually.\")\n",
    "    print(f\"Top 3 Elfs carrying most Calories are carrying {sum(max_elfs)} Calories collectively.\")"
   ]
  },
  {
   "cell_type": "code",
   "execution_count": 29,
   "id": "decad1a1-792f-426f-8f18-61bbe534495f",
   "metadata": {},
   "outputs": [
    {
     "name": "stdout",
     "output_type": "stream",
     "text": [
      "Top 3 Elfs carrying most Calories are carrying [10000, 11000, 24000] Calories indivdually.\n",
      "Top 3 Elfs carrying most Calories are carrying 45000 Calories collectively.\n"
     ]
    }
   ],
   "source": [
    "three_elfs_carrying_most_calories(filename='test_input_1.txt')"
   ]
  },
  {
   "cell_type": "code",
   "execution_count": 30,
   "id": "2eb99ba5-5ba7-4b48-a60d-e5ff65e505e5",
   "metadata": {},
   "outputs": [
    {
     "name": "stdout",
     "output_type": "stream",
     "text": [
      "Top 3 Elfs carrying most Calories are carrying [66862, 68330, 70613] Calories indivdually.\n",
      "Top 3 Elfs carrying most Calories are carrying 205805 Calories collectively.\n"
     ]
    }
   ],
   "source": [
    "three_elfs_carrying_most_calories(filename='input_1.txt')"
   ]
  },
  {
   "cell_type": "code",
   "execution_count": null,
   "id": "7aa06256-75db-4806-bafe-1940a2c1cb50",
   "metadata": {},
   "outputs": [],
   "source": []
  }
 ],
 "metadata": {
  "kernelspec": {
   "display_name": "Python 3",
   "language": "python",
   "name": "python3"
  },
  "language_info": {
   "codemirror_mode": {
    "name": "ipython",
    "version": 3
   },
   "file_extension": ".py",
   "mimetype": "text/x-python",
   "name": "python",
   "nbconvert_exporter": "python",
   "pygments_lexer": "ipython3",
   "version": "3.9.6"
  }
 },
 "nbformat": 4,
 "nbformat_minor": 5
}
