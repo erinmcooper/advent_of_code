{
 "cells": [
  {
   "cell_type": "code",
   "execution_count": 1,
   "metadata": {},
   "outputs": [],
   "source": [
    "ways_to_score = {\n",
    "    \"rock\": 1,\n",
    "    \"paper\": 2,\n",
    "    \"scissors\": 3,\n",
    "    \"lose\": 0,\n",
    "    \"draw\": 3,\n",
    "    \"win\": 6\n",
    "}\n",
    "\n",
    "shapes = {\n",
    "    \"A\": \"rock\",\n",
    "    \"B\": \"paper\",\n",
    "    \"C\": \"scissors\",\n",
    "    \"X\": \"rock\",\n",
    "    \"Y\": \"paper\",\n",
    "    \"Z\": \"scissors\"\n",
    "}\n",
    "\n",
    "strategy = {\n",
    "    \"X\": \"lose\",\n",
    "    \"Y\": \"draw\",\n",
    "    \"Z\": \"win\"\n",
    "}"
   ]
  },
  {
   "cell_type": "code",
   "execution_count": 2,
   "metadata": {},
   "outputs": [],
   "source": [
    "def strategy_guide_total_score_plays(filename=\"test_input_1.txt\"):\n",
    "    \n",
    "    total_score = 0\n",
    "    with open(filename, \"r\") as f:\n",
    "        for line in f:\n",
    "            elf, me = line.split()\n",
    "            # score my shape\n",
    "            total_score += ways_to_score[shapes[me]]\n",
    "            # determine win/lose/draw\n",
    "            elf = shapes[elf]\n",
    "            me = shapes[me]\n",
    "            if me == elf:\n",
    "                total_score += ways_to_score[\"draw\"]\n",
    "            # score my outcome\n",
    "            elif (((me == \"rock\") and (elf == \"scissors\")) or\n",
    "                  ((me == \"paper\") and (elf == \"rock\")) or\n",
    "                  ((me == \"scissors\") and (elf == \"paper\"))):\n",
    "                total_score += ways_to_score[\"win\"]\n",
    "    \n",
    "    print(f\"total score given plays: {total_score}\")"
   ]
  },
  {
   "cell_type": "code",
   "execution_count": 3,
   "metadata": {},
   "outputs": [
    {
     "name": "stdout",
     "output_type": "stream",
     "text": [
      "total score given plays: 15\n"
     ]
    }
   ],
   "source": [
    "strategy_guide_total_score_plays(filename=\"test_input_1.txt\")"
   ]
  },
  {
   "cell_type": "code",
   "execution_count": 4,
   "metadata": {},
   "outputs": [
    {
     "name": "stdout",
     "output_type": "stream",
     "text": [
      "total score given plays: 12586\n"
     ]
    }
   ],
   "source": [
    "strategy_guide_total_score_plays(filename=\"input_1.txt\")"
   ]
  },
  {
   "cell_type": "code",
   "execution_count": 5,
   "metadata": {},
   "outputs": [],
   "source": [
    "def strategy_guide_total_score_outcomes(filename=\"test_input_1.txt\"):\n",
    "    \n",
    "    total_score = 0\n",
    "    with open(filename, \"r\") as f:\n",
    "        for line in f:\n",
    "            elf, me = line.split()\n",
    "            # score my strategy\n",
    "            total_score += ways_to_score[strategy[me]]\n",
    "            # score my shape\n",
    "            elf = shapes[elf]\n",
    "            me = strategy[me]\n",
    "            if me == \"draw\":\n",
    "                total_score += ways_to_score[elf]\n",
    "            elif me == \"win\":\n",
    "                if elf == \"rock\":\n",
    "                    total_score += ways_to_score[\"paper\"]\n",
    "                elif elf == \"paper\":\n",
    "                    total_score += ways_to_score[\"scissors\"]\n",
    "                elif elf == \"scissors\":\n",
    "                    total_score += ways_to_score[\"rock\"]\n",
    "            elif me == \"lose\":\n",
    "                if elf == \"rock\":\n",
    "                    total_score += ways_to_score[\"scissors\"]\n",
    "                elif elf == \"paper\":\n",
    "                    total_score += ways_to_score[\"rock\"]\n",
    "                elif elf == \"scissors\":\n",
    "                    total_score += ways_to_score[\"paper\"]\n",
    "            \n",
    "    print(f\"total score given outcomes: {total_score}\")"
   ]
  },
  {
   "cell_type": "code",
   "execution_count": 6,
   "metadata": {},
   "outputs": [
    {
     "name": "stdout",
     "output_type": "stream",
     "text": [
      "total score given outcomes: 12\n"
     ]
    }
   ],
   "source": [
    "strategy_guide_total_score_outcomes(filename=\"test_input_1.txt\")"
   ]
  },
  {
   "cell_type": "code",
   "execution_count": 7,
   "metadata": {},
   "outputs": [
    {
     "name": "stdout",
     "output_type": "stream",
     "text": [
      "total score given outcomes: 13193\n"
     ]
    }
   ],
   "source": [
    "strategy_guide_total_score_outcomes(filename=\"input_1.txt\")"
   ]
  }
 ],
 "metadata": {
  "kernelspec": {
   "display_name": "Python 3",
   "language": "python",
   "name": "python3"
  },
  "language_info": {
   "codemirror_mode": {
    "name": "ipython",
    "version": 3
   },
   "file_extension": ".py",
   "mimetype": "text/x-python",
   "name": "python",
   "nbconvert_exporter": "python",
   "pygments_lexer": "ipython3",
   "version": "3.8.3"
  }
 },
 "nbformat": 4,
 "nbformat_minor": 5
}
