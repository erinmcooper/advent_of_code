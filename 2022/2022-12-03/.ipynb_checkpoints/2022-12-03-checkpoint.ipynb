{
 "cells": [
  {
   "cell_type": "code",
   "execution_count": 1,
   "metadata": {},
   "outputs": [],
   "source": [
    "import string"
   ]
  },
  {
   "cell_type": "code",
   "execution_count": 2,
   "metadata": {},
   "outputs": [],
   "source": [
    "priorities = {}\n",
    "for index, letter in enumerate(string.ascii_lowercase):\n",
    "    priorities[letter] = index + 1\n",
    "    priorities[letter.upper()] = index + 1 + 26\n",
    "\n",
    "def compute_priority_by_rucksack(filename=\"test_input_1.txt\"):\n",
    "    priority_sum = 0\n",
    "    with open(filename, 'r') as f:\n",
    "        for line in f:\n",
    "            rucksack = line[:-1]\n",
    "            first = {*rucksack[:int(len(rucksack)/2)]}\n",
    "            second = {*rucksack[int(len(rucksack)/2):]}\n",
    "            common = list(first & second)[0]\n",
    "            priority_sum += priorities[common]\n",
    "    print(f\"The priority sum of these rucksacks is {priority_sum}.\")"
   ]
  },
  {
   "cell_type": "code",
   "execution_count": 3,
   "metadata": {},
   "outputs": [
    {
     "name": "stdout",
     "output_type": "stream",
     "text": [
      "The priority sum of these rucksacks is 157.\n"
     ]
    }
   ],
   "source": [
    "compute_priority_by_rucksack(filename=\"test_input_1.txt\")"
   ]
  },
  {
   "cell_type": "code",
   "execution_count": 4,
   "metadata": {},
   "outputs": [
    {
     "name": "stdout",
     "output_type": "stream",
     "text": [
      "The priority sum of these rucksacks is 7917.\n"
     ]
    }
   ],
   "source": [
    "compute_priority_by_rucksack(filename=\"input_1.txt\")"
   ]
  },
  {
   "cell_type": "code",
   "execution_count": 5,
   "metadata": {},
   "outputs": [],
   "source": [
    "def compute_priority_by_group(filename=\"test_input_1.txt\"):\n",
    "    priority_sum = 0\n",
    "    group = []\n",
    "    with open(filename, 'r') as f:\n",
    "        for line in f:\n",
    "            rucksack = line[:-1]\n",
    "            group.append(rucksack)\n",
    "            if len(group) == 3:\n",
    "                first, second, third = group\n",
    "                first = {*first}\n",
    "                second = {*second}\n",
    "                third = {*third}\n",
    "                common = list(first & second & third)[0]\n",
    "                priority_sum += priorities[common]\n",
    "                group = []\n",
    "    print(f\"The priority sum of these groups is {priority_sum}.\")"
   ]
  },
  {
   "cell_type": "code",
   "execution_count": 6,
   "metadata": {},
   "outputs": [
    {
     "name": "stdout",
     "output_type": "stream",
     "text": [
      "The priority sum of these groups is 70.\n"
     ]
    }
   ],
   "source": [
    "compute_priority_by_group(filename=\"test_input_1.txt\")"
   ]
  },
  {
   "cell_type": "code",
   "execution_count": 7,
   "metadata": {},
   "outputs": [
    {
     "name": "stdout",
     "output_type": "stream",
     "text": [
      "The priority sum of these groups is 2585.\n"
     ]
    }
   ],
   "source": [
    "compute_priority_by_group(filename=\"input_1.txt\")"
   ]
  },
  {
   "cell_type": "code",
   "execution_count": null,
   "metadata": {},
   "outputs": [],
   "source": []
  }
 ],
 "metadata": {
  "kernelspec": {
   "display_name": "Python 3",
   "language": "python",
   "name": "python3"
  },
  "language_info": {
   "codemirror_mode": {
    "name": "ipython",
    "version": 3
   },
   "file_extension": ".py",
   "mimetype": "text/x-python",
   "name": "python",
   "nbconvert_exporter": "python",
   "pygments_lexer": "ipython3",
   "version": "3.8.3"
  }
 },
 "nbformat": 4,
 "nbformat_minor": 4
}
