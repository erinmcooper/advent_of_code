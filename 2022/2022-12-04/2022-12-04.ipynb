{
 "cells": [
  {
   "cell_type": "code",
   "execution_count": 1,
   "metadata": {},
   "outputs": [],
   "source": [
    "def compute_pairs(filename=\"test_input_1.txt\"):\n",
    "    \n",
    "    fully_contains = 0\n",
    "    overlap = 0\n",
    "    with open(filename, 'r') as f:\n",
    "        for line in f:\n",
    "            first, second = line.split(',')\n",
    "            f1,f2 = first.split('-')\n",
    "            s1,s2 = second.split('-')\n",
    "            first = set(range(int(f1),int(f2)+1))\n",
    "            second = set(range(int(s1),int(s2)+1))\n",
    "            fully_contains += first.issubset(second) | first.issuperset(second)\n",
    "            if len(first & second) > 0:\n",
    "                overlap += 1\n",
    "    print(f\"Pairs with fully duplicated assignments: {fully_contains}\")\n",
    "    print(f\"Pairs with overlapping assignments: {overlap}\")"
   ]
  },
  {
   "cell_type": "code",
   "execution_count": 2,
   "metadata": {},
   "outputs": [
    {
     "name": "stdout",
     "output_type": "stream",
     "text": [
      "Pairs with fully duplicated assignments: 2\n",
      "Pairs with overlapping assignments: 4\n"
     ]
    }
   ],
   "source": [
    "compute_pairs(filename=\"test_input_1.txt\")"
   ]
  },
  {
   "cell_type": "code",
   "execution_count": 3,
   "metadata": {},
   "outputs": [
    {
     "name": "stdout",
     "output_type": "stream",
     "text": [
      "Pairs with fully duplicated assignments: 547\n",
      "Pairs with overlapping assignments: 843\n"
     ]
    }
   ],
   "source": [
    "compute_pairs(filename=\"input_1.txt\")"
   ]
  },
  {
   "cell_type": "code",
   "execution_count": null,
   "metadata": {},
   "outputs": [],
   "source": []
  }
 ],
 "metadata": {
  "kernelspec": {
   "display_name": "Python 3",
   "language": "python",
   "name": "python3"
  },
  "language_info": {
   "codemirror_mode": {
    "name": "ipython",
    "version": 3
   },
   "file_extension": ".py",
   "mimetype": "text/x-python",
   "name": "python",
   "nbconvert_exporter": "python",
   "pygments_lexer": "ipython3",
   "version": "3.8.3"
  }
 },
 "nbformat": 4,
 "nbformat_minor": 4
}
