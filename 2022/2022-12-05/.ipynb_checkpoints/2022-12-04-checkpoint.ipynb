{
 "cells": [
  {
   "cell_type": "code",
   "execution_count": 1,
   "id": "60dabb2b-9580-4151-9e76-34f2d8729440",
   "metadata": {},
   "outputs": [],
   "source": [
    "def read_data(filename=\"test_input_1.txt\"):\n",
    "    \n",
    "    state = {}\n",
    "    state_block = []\n",
    "    instructions = []\n",
    "    with open(filename, 'r') as f:\n",
    "        for line in f:\n",
    "            if \"move\" in line:\n",
    "                instructions.append(line)\n",
    "            elif line != \"\\n\":\n",
    "                state_block.append(line)\n",
    "    state_block.reverse()\n",
    "    state = {int(i): [] for i in state_block[0].split()}\n",
    "    for row in state_block[1:]:\n",
    "        for i in range(len(state.keys())):\n",
    "            state[i+1].append(row[1+i*4])\n",
    "    for stack in state:\n",
    "        while ' ' in state[stack]:\n",
    "            state[stack].remove(' ')\n",
    "    return state, instructions"
   ]
  },
  {
   "cell_type": "code",
   "execution_count": 2,
   "id": "cbff4444-4463-4b11-a138-54ca4021085b",
   "metadata": {},
   "outputs": [],
   "source": [
    "def CrateMover9000(state, instructions):\n",
    "    for instruction in instructions:\n",
    "        boxes = int(instruction.split()[1])\n",
    "        from_stack = int(instruction.split()[3])\n",
    "        to_stack = int(instruction.strip('\\n').split()[5])\n",
    "        for box in range(boxes):\n",
    "            state[to_stack].append(state[from_stack].pop(-1))\n",
    "    message = \"\".join([state[stack+1][-1] for stack in range(len(state))])\n",
    "    print(f\"CrateMover9000 message reads: {message}\")"
   ]
  },
  {
   "cell_type": "code",
   "execution_count": 3,
   "id": "c3f8b395-2cab-44f8-9fbb-f7357f4e3850",
   "metadata": {},
   "outputs": [],
   "source": [
    "def CrateMover9001(state, instructions):\n",
    "    for instruction in instructions:\n",
    "        boxes = int(instruction.split()[1])\n",
    "        from_stack = int(instruction.split()[3])\n",
    "        to_stack = int(instruction.strip('\\n').split()[5])\n",
    "        state[to_stack].extend(state[from_stack][-boxes:])\n",
    "        del state[from_stack][-boxes:]\n",
    "    message = \"\".join([state[stack+1][-1] for stack in range(len(state))])\n",
    "    print(f\"CrateMover9001 message reads: {message}\")"
   ]
  },
  {
   "cell_type": "code",
   "execution_count": 4,
   "id": "4ea021d6-4c16-41f8-ba57-1893d1c0fa56",
   "metadata": {},
   "outputs": [],
   "source": [
    "def main(filename=\"test_input_1.txt\"):\n",
    "    \n",
    "    state, instructions = read_data(filename=filename)\n",
    "    CrateMover9000(state, instructions)\n",
    "    state, instructions = read_data(filename=filename)\n",
    "    CrateMover9001(state, instructions)"
   ]
  },
  {
   "cell_type": "code",
   "execution_count": 5,
   "id": "440640d1-95d5-4e1a-a63e-49af7bc17537",
   "metadata": {},
   "outputs": [
    {
     "name": "stdout",
     "output_type": "stream",
     "text": [
      "CrateMover9000 message reads: CMZ\n",
      "CrateMover9001 message reads: MCD\n"
     ]
    }
   ],
   "source": [
    "main(filename=\"test_input_1.txt\")"
   ]
  },
  {
   "cell_type": "code",
   "execution_count": 6,
   "id": "d8ed0ea0-8b5c-402e-b2a2-3a831cbc2650",
   "metadata": {},
   "outputs": [
    {
     "name": "stdout",
     "output_type": "stream",
     "text": [
      "CrateMover9000 message reads: VQZNJMWTR\n",
      "CrateMover9001 message reads: NLCDCLVMQ\n"
     ]
    }
   ],
   "source": [
    "main(filename=\"input_1.txt\")"
   ]
  }
 ],
 "metadata": {
  "kernelspec": {
   "display_name": "Python 3",
   "language": "python",
   "name": "python3"
  },
  "language_info": {
   "codemirror_mode": {
    "name": "ipython",
    "version": 3
   },
   "file_extension": ".py",
   "mimetype": "text/x-python",
   "name": "python",
   "nbconvert_exporter": "python",
   "pygments_lexer": "ipython3",
   "version": "3.9.6"
  }
 },
 "nbformat": 4,
 "nbformat_minor": 5
}
