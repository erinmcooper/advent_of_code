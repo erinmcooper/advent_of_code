{
 "cells": [
  {
   "cell_type": "code",
   "execution_count": 1,
   "id": "9ffb9b29-0e8e-4b82-8ec4-bf395697bd6f",
   "metadata": {},
   "outputs": [],
   "source": [
    "def identify_first_different(length=4, filename=\"test_input_1.txt\"):\n",
    "    \n",
    "    with open(filename, 'r') as f:\n",
    "        buffer = f.readline()\n",
    "        \n",
    "        four_different = False\n",
    "        end = length\n",
    "        while not four_different:\n",
    "            test_str = buffer[end - length:][:length]\n",
    "            if len(list(test_str)) == len(set(test_str)):\n",
    "                four_different = True\n",
    "            else:\n",
    "                end += 1\n",
    "        return end, test_str"
   ]
  },
  {
   "cell_type": "code",
   "execution_count": 2,
   "id": "758cbcce-47b5-4ac3-8acb-1640b5f2456b",
   "metadata": {
    "tags": []
   },
   "outputs": [],
   "source": [
    "filename_str = \"test_input_{i}.txt\"\n",
    "answers = {\n",
    "    4: {1: 7, 2: 5, 3: 6, 4: 10, 5: 11},\n",
    "    14: {1: 19, 2: 23, 3: 23, 4: 29, 5: 26}\n",
    "}\n",
    "for i in range(1,6):\n",
    "    for length in [4,14]:\n",
    "        end, test_str = identify_first_different(length=length, \n",
    "                                                 filename=filename_str.format(i=i))\n",
    "        assert end == answers[length][i]"
   ]
  },
  {
   "cell_type": "code",
   "execution_count": 3,
   "id": "61d316c2-e955-42f3-b6d3-bf1fca5c283c",
   "metadata": {},
   "outputs": [
    {
     "name": "stdout",
     "output_type": "stream",
     "text": [
      "1582 szfm\n",
      "3588 rdvhtgbpsmznlf\n"
     ]
    }
   ],
   "source": [
    "for length in [4,14]:\n",
    "    end, test_str = identify_first_different(length=length, filename=\"input_1.txt\")\n",
    "    print(end, test_str)"
   ]
  }
 ],
 "metadata": {
  "kernelspec": {
   "display_name": "Python 3",
   "language": "python",
   "name": "python3"
  },
  "language_info": {
   "codemirror_mode": {
    "name": "ipython",
    "version": 3
   },
   "file_extension": ".py",
   "mimetype": "text/x-python",
   "name": "python",
   "nbconvert_exporter": "python",
   "pygments_lexer": "ipython3",
   "version": "3.9.6"
  }
 },
 "nbformat": 4,
 "nbformat_minor": 5
}
