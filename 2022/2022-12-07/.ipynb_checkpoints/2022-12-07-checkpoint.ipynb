{
 "cells": [
  {
   "cell_type": "code",
   "execution_count": 1,
   "id": "0ba33866-b411-4027-b0e8-438c658980c0",
   "metadata": {},
   "outputs": [
    {
     "ename": "ModuleNotFoundError",
     "evalue": "No module named 'yaml'",
     "output_type": "error",
     "traceback": [
      "\u001b[0;31m---------------------------------------------------------------------------\u001b[0m",
      "\u001b[0;31mModuleNotFoundError\u001b[0m                       Traceback (most recent call last)",
      "\u001b[0;32m<ipython-input-1-38c9922a026e>\u001b[0m in \u001b[0;36m<module>\u001b[0;34m\u001b[0m\n\u001b[0;32m----> 1\u001b[0;31m \u001b[0;32mimport\u001b[0m \u001b[0myaml\u001b[0m\u001b[0;34m\u001b[0m\u001b[0;34m\u001b[0m\u001b[0m\n\u001b[0m",
      "\u001b[0;31mModuleNotFoundError\u001b[0m: No module named 'yaml'"
     ]
    }
   ],
   "source": [
    "import yaml"
   ]
  },
  {
   "cell_type": "code",
   "execution_count": null,
   "id": "a2d7ac30-e41d-4662-b35a-24b3f9868da7",
   "metadata": {},
   "outputs": [],
   "source": [
    "def find_max_under_100000(filename=\"test_input_1.txt\"):\n",
    "    \n",
    "    folders = {}\n",
    "    folder_list = []\n",
    "    dirs = {}\n",
    "    with open(filename, \"r\") as f:\n",
    "        for line in f.readlines():\n",
    "            first = line.split()[0]\n",
    "            if first == \"$\":\n",
    "                if line.split()[1] == \"cd\":\n",
    "                    folder = line.split()[-1]\n",
    "                    if folder == \"..\":\n",
    "                        folder_list.pop(-1)\n",
    "                    else:\n",
    "                        folder_list.append(folder)\n",
    "                        current_path = \"/\".join(folder_list)\n",
    "                        if current_path not in folders:\n",
    "                            folders[current_path] = 0\n",
    "                #print(\"command\", \" \".join(line.split()[1:]))\n",
    "            elif \"dir\" in first:\n",
    "                directory = line.split()[-1]\n",
    "                if directory not in dirs:\n",
    "                    dirs[directory] = 0\n",
    "                #print(f\"directory {line.split()[1]}\")\n",
    "            elif any(i.isdigit() for i in first):\n",
    "                #print(f\"current path is {current_path}\")\n",
    "                #print(f\"file {line.split()[1]} has size {line.split()[0]}\")\n",
    "                folders[current_path] += int(first)\n",
    "                \n",
    "        dirs[\"/\"] = 0\n",
    "        for folder in folders:\n",
    "            contents = [fol for fol in folder.split(\"/\") if fol]\n",
    "            #print(folder, contents)\n",
    "            for fol in contents:\n",
    "                dirs[fol] += folders[folder]\n",
    "            dirs[\"/\"] += folders[folder]\n",
    "            \n",
    "        max_under_100000 = 0\n",
    "        for directory in dirs:\n",
    "            if (dirs[directory] <= 100000):\n",
    "                print(directory, dirs[directory])\n",
    "                max_under_100000 += dirs[directory]\n",
    "    print(folders)\n",
    "    print(dirs)\n",
    "    print(f\"summed max of dirs under 100000 is {max_under_100000}\")"
   ]
  },
  {
   "cell_type": "code",
   "execution_count": null,
   "id": "e81716e5-e4ed-4834-a1c5-7baec2d73903",
   "metadata": {},
   "outputs": [],
   "source": [
    "find_max_under_100000(filename=\"test_input_1.txt\")"
   ]
  },
  {
   "cell_type": "code",
   "execution_count": null,
   "id": "34893f36-187a-443a-8557-71ecd9775a7a",
   "metadata": {},
   "outputs": [],
   "source": [
    "find_max_under_100000(filename=\"input_1.txt\")"
   ]
  },
  {
   "cell_type": "code",
   "execution_count": null,
   "id": "8dac2fbe-e661-43b8-bb08-c450f08c9cff",
   "metadata": {},
   "outputs": [],
   "source": []
  }
 ],
 "metadata": {
  "kernelspec": {
   "display_name": "Python 3",
   "language": "python",
   "name": "python3"
  },
  "language_info": {
   "codemirror_mode": {
    "name": "ipython",
    "version": 3
   },
   "file_extension": ".py",
   "mimetype": "text/x-python",
   "name": "python",
   "nbconvert_exporter": "python",
   "pygments_lexer": "ipython3",
   "version": "3.9.6"
  }
 },
 "nbformat": 4,
 "nbformat_minor": 5
}
