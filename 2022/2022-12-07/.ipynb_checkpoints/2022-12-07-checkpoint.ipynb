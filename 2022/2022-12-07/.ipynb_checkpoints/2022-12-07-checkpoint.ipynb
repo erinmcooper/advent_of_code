{
 "cells": [
  {
   "cell_type": "code",
   "execution_count": 1,
   "metadata": {},
   "outputs": [],
   "source": [
    "def find_max_under_100000(filename=\"test_input_1.txt\", verbose=False):\n",
    "    \n",
    "    folders = {}\n",
    "    folder_list = []\n",
    "    dirs = {}\n",
    "    with open(filename, \"r\") as f:\n",
    "        for line in f.readlines():\n",
    "            first = line.split()[0]\n",
    "            if first == \"$\":\n",
    "                if line.split()[1] == \"cd\":\n",
    "                    folder = line.split()[-1]\n",
    "                    if folder == \"..\":\n",
    "                        folder_list.pop(-1)\n",
    "                    else:\n",
    "                        folder_list.append(folder)\n",
    "                        if folder == \"/\":\n",
    "                            current_path = folder\n",
    "                        else:\n",
    "                            current_path = \"/\".join(folder_list)[1:]\n",
    "                        if current_path not in folders:\n",
    "                            folders[current_path] = 0\n",
    "            elif any(i.isdigit() for i in first):\n",
    "                folders[current_path] += int(first)\n",
    "        \n",
    "        for folder in folders:\n",
    "            dirs[folder] = sum([folders[i] for i in folders if folder in i])\n",
    "            \n",
    "        max_under_100000 = 0\n",
    "        for directory in dirs:\n",
    "            if (dirs[directory] <= 100000):\n",
    "                max_under_100000 += dirs[directory]\n",
    "    \n",
    "    if verbose:\n",
    "        for folder in folders:\n",
    "            print(f\"{repr(dirs[folder]).rjust(12)} {repr(folders[folder]).rjust(12)} {folder}\")\n",
    "        \n",
    "    print(f\"summed max of dirs under 100000 is {max_under_100000}\")\n",
    "    \n",
    "    return dirs"
   ]
  },
  {
   "cell_type": "code",
   "execution_count": 2,
   "metadata": {},
   "outputs": [],
   "source": [
    "def find_directory_to_delete(filename=\"test_input_1.txt\"):\n",
    "    dirs = find_max_under_100000(filename=filename)\n",
    "    \n",
    "    total_space = 70000000\n",
    "    current_size = dirs[\"/\"]\n",
    "    current_free_space = total_space - current_size\n",
    "    minimum_free_space_needed = 30000000\n",
    "    space_to_free_up = minimum_free_space_needed - current_free_space\n",
    "    directory_size_to_delete = current_size\n",
    "    for directory in dirs:\n",
    "        if ((dirs[directory] > space_to_free_up) and\n",
    "            (dirs[directory] < directory_size_to_delete)):\n",
    "            directory_size_to_delete = dirs[directory]\n",
    "            directory_to_delete = directory\n",
    "            \n",
    "    print(f\"Delete directory {directory_to_delete} with size {directory_size_to_delete}.\")"
   ]
  },
  {
   "cell_type": "code",
   "execution_count": 3,
   "metadata": {},
   "outputs": [
    {
     "name": "stdout",
     "output_type": "stream",
     "text": [
      "summed max of dirs under 100000 is 95437\n",
      "Delete directory /d with size 24933642.\n"
     ]
    }
   ],
   "source": [
    "find_directory_to_delete(filename=\"test_input_1.txt\")"
   ]
  },
  {
   "cell_type": "code",
   "execution_count": 4,
   "metadata": {},
   "outputs": [
    {
     "name": "stdout",
     "output_type": "stream",
     "text": [
      "summed max of dirs under 100000 is 1611443\n",
      "Delete directory /ldqc/jclb/pbb/zmflq/lcgv/mzzpfnr with size 2086088.\n"
     ]
    }
   ],
   "source": [
    "find_directory_to_delete(filename=\"input_1.txt\")"
   ]
  },
  {
   "cell_type": "code",
   "execution_count": null,
   "metadata": {},
   "outputs": [],
   "source": []
  }
 ],
 "metadata": {
  "kernelspec": {
   "display_name": "Python 3",
   "language": "python",
   "name": "python3"
  },
  "language_info": {
   "codemirror_mode": {
    "name": "ipython",
    "version": 3
   },
   "file_extension": ".py",
   "mimetype": "text/x-python",
   "name": "python",
   "nbconvert_exporter": "python",
   "pygments_lexer": "ipython3",
   "version": "3.8.3"
  }
 },
 "nbformat": 4,
 "nbformat_minor": 5
}
