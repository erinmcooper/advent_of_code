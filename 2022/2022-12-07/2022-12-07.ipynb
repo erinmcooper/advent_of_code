{
 "cells": [
  {
   "cell_type": "code",
   "execution_count": 29,
   "id": "a2d7ac30-e41d-4662-b35a-24b3f9868da7",
   "metadata": {},
   "outputs": [],
   "source": [
    "def find_max_under_100000(filename=\"test_input_1.txt\"):\n",
    "    \n",
    "    folders = {}\n",
    "    folder_list = []\n",
    "    dirs = {}\n",
    "    with open(filename, \"r\") as f:\n",
    "        for line in f.readlines():\n",
    "            first = line.split()[0]\n",
    "            if first == \"$\":\n",
    "                if line.split()[1] == \"cd\":\n",
    "                    folder = line.split()[-1]\n",
    "                    if folder == \"..\":\n",
    "                        folder_list.pop(-1)\n",
    "                    else:\n",
    "                        folder_list.append(folder)\n",
    "                        current_path = \"/\".join(folder_list)\n",
    "                        if current_path not in folders:\n",
    "                            folders[current_path] = 0\n",
    "                #print(\"command\", \" \".join(line.split()[1:]))\n",
    "            elif \"dir\" in first:\n",
    "                directory = line.split()[-1]\n",
    "                if directory not in dirs:\n",
    "                    dirs[directory] = 0\n",
    "                elif current_path not in folders:\n",
    "                    print(f\"found duplicate dir: {directory}\")\n",
    "                #print(f\"directory {line.split()[1]}\")\n",
    "            elif any(i.isdigit() for i in first):\n",
    "                #print(f\"current path is {current_path}\")\n",
    "                #print(f\"file {line.split()[1]} has size {line.split()[0]}\")\n",
    "                folders[current_path] += int(first)\n",
    "                \n",
    "        dirs[\"/\"] = 0\n",
    "        for folder in folders:\n",
    "            contents = [fol for fol in folder.split(\"/\") if fol]\n",
    "            if len(contents) != len(set(contents)):\n",
    "                print(f\"duplicate dirs in {folder}\")\n",
    "            for fol in contents:\n",
    "                if fol in dirs:\n",
    "                    dirs[fol] += folders[folder]\n",
    "            dirs[\"/\"] += folders[folder]\n",
    "            \n",
    "        max_under_100000 = 0\n",
    "        for directory in dirs:\n",
    "            if (dirs[directory] <= 100000):\n",
    "                print(directory, dirs[directory])\n",
    "                max_under_100000 += dirs[directory]\n",
    "    print(folders)\n",
    "    print(dirs)\n",
    "    print(f\"summed max of dirs under 100000 is {max_under_100000}\")"
   ]
  },
  {
   "cell_type": "code",
   "execution_count": 30,
   "id": "e81716e5-e4ed-4834-a1c5-7baec2d73903",
   "metadata": {},
   "outputs": [
    {
     "name": "stdout",
     "output_type": "stream",
     "text": [
      "a 94853\n",
      "e 584\n",
      "{'/': 23352670, '//a': 94269, '//a/e': 584, '//d': 24933642}\n",
      "{'a': 94853, 'd': 24933642, 'e': 584, '/': 48381165}\n",
      "summed max of dirs under 100000 is 95437\n"
     ]
    }
   ],
   "source": [
    "find_max_under_100000(filename=\"test_input_1.txt\")"
   ]
  },
  {
   "cell_type": "code",
   "execution_count": 31,
   "id": "34893f36-187a-443a-8557-71ecd9775a7a",
   "metadata": {},
   "outputs": [
    {
     "name": "stdout",
     "output_type": "stream",
     "text": [
      "duplicate dirs in //lcgv/cthtlwds/tfwgg/ddnfmsjc/lcgv\n",
      "duplicate dirs in //lcgv/cthtlwds/tfwgg/lcgv\n",
      "duplicate dirs in //lcgv/vwhf/lcgv\n",
      "duplicate dirs in //ldqc/jclb/pbb/wqdlv/hrghbhj/lcgv/wqdlv\n",
      "duplicate dirs in //ldqc/jclb/pbb/wqdlv/nmbfwc/wqdlv\n",
      "duplicate dirs in //ldqc/jclb/pbb/wqdlv/wqdlv\n",
      "duplicate dirs in //ldqc/jclb/pbb/wqdlv/wqdlv/chnpddzn\n",
      "duplicate dirs in //ldqc/jclb/pbb/wqdlv/wqdlv/chnpddzn/wqdlv\n",
      "duplicate dirs in //ldqc/jclb/pbb/wqdlv/wqdlv/ppsm\n",
      "duplicate dirs in //ldqc/jclb/pbb/wqdlv/wqdlv/ppsm/ggjnl\n",
      "duplicate dirs in //ldqc/jclb/pbb/wqdlv/wqdlv/ppsm/ssggblm\n",
      "duplicate dirs in //ldqc/jclb/pbb/wqdlv/wqdlv/swdnss\n",
      "duplicate dirs in //ldqc/jclb/pbb/wqdlv/wqdlv/swdnss/bmrzhjs\n",
      "duplicate dirs in //ldqc/jclb/pbb/zmflq/lcgv/dzz/rsdw/lcgv\n",
      "duplicate dirs in //ldqc/jclb/pbb/zmflq/lcgv/mzzpfnr/lcgv\n",
      "duplicate dirs in //ldqc/jclb/pbb/zmflq/lcgv/mzzpfnr/lcgv/pwhl\n",
      "duplicate dirs in //ldqc/jclb/pbb/zmflq/lcgv/mzzpfnr/lcgv/rfzrwc\n",
      "duplicate dirs in //ldqc/jclb/pbb/zmflq/lcgv/mzzpfnr/lcgv/rfzrwc/jjl\n",
      "duplicate dirs in //ldqc/jclb/pbb/zmflq/lcgv/mzzpfnr/lcgv/rfzrwc/jjl/jrjjr\n",
      "duplicate dirs in //ldqc/jclb/pbb/zmflq/lcgv/mzzpfnr/lcgv/rfzrwc/mqp\n",
      "duplicate dirs in //ldqc/jclb/pbb/zmflq/lcgv/mzzpfnr/lcgv/rfzrwc/wptr\n",
      "duplicate dirs in //ldqc/jclb/pbb/zmflq/lcgv/mzzpfnr/lcgv/rfzrwc/wqdlv\n",
      "duplicate dirs in //ldqc/jclb/pbb/zmflq/lcgv/rfzrwc/bnsgzwhn/wpwmflr/rfzrwc\n",
      "duplicate dirs in //ldqc/jclb/pbb/zmflq/lcgv/rfzrwc/bnsgzwhn/wpwmflr/rfzrwc/zbhgwsd\n",
      "duplicate dirs in //ldqc/jclb/pbb/zmflq/lcgv/rfzrwc/bnsgzwhn/zmflq\n",
      "duplicate dirs in //ldqc/jclb/pbb/zmflq/lcgv/rfzrwc/lcgv\n",
      "duplicate dirs in //ldqc/jclb/pbb/zmflq/lcgv/rfzrwc/lcgv/lcgv\n",
      "duplicate dirs in //ldqc/jclb/pbb/zmflq/lcgv/rfzrwc/lcgv/lcgv/bpjzg\n",
      "duplicate dirs in //ldqc/jclb/pbb/zmflq/lcgv/rfzrwc/lcgv/pqttlp\n",
      "duplicate dirs in //ldqc/jclb/pbb/zmflq/lcgv/rfzrwc/lcgv/pqttlp/bgvhcgfn\n",
      "duplicate dirs in //ldqc/jclb/pbb/zmflq/lcgv/rfzrwc/zmflq\n",
      "duplicate dirs in //ldqc/jclb/pbb/zmflq/lcgv/zmflq\n",
      "duplicate dirs in //ldqc/jclb/pbb/zmflq/wqdlv/jrqsqrv/zmflq\n",
      "duplicate dirs in //ldqc/jclb/pbb/zmflq/wqdlv/jrqsqrv/zmflq/wqgngf\n",
      "duplicate dirs in //ldqc/jclb/pbb/zmflq/wqdlv/jrqsqrv/zmflq/wqgngf/jpgfsgd\n",
      "duplicate dirs in //ldqc/jclb/pbb/zmflq/wqdlv/jrqsqrv/zmflq/wqgngf/jpgfsgd/lcgv\n",
      "duplicate dirs in //ldqc/jclb/pbb/zmflq/wqdlv/jrqsqrv/zmflq/wqgngf/jpgfsgd/lcgv/wsjs\n",
      "duplicate dirs in //ldqc/jclb/pbb/zmflq/wqdlv/jrqsqrv/zmflq/wqgngf/jpgfsgd/qbrwz\n",
      "duplicate dirs in //ldqc/jclb/pbb/zmflq/wqdlv/jrqsqrv/zmflq/wqgngf/ldwgr\n",
      "gng 44313\n",
      "fcwzw 59717\n",
      "mrlvtb 40003\n",
      "tqwpmw 92747\n",
      "hzlhz 50958\n",
      "zfjjncvd 59841\n",
      "jtn 23555\n",
      "ljt 11842\n",
      "ggjnl 45841\n",
      "tntnjg 20210\n",
      "hbzzf 36018\n",
      "rnrmhfz 19759\n",
      "rsdw 37080\n",
      "wptr 46279\n",
      "wqmdw 58554\n",
      "zbhgwsd 43750\n",
      "bpjzg 99853\n",
      "wgp 81030\n",
      "ztsvzpn 51632\n",
      "zmrdf 58554\n",
      "qqgw 58554\n",
      "lmcg 32819\n",
      "{'/': 0, '//fwbjchs': 176267, '//hmnpr': 178623, '//jtrbrcjl': 0, '//jtrbrcjl/nmbfwc': 499010, '//jtrbrcjl/whqb': 209584, '//lcgv': 0, '//lcgv/cthtlwds': 0, '//lcgv/cthtlwds/dghvw': 107090, '//lcgv/cthtlwds/tfwgg': 668342, '//lcgv/cthtlwds/tfwgg/ddnfmsjc': 0, '//lcgv/cthtlwds/tfwgg/ddnfmsjc/hwmcsdvt': 208912, '//lcgv/cthtlwds/tfwgg/ddnfmsjc/lcgv': 47252, '//lcgv/cthtlwds/tfwgg/gng': 44313, '//lcgv/cthtlwds/tfwgg/lcgv': 182616, '//lcgv/cthtlwds/tfwgg/svvz': 120895, '//lcgv/grldv': 145761, '//lcgv/grldv/wqdlv': 253966, '//lcgv/lnztfr': 468469, '//lcgv/vwhf': 116134, '//lcgv/vwhf/bgtgqzz': 524013, '//lcgv/vwhf/bgtgqzz/dzpjg': 696077, '//lcgv/vwhf/bgtgqzz/smhhzq': 137259, '//lcgv/vwhf/fcwzw': 59717, '//lcgv/vwhf/lcgv': 746860, '//lcgv/vwhf/mrlvtb': 40003, '//lcgv/vwhf/wszvqd': 0, '//lcgv/vwhf/wszvqd/bhhtbv': 248604, '//lcgv/vwhf/wszvqd/bhhtbv/fbh': 256295, '//lcgv/vwhf/wszvqd/bhhtbv/nmbfwc': 83799, '//lcgv/vwhf/wszvqd/lcpvwdq': 236526, '//lcgv/vwhf/wszvqd/lcpvwdq/lwhq': 398415, '//lcgv/znmzg': 242260, '//ldqc': 468944, '//ldqc/dnzfqzwv': 0, '//ldqc/dnzfqzwv/tqv': 700472, '//ldqc/dvshtm': 96767, '//ldqc/dvshtm/lcgv': 82949, '//ldqc/dvshtm/qdmmpq': 0, '//ldqc/dvshtm/qdmmpq/lzgwflt': 148651, '//ldqc/dvshtm/qdmmpq/vgrdpbg': 0, '//ldqc/dvshtm/qdmmpq/vgrdpbg/wqdlv': 130393, '//ldqc/gqb': 334869, '//ldqc/gqb/jtf': 337721, '//ldqc/gqb/lvwpqs': 436217, '//ldqc/gqb/vznbng': 234790, '//ldqc/jclb': 0, '//ldqc/jclb/bnz': 199447, '//ldqc/jclb/dtmtvbw': 0, '//ldqc/jclb/dtmtvbw/bjthn': 272777, '//ldqc/jclb/dtmtvbw/hzlhz': 50958, '//ldqc/jclb/dtmtvbw/zmflq': 223201, '//ldqc/jclb/hnlrtpbz': 665319, '//ldqc/jclb/pbb': 0, '//ldqc/jclb/pbb/wqdlv': 146479, '//ldqc/jclb/pbb/wqdlv/fgggwt': 264892, '//ldqc/jclb/pbb/wqdlv/hrghbhj': 723504, '//ldqc/jclb/pbb/wqdlv/hrghbhj/lcgv': 30459, '//ldqc/jclb/pbb/wqdlv/hrghbhj/lcgv/wqdlv': 78475, '//ldqc/jclb/pbb/wqdlv/hrghbhj/tsdjgt': 182740, '//ldqc/jclb/pbb/wqdlv/hrghbhj/zfjjncvd': 59841, '//ldqc/jclb/pbb/wqdlv/nmbfwc': 681992, '//ldqc/jclb/pbb/wqdlv/nmbfwc/jtn': 23555, '//ldqc/jclb/pbb/wqdlv/nmbfwc/wqdlv': 69742, '//ldqc/jclb/pbb/wqdlv/nmbfwc/zvnrwfhn': 242009, '//ldqc/jclb/pbb/wqdlv/tgmqnq': 487178, '//ldqc/jclb/pbb/wqdlv/tgmqnq/lcgv': 733438, '//ldqc/jclb/pbb/wqdlv/tgmqnq/lcgv/dzfglmz': 220883, '//ldqc/jclb/pbb/wqdlv/tgmqnq/lcgv/ljt': 11842, '//ldqc/jclb/pbb/wqdlv/tgmqnq/lcgv/rplqnt': 119893, '//ldqc/jclb/pbb/wqdlv/wqdlv': 520160, '//ldqc/jclb/pbb/wqdlv/wqdlv/chnpddzn': 256977, '//ldqc/jclb/pbb/wqdlv/wqdlv/chnpddzn/wqdlv': 6565, '//ldqc/jclb/pbb/wqdlv/wqdlv/ppsm': 705186, '//ldqc/jclb/pbb/wqdlv/wqdlv/ppsm/ggjnl': 45841, '//ldqc/jclb/pbb/wqdlv/wqdlv/ppsm/ssggblm': 295510, '//ldqc/jclb/pbb/wqdlv/wqdlv/swdnss': 0, '//ldqc/jclb/pbb/wqdlv/wqdlv/swdnss/bmrzhjs': 272987, '//ldqc/jclb/pbb/zmflq': 0, '//ldqc/jclb/pbb/zmflq/hnrnldw': 102631, '//ldqc/jclb/pbb/zmflq/lcgv': 205204, '//ldqc/jclb/pbb/zmflq/lcgv/dzz': 634406, '//ldqc/jclb/pbb/zmflq/lcgv/dzz/cvvdv': 375773, '//ldqc/jclb/pbb/zmflq/lcgv/dzz/rsdw': 0, '//ldqc/jclb/pbb/zmflq/lcgv/dzz/rsdw/lcgv': 37080, '//ldqc/jclb/pbb/zmflq/lcgv/dzz/sjrb': 233530, '//ldqc/jclb/pbb/zmflq/lcgv/hbzzf': 36018, '//ldqc/jclb/pbb/zmflq/lcgv/jncrbhc': 450028, '//ldqc/jclb/pbb/zmflq/lcgv/mzzpfnr': 234510, '//ldqc/jclb/pbb/zmflq/lcgv/mzzpfnr/hmjzlr': 268342, '//ldqc/jclb/pbb/zmflq/lcgv/mzzpfnr/lcgv': 0, '//ldqc/jclb/pbb/zmflq/lcgv/mzzpfnr/lcgv/pwhl': 125371, '//ldqc/jclb/pbb/zmflq/lcgv/mzzpfnr/lcgv/rfzrwc': 156985, '//ldqc/jclb/pbb/zmflq/lcgv/mzzpfnr/lcgv/rfzrwc/jjl': 124893, '//ldqc/jclb/pbb/zmflq/lcgv/mzzpfnr/lcgv/rfzrwc/jjl/jrjjr': 243753, '//ldqc/jclb/pbb/zmflq/lcgv/mzzpfnr/lcgv/rfzrwc/mqp': 142621, '//ldqc/jclb/pbb/zmflq/lcgv/mzzpfnr/lcgv/rfzrwc/wptr': 46279, '//ldqc/jclb/pbb/zmflq/lcgv/mzzpfnr/lcgv/rfzrwc/wqdlv': 104474, '//ldqc/jclb/pbb/zmflq/lcgv/mzzpfnr/mczs': 186843, '//ldqc/jclb/pbb/zmflq/lcgv/mzzpfnr/mczs/pjm': 0, '//ldqc/jclb/pbb/zmflq/lcgv/mzzpfnr/mczs/pjm/wqdlv': 201647, '//ldqc/jclb/pbb/zmflq/lcgv/mzzpfnr/mczs/thbwb': 146494, '//ldqc/jclb/pbb/zmflq/lcgv/mzzpfnr/wqdlv': 103876, '//ldqc/jclb/pbb/zmflq/lcgv/nmbfwc': 0, '//ldqc/jclb/pbb/zmflq/lcgv/nmbfwc/fgctdds': 205015, '//ldqc/jclb/pbb/zmflq/lcgv/nmbfwc/rwgscjbv': 242899, '//ldqc/jclb/pbb/zmflq/lcgv/rfzrwc': 848968, '//ldqc/jclb/pbb/zmflq/lcgv/rfzrwc/bnsgzwhn': 9892, '//ldqc/jclb/pbb/zmflq/lcgv/rfzrwc/bnsgzwhn/wpwmflr': 274142, '//ldqc/jclb/pbb/zmflq/lcgv/rfzrwc/bnsgzwhn/wpwmflr/rfzrwc': 161517, '//ldqc/jclb/pbb/zmflq/lcgv/rfzrwc/bnsgzwhn/wpwmflr/rfzrwc/zbhgwsd': 43750, '//ldqc/jclb/pbb/zmflq/lcgv/rfzrwc/bnsgzwhn/wpwmflr/srnm': 0, '//ldqc/jclb/pbb/zmflq/lcgv/rfzrwc/bnsgzwhn/wpwmflr/srnm/rvvtgr': 164604, '//ldqc/jclb/pbb/zmflq/lcgv/rfzrwc/bnsgzwhn/zmflq': 448065, '//ldqc/jclb/pbb/zmflq/lcgv/rfzrwc/lcgv': 0, '//ldqc/jclb/pbb/zmflq/lcgv/rfzrwc/lcgv/lcgv': 0, '//ldqc/jclb/pbb/zmflq/lcgv/rfzrwc/lcgv/lcgv/bpjzg': 99853, '//ldqc/jclb/pbb/zmflq/lcgv/rfzrwc/lcgv/pqttlp': 405302, '//ldqc/jclb/pbb/zmflq/lcgv/rfzrwc/lcgv/pqttlp/bgvhcgfn': 228291, '//ldqc/jclb/pbb/zmflq/lcgv/rfzrwc/rcvwcbfd': 0, '//ldqc/jclb/pbb/zmflq/lcgv/rfzrwc/rcvwcbfd/vtrtt': 138009, '//ldqc/jclb/pbb/zmflq/lcgv/rfzrwc/rcvwcbfd/vtrtt/ztsvzpn': 51632, '//ldqc/jclb/pbb/zmflq/lcgv/rfzrwc/rcvwcbfd/wgp': 81030, '//ldqc/jclb/pbb/zmflq/lcgv/rfzrwc/wqmdw': 0, '//ldqc/jclb/pbb/zmflq/lcgv/rfzrwc/wqmdw/zmrdf': 0, '//ldqc/jclb/pbb/zmflq/lcgv/rfzrwc/wqmdw/zmrdf/qqgw': 58554, '//ldqc/jclb/pbb/zmflq/lcgv/rfzrwc/zmflq': 479520, '//ldqc/jclb/pbb/zmflq/lcgv/rnrmhfz': 19759, '//ldqc/jclb/pbb/zmflq/lcgv/zmflq': 102538, '//ldqc/jclb/pbb/zmflq/mpmcghz': 235248, '//ldqc/jclb/pbb/zmflq/nbbv': 173445, '//ldqc/jclb/pbb/zmflq/nbbv/wqdlv': 293155, '//ldqc/jclb/pbb/zmflq/qsnfzp': 241308, '//ldqc/jclb/pbb/zmflq/tntnjg': 20210, '//ldqc/jclb/pbb/zmflq/wqdlv': 799393, '//ldqc/jclb/pbb/zmflq/wqdlv/dqpgtmdl': 268413, '//ldqc/jclb/pbb/zmflq/wqdlv/jrqsqrv': 633578, '//ldqc/jclb/pbb/zmflq/wqdlv/jrqsqrv/ppwcgc': 249714, '//ldqc/jclb/pbb/zmflq/wqdlv/jrqsqrv/ppwcgc/cvnd': 248610, '//ldqc/jclb/pbb/zmflq/wqdlv/jrqsqrv/zjr': 224145, '//ldqc/jclb/pbb/zmflq/wqdlv/jrqsqrv/zmflq': 894852, '//ldqc/jclb/pbb/zmflq/wqdlv/jrqsqrv/zmflq/wqgngf': 37020, '//ldqc/jclb/pbb/zmflq/wqdlv/jrqsqrv/zmflq/wqgngf/jpgfsgd': 0, '//ldqc/jclb/pbb/zmflq/wqdlv/jrqsqrv/zmflq/wqgngf/jpgfsgd/lcgv': 284229, '//ldqc/jclb/pbb/zmflq/wqdlv/jrqsqrv/zmflq/wqgngf/jpgfsgd/lcgv/wsjs': 111635, '//ldqc/jclb/pbb/zmflq/wqdlv/jrqsqrv/zmflq/wqgngf/jpgfsgd/qbrwz': 199057, '//ldqc/jclb/pbb/zmflq/wqdlv/jrqsqrv/zmflq/wqgngf/ldwgr': 260404, '//ldqc/jclb/pbb/zmflq/wqdlv/rfzrwc': 0, '//ldqc/jclb/pbb/zmflq/wqdlv/rfzrwc/lmcg': 32819, '//ldqc/jclb/vhjwtq': 0, '//ldqc/jclb/vhjwtq/qgqbrv': 176900, '//ldqc/jclb/vpfggv': 569821, '//ldqc/jclb/vpfggv/scw': 245681, '//ldqc/jclb/vpfggv/tpmnhdc': 0, '//ldqc/jclb/vpfggv/tpmnhdc/fjwr': 293243, '//ldqc/jclb/vpfggv/tpmnhdc/lcllz': 210654, '//ldqc/jclb/vpfggv/tpmnhdc/lcllz/flwws': 222222, '//ldqc/jclb/vpfggv/tpmnhdc/lcllz/zmflq': 284536, '//ldqc/jclb/vpfggv/tpmnhdc/nmbfwc': 682056, '//ldqc/jclb/vpfggv/tpmnhdc/nmbfwc/lcgv': 0, '//ldqc/jclb/vpfggv/tpmnhdc/nmbfwc/lcgv/wths': 120313, '//ldqc/jclb/vpfggv/tpmnhdc/nmbfwc/zmflq': 124906, '//ldqc/jclb/vpfggv/tpmnhdc/nmbfwc/zppcvq': 112537, '//ldqc/jclb/vpfggv/vvp': 425303, '//ldqc/jclb/vpfggv/vvp/fsw': 111889, '//ldqc/jclb/vpfggv/vvp/fsw/rfzrwc': 282718, '//ldqc/jclb/vpfggv/vvp/nmbfwc': 160971, '//ldqc/jclb/vpfggv/vvp/nmbfwc/fvh': 444278, '//ldqc/jclb/vpfggv/vvp/nmbfwc/rfzrwc': 257264, '//ldqc/jclb/zmflq': 305021, '//ldqc/jgbsw': 361940, '//ldqc/jgbsw/cfdljgh': 261471, '//ldqc/jgbsw/rfzrwc': 57417, '//ldqc/jgbsw/rfzrwc/fcvfw': 279614, '//ldqc/jgbsw/rfzrwc/gvqrwgrs': 0, '//ldqc/jgbsw/rfzrwc/gvqrwgrs/sgfltf': 204207, '//ldqc/qtdlb': 0, '//ldqc/qtdlb/gjpmcvwp': 0, '//ldqc/qtdlb/gjpmcvwp/cjjdzcwm': 233873, '//ldqc/qtdlb/nsjlcmfz': 53472, '//ldqc/qtdlb/nsjlcmfz/qvpj': 150929, '//ldqc/qtdlb/wqdlv': 0, '//ldqc/qtdlb/wqdlv/qccsnjd': 333710, '//ldqc/rmljszcj': 172566, '//ldqc/rmljszcj/jnstrbj': 750372, '//ldqc/rmljszcj/wqdlv': 272345, '//ldqc/tqwpmw': 92747, '//ldqc/vhdgcsw': 362227, '//ldqc/vhdgcsw/flhbhzlt': 282258, '//ldqc/vhdgcsw/rfzrwc': 0, '//ldqc/vhdgcsw/rfzrwc/lcgv': 285108, '//ldqc/vhdgcsw/rfzrwc/lcgv/dlpng': 195950, '//ldqc/vhdgcsw/rfzrwc/lcgv/glqrj': 283123, '//ldqc/vhdgcsw/rnz': 0, '//ldqc/vhdgcsw/rnz/chfccv': 175830, '//ldqc/vhdgcsw/rnz/cmsccq': 356488, '//ldqc/vhdgcsw/rnz/cmsccq/twqt': 109250, '//ldqc/vhdgcsw/rnz/zmflq': 174075, '//vrvl': 210089, '//vrvl/pnfv': 183315, '//vrvl/stcfmz': 115637}\n",
      "{'fwbjchs': 176267, 'hmnpr': 178623, 'jtrbrcjl': 708594, 'lcgv': 19504825, 'ldqc': 34474241, 'vrvl': 509041, 'nmbfwc': 3950346, 'whqb': 209584, 'cthtlwds': 1379420, 'grldv': 399727, 'lnztfr': 468469, 'vwhf': 3543702, 'znmzg': 242260, 'dghvw': 107090, 'tfwgg': 1272330, 'ddnfmsjc': 256164, 'gng': 44313, 'svvz': 120895, 'hwmcsdvt': 208912, 'wqdlv': 14375591, 'bgtgqzz': 1357349, 'fcwzw': 59717, 'mrlvtb': 40003, 'wszvqd': 1223639, 'dzpjg': 696077, 'smhhzq': 137259, 'bhhtbv': 588698, 'lcpvwdq': 634941, 'fbh': 256295, 'lwhq': 398415, 'dnzfqzwv': 700472, 'dvshtm': 458760, 'gqb': 1343597, 'jclb': 26053496, 'jgbsw': 1164649, 'qtdlb': 771984, 'rmljszcj': 1195283, 'tqwpmw': 92747, 'vhdgcsw': 2224309, 'tqv': 700472, 'qdmmpq': 279044, 'lzgwflt': 148651, 'vgrdpbg': 130393, 'jtf': 337721, 'lvwpqs': 436217, 'vznbng': 234790, 'bnz': 199447, 'dtmtvbw': 546936, 'hnlrtpbz': 665319, 'pbb': 19611481, 'vhjwtq': 176900, 'vpfggv': 4548392, 'zmflq': 17360392, 'bjthn': 272777, 'hzlhz': 50958, 'fgggwt': 264892, 'hrghbhj': 1075019, 'tgmqnq': 1573234, 'tsdjgt': 182740, 'zfjjncvd': 59841, 'jtn': 23555, 'zvnrwfhn': 242009, 'dzfglmz': 220883, 'ljt': 11842, 'rplqnt': 119893, 'chnpddzn': 263542, 'ppsm': 1046537, 'swdnss': 272987, 'ggjnl': 45841, 'ssggblm': 295510, 'bmrzhjs': 272987, 'hnrnldw': 102631, 'mpmcghz': 235248, 'nbbv': 466600, 'qsnfzp': 241308, 'tntnjg': 20210, 'dzz': 1280789, 'hbzzf': 36018, 'jncrbhc': 450028, 'mzzpfnr': 2086088, 'rfzrwc': 6395621, 'rnrmhfz': 19759, 'cvvdv': 375773, 'rsdw': 37080, 'sjrb': 233530, 'hmjzlr': 268342, 'mczs': 534984, 'pwhl': 125371, 'jjl': 368646, 'mqp': 142621, 'wptr': 46279, 'jrjjr': 243753, 'pjm': 201647, 'thbwb': 146494, 'fgctdds': 205015, 'rwgscjbv': 242899, 'bnsgzwhn': 1101970, 'rcvwcbfd': 270671, 'wqmdw': 58554, 'wpwmflr': 644013, 'srnm': 164604, 'zbhgwsd': 43750, 'rvvtgr': 164604, 'pqttlp': 633593, 'bpjzg': 99853, 'bgvhcgfn': 228291, 'vtrtt': 189641, 'wgp': 81030, 'ztsvzpn': 51632, 'zmrdf': 58554, 'qqgw': 58554, 'dqpgtmdl': 268413, 'jrqsqrv': 3143244, 'ppwcgc': 498324, 'zjr': 224145, 'cvnd': 248610, 'wqgngf': 892345, 'jpgfsgd': 594921, 'ldwgr': 260404, 'qbrwz': 199057, 'wsjs': 111635, 'lmcg': 32819, 'qgqbrv': 176900, 'scw': 245681, 'tpmnhdc': 2050467, 'vvp': 1682423, 'fjwr': 293243, 'lcllz': 717412, 'flwws': 222222, 'zppcvq': 112537, 'wths': 120313, 'fsw': 394607, 'fvh': 444278, 'cfdljgh': 261471, 'fcvfw': 279614, 'gvqrwgrs': 204207, 'sgfltf': 204207, 'gjpmcvwp': 233873, 'nsjlcmfz': 204401, 'cjjdzcwm': 233873, 'qvpj': 150929, 'qccsnjd': 333710, 'jnstrbj': 750372, 'flhbhzlt': 282258, 'rnz': 815643, 'dlpng': 195950, 'glqrj': 283123, 'chfccv': 175830, 'cmsccq': 465738, 'twqt': 109250, 'pnfv': 183315, 'stcfmz': 115637, '/': 42080344}\n",
      "summed max of dirs under 100000 is 1072909\n"
     ]
    }
   ],
   "source": [
    "find_max_under_100000(filename=\"input_1.txt\")"
   ]
  },
  {
   "cell_type": "code",
   "execution_count": null,
   "id": "8dac2fbe-e661-43b8-bb08-c450f08c9cff",
   "metadata": {},
   "outputs": [],
   "source": []
  }
 ],
 "metadata": {
  "kernelspec": {
   "display_name": "Python 3",
   "language": "python",
   "name": "python3"
  },
  "language_info": {
   "codemirror_mode": {
    "name": "ipython",
    "version": 3
   },
   "file_extension": ".py",
   "mimetype": "text/x-python",
   "name": "python",
   "nbconvert_exporter": "python",
   "pygments_lexer": "ipython3",
   "version": "3.9.6"
  }
 },
 "nbformat": 4,
 "nbformat_minor": 5
}
