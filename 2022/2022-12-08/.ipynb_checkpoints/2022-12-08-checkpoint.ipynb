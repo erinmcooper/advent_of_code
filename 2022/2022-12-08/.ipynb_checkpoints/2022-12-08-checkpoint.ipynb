{
 "cells": [
  {
   "cell_type": "code",
   "execution_count": 1,
   "id": "252df2ef-886c-4b16-8122-f29e208db148",
   "metadata": {},
   "outputs": [],
   "source": [
    "import numpy as np"
   ]
  },
  {
   "cell_type": "code",
   "execution_count": 2,
   "id": "dba49f03-85ae-421a-b647-1c899738089e",
   "metadata": {},
   "outputs": [],
   "source": [
    "def named_function(filename=\"test_input_1.txt\"):\n",
    "    \n",
    "    with open(filename, \"r\") as f:\n",
    "        trees = f.readlines()\n",
    "    trees = np.asarray([list(tree.strip('\\n')) for tree in trees])\n",
    "    trees = trees.astype(int)\n",
    "    visibility = np.ones_like(trees)\n",
    "    \n",
    "    #print(trees)\n",
    "\n",
    "    max_scenic_score = 0\n",
    "    rows, cols = trees.shape\n",
    "    for i in range(1, rows-1):\n",
    "        for j in range(1, cols-1):\n",
    "            tree = trees[i,j]\n",
    "            #print(\"i:\",i,\"j:\",j,\"height:\",tree)\n",
    "            \n",
    "            up_count = 0\n",
    "            up = trees[:i,j]\n",
    "            for k in up[::-1]:\n",
    "                if tree > k:\n",
    "                    up_count += 1\n",
    "                else:\n",
    "                    up_count += 1\n",
    "                    break\n",
    "            #print(\"up:\", up, \"tree:\", tree, \"up trees visible:\", up_count)\n",
    "            \n",
    "            down_count = 0\n",
    "            down = trees[i+1:,j]\n",
    "            for k in down:\n",
    "                if tree > k:\n",
    "                    down_count += 1\n",
    "                else:\n",
    "                    down_count += 1\n",
    "                    break\n",
    "            #print(\"down:\", down, \"tree:\", tree, \"down trees visible:\", down_count)\n",
    "            \n",
    "            left_count = 0\n",
    "            left = trees[i,:j]\n",
    "            for k in left[::-1]:\n",
    "                if tree > k:\n",
    "                    left_count += 1\n",
    "                else:\n",
    "                    left_count += 1\n",
    "                    break\n",
    "            #print(\"left:\", left, \"tree:\", tree, \"left trees visible:\", left_count)\n",
    "            \n",
    "            right_count = 0\n",
    "            right = trees[i,j+1:]\n",
    "            for k in right:\n",
    "                if tree > k:\n",
    "                    right_count += 1\n",
    "                else:\n",
    "                    right_count += 1\n",
    "                    break\n",
    "            #print(\"right:\", right, \"tree:\", tree, \"right trees visible:\", right_count)\n",
    "            \n",
    "            if (np.all(tree > up) or\n",
    "                np.all(tree > down) or\n",
    "                np.all(tree > left) or\n",
    "                np.all(tree > right)):\n",
    "                visibility[i,j] = 1\n",
    "            else:\n",
    "                visibility[i,j] = 0\n",
    "                \n",
    "            scenic_score = up_count * down_count * left_count * right_count\n",
    "            #print(\"scenic_score:\", scenic_score)\n",
    "            if scenic_score > max_scenic_score:\n",
    "                max_scenic_score = scenic_score\n",
    "            \n",
    "    \n",
    "    print(f\"{np.sum(visibility)} of the {trees.size} are visible from outside the grid.\")\n",
    "    print(f\"Maximum scenic score is {max_scenic_score}.\")\n",
    "    return trees, visibility"
   ]
  },
  {
   "cell_type": "code",
   "execution_count": 3,
   "id": "23e32e18-c8e6-49c8-b020-1543e24caa79",
   "metadata": {},
   "outputs": [
    {
     "name": "stdout",
     "output_type": "stream",
     "text": [
      "21 of the 25 are visible from outside the grid.\n",
      "Maximum scenic score is 8.\n"
     ]
    }
   ],
   "source": [
    "trees,visibility = named_function(filename=\"test_input_1.txt\")"
   ]
  },
  {
   "cell_type": "code",
   "execution_count": 4,
   "id": "fca5d2c7-c07e-47c9-8d9f-c0c40a4130ad",
   "metadata": {},
   "outputs": [
    {
     "name": "stdout",
     "output_type": "stream",
     "text": [
      "1560 of the 9801 are visible from outside the grid.\n",
      "Maximum scenic score is 252000.\n"
     ]
    }
   ],
   "source": [
    "trees,visibility = named_function(filename=\"input_1.txt\")"
   ]
  }
 ],
 "metadata": {
  "kernelspec": {
   "display_name": "Python 3",
   "language": "python",
   "name": "python3"
  },
  "language_info": {
   "codemirror_mode": {
    "name": "ipython",
    "version": 3
   },
   "file_extension": ".py",
   "mimetype": "text/x-python",
   "name": "python",
   "nbconvert_exporter": "python",
   "pygments_lexer": "ipython3",
   "version": "3.9.6"
  }
 },
 "nbformat": 4,
 "nbformat_minor": 5
}
