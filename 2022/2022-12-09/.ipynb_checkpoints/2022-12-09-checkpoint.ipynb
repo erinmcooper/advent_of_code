{
 "cells": [
  {
   "cell_type": "code",
   "execution_count": 1,
   "metadata": {},
   "outputs": [],
   "source": [
    "import math\n",
    "import numpy as np"
   ]
  },
  {
   "cell_type": "code",
   "execution_count": 2,
   "metadata": {},
   "outputs": [],
   "source": [
    "directions = {\n",
    "    \"U\": np.asarray([0,1]),\n",
    "    \"D\": np.asarray([0,-1]),\n",
    "    \"L\": np.asarray([-1,0]),\n",
    "    \"R\": np.asarray([1,0]),\n",
    "}"
   ]
  },
  {
   "cell_type": "code",
   "execution_count": 3,
   "metadata": {},
   "outputs": [],
   "source": [
    "def sum_unique_locs(filename=\"test_input_1.txt\"):\n",
    "    \n",
    "    H = np.asarray([0,0])\n",
    "    T = np.asarray([0,0])\n",
    "    tail_positions = [(0,0)]\n",
    "    with open(filename, \"r\") as f:\n",
    "        for line in f:\n",
    "            direction, count = line.split()\n",
    "            direction = directions[direction]\n",
    "            count = int(count)\n",
    "            for move in range(count):\n",
    "                H += direction\n",
    "                distance = math.dist(H,T)\n",
    "                if distance > math.sqrt(2):\n",
    "                    T += np.sign(H-T)\n",
    "                    if tuple(T) not in tail_positions:\n",
    "                        tail_positions.append(tuple(T))\n",
    "                \n",
    "        #print(tail_positions)            \n",
    "        print(f\"tails occupied {len(tail_positions)} unique positions\")"
   ]
  },
  {
   "cell_type": "code",
   "execution_count": 4,
   "metadata": {},
   "outputs": [],
   "source": [
    "def sum_unique_locs_rope(filename=\"test_input_1.txt\", rope_length=10):\n",
    "    \n",
    "    rope = [np.asarray([0,0]) for t in range(rope_length)]\n",
    "    tail_positions = [(0,0)]\n",
    "    with open(filename, \"r\") as f:\n",
    "        for line in f:\n",
    "            direction, count = line.split()\n",
    "            direction = directions[direction]\n",
    "            count = int(count)\n",
    "            for move in range(count):\n",
    "                rope[0] += direction\n",
    "                for i in range(1,rope_length):\n",
    "                    distance = math.dist(rope[i-1],rope[i])\n",
    "                    if distance > math.sqrt(2):\n",
    "                        rope[i] += np.sign(rope[i-1]-rope[i])\n",
    "                if tuple(rope[-1]) not in tail_positions:\n",
    "                    tail_positions.append(tuple(rope[-1]))\n",
    "            #print([list(i) for i in rope])\n",
    "                \n",
    "        #print(tail_positions)            \n",
    "        print(f\"tails occupied {len(tail_positions)} unique positions\")"
   ]
  },
  {
   "cell_type": "code",
   "execution_count": 5,
   "metadata": {},
   "outputs": [
    {
     "name": "stdout",
     "output_type": "stream",
     "text": [
      "tails occupied 13 unique positions\n",
      "tails occupied 1 unique positions\n",
      "tails occupied 36 unique positions\n"
     ]
    }
   ],
   "source": [
    "sum_unique_locs(filename=\"test_input_1.txt\")\n",
    "sum_unique_locs_rope(filename=\"test_input_1.txt\")\n",
    "sum_unique_locs_rope(filename=\"test_input_2.txt\")"
   ]
  },
  {
   "cell_type": "code",
   "execution_count": 6,
   "metadata": {},
   "outputs": [
    {
     "name": "stdout",
     "output_type": "stream",
     "text": [
      "tails occupied 13 unique positions\n",
      "tails occupied 1 unique positions\n",
      "tails occupied 36 unique positions\n"
     ]
    }
   ],
   "source": [
    "sum_unique_locs_rope(filename=\"test_input_1.txt\", rope_length=2)\n",
    "sum_unique_locs_rope(filename=\"test_input_1.txt\", rope_length=10)\n",
    "#sum_unique_locs_rope(filename=\"test_input_2.txt\", rope_length=2)\n",
    "sum_unique_locs_rope(filename=\"test_input_2.txt\", rope_length=10)"
   ]
  },
  {
   "cell_type": "code",
   "execution_count": 7,
   "metadata": {},
   "outputs": [
    {
     "name": "stdout",
     "output_type": "stream",
     "text": [
      "tails occupied 6057 unique positions\n",
      "tails occupied 2514 unique positions\n"
     ]
    }
   ],
   "source": [
    "sum_unique_locs_rope(filename=\"input_1.txt\", rope_length=2)\n",
    "sum_unique_locs_rope(filename=\"input_1.txt\", rope_length=10)"
   ]
  },
  {
   "cell_type": "code",
   "execution_count": null,
   "metadata": {},
   "outputs": [],
   "source": []
  }
 ],
 "metadata": {
  "kernelspec": {
   "display_name": "Python 3",
   "language": "python",
   "name": "python3"
  },
  "language_info": {
   "codemirror_mode": {
    "name": "ipython",
    "version": 3
   },
   "file_extension": ".py",
   "mimetype": "text/x-python",
   "name": "python",
   "nbconvert_exporter": "python",
   "pygments_lexer": "ipython3",
   "version": "3.8.3"
  }
 },
 "nbformat": 4,
 "nbformat_minor": 5
}
