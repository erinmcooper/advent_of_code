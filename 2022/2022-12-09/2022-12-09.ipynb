{
 "cells": [
  {
   "cell_type": "code",
   "execution_count": 1,
   "id": "a84fb449-3972-4d70-a9b3-9e714780e1c3",
   "metadata": {},
   "outputs": [],
   "source": [
    "import math\n",
    "import numpy as np"
   ]
  },
  {
   "cell_type": "code",
   "execution_count": 2,
   "id": "ce0f8223-30c8-4b72-b265-264a806743cd",
   "metadata": {},
   "outputs": [],
   "source": [
    "directions = {\n",
    "    \"U\": np.asarray([0,1]),\n",
    "    \"D\": np.asarray([0,-1]),\n",
    "    \"L\": np.asarray([-1,0]),\n",
    "    \"R\": np.asarray([1,0]),\n",
    "}"
   ]
  },
  {
   "cell_type": "code",
   "execution_count": 3,
   "id": "ff3a11b4-3e71-42ce-8cb2-32fa01cc72a7",
   "metadata": {},
   "outputs": [],
   "source": [
    "def sum_unique_locs(filename=\"test_input_1.txt\"):\n",
    "    \n",
    "    H = np.asarray([0,0])\n",
    "    T = np.asarray([0,0])\n",
    "    tail_positions = [(0,0)]\n",
    "    with open(filename, \"r\") as f:\n",
    "        for line in f:\n",
    "            direction, count = line.split()\n",
    "            direction = directions[direction]\n",
    "            count = int(count)\n",
    "            for move in range(count):\n",
    "                H += direction\n",
    "                distance = math.dist(H,T)\n",
    "                if distance > math.sqrt(2):\n",
    "                    T += np.sign(H-T)\n",
    "                    if tuple(T) not in tail_positions:\n",
    "                        tail_positions.append(tuple(T))\n",
    "                \n",
    "        #print(tail_positions)            \n",
    "        print(f\"tails occupied {len(tail_positions)} unique positions\")"
   ]
  },
  {
   "cell_type": "code",
   "execution_count": 8,
   "id": "f314cd98-913c-483c-be7c-4c3f24988687",
   "metadata": {},
   "outputs": [],
   "source": [
    "def sum_unique_locs_rope(filename=\"test_input_1.txt\"):\n",
    "    \n",
    "    rope = [np.asarray([0,0]) for t in range(10)]\n",
    "    tail_positions = [(0,0)]\n",
    "    with open(filename, \"r\") as f:\n",
    "        for line in f:\n",
    "            direction, count = line.split()\n",
    "            direction = directions[direction]\n",
    "            count = int(count)\n",
    "            for move in range(count):\n",
    "                rope[0] += direction\n",
    "                for i in range(1,10):\n",
    "                    distance = math.dist(rope[i-1],rope[i])\n",
    "                    if distance > math.sqrt(2):\n",
    "                        rope[i] += np.sign(rope[i-1]-rope[i])\n",
    "                if tuple(rope[-1]) not in tail_positions:\n",
    "                    tail_positions.append(tuple(rope[-1]))\n",
    "                \n",
    "        #print(tail_positions)            \n",
    "        print(f\"tails occupied {len(tail_positions)} unique positions\")"
   ]
  },
  {
   "cell_type": "code",
   "execution_count": 9,
   "id": "830dc85d-2f20-4bdc-9029-784f4eb53b04",
   "metadata": {},
   "outputs": [
    {
     "name": "stdout",
     "output_type": "stream",
     "text": [
      "tails occupied 13 unique positions\n",
      "tails occupied 1 unique positions\n",
      "tails occupied 36 unique positions\n"
     ]
    }
   ],
   "source": [
    "sum_unique_locs(filename=\"test_input_1.txt\")\n",
    "sum_unique_locs_rope(filename=\"test_input_1.txt\")\n",
    "sum_unique_locs_rope(filename=\"test_input_2.txt\")"
   ]
  },
  {
   "cell_type": "code",
   "execution_count": 10,
   "id": "56e1ba70-2908-4852-abba-68de983a6026",
   "metadata": {},
   "outputs": [
    {
     "name": "stdout",
     "output_type": "stream",
     "text": [
      "tails occupied 6057 unique positions\n",
      "tails occupied 2514 unique positions\n"
     ]
    }
   ],
   "source": [
    "sum_unique_locs(filename=\"input_1.txt\")\n",
    "sum_unique_locs_rope(filename=\"input_1.txt\")"
   ]
  },
  {
   "cell_type": "code",
   "execution_count": null,
   "id": "08711402-609c-4594-835f-d1593395ffca",
   "metadata": {},
   "outputs": [],
   "source": []
  }
 ],
 "metadata": {
  "kernelspec": {
   "display_name": "Python 3",
   "language": "python",
   "name": "python3"
  },
  "language_info": {
   "codemirror_mode": {
    "name": "ipython",
    "version": 3
   },
   "file_extension": ".py",
   "mimetype": "text/x-python",
   "name": "python",
   "nbconvert_exporter": "python",
   "pygments_lexer": "ipython3",
   "version": "3.9.6"
  }
 },
 "nbformat": 4,
 "nbformat_minor": 5
}
