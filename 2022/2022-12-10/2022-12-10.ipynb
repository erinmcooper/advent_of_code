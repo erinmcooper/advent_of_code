{
 "cells": [
  {
   "cell_type": "code",
   "execution_count": 135,
   "metadata": {},
   "outputs": [],
   "source": [
    "import numpy as np"
   ]
  },
  {
   "cell_type": "code",
   "execution_count": 180,
   "metadata": {},
   "outputs": [],
   "source": [
    "def sum_signal_strengths(filename=\"test_input_1.txt\"):\n",
    "    \n",
    "    cycle = 1\n",
    "    x_register = 1 \n",
    "    y_register = 0\n",
    "    summed_signal_strength = 0\n",
    "    crt = np.asarray([[\".\" for i in range(40)] for j in range(6)])\n",
    "    #for j in range(len(crt)):\n",
    "    #    print(\"\".join(crt[j][:]))\n",
    "    with open(filename, \"r\") as f:\n",
    "        for line in f:\n",
    "            if \"noop\" in line:\n",
    "                crt = check_pixel_alignment(crt,cycle,x_register,y_register)\n",
    "                cycle += 1\n",
    "                summed_signal_strength = check_signal_strength(summed_signal_strength,cycle,x_register)\n",
    "                y_register = check_horizontal(crt,cycle,y_register)\n",
    "                \n",
    "            if \"addx\" in line:\n",
    "                crt = check_pixel_alignment(crt,cycle,x_register,y_register)\n",
    "                cycle += 1\n",
    "                summed_signal_strength = check_signal_strength(summed_signal_strength,cycle,x_register)\n",
    "                y_register = check_horizontal(crt,cycle,y_register)\n",
    "                \n",
    "                crt = check_pixel_alignment(crt,cycle,x_register,y_register)\n",
    "                cycle += 1\n",
    "                x_register += int(line.split()[-1])\n",
    "                summed_signal_strength = check_signal_strength(summed_signal_strength,cycle,x_register)\n",
    "                y_register = check_horizontal(crt,cycle,y_register)\n",
    "                \n",
    "    print(f\"summed signal_strength: {summed_signal_strength}\")\n",
    "    \n",
    "def check_pixel_alignment(crt,cycle,x_register,y_register):\n",
    "\n",
    "    if cycle%40-1 in [x_register%40+i for i in [-1,0,1]]:\n",
    "        #print(f\"lit pixel: {y_register} {(cycle-1)%40} {x_register%40} {cycle}\")\n",
    "        crt[y_register][(cycle-1)%40] = \"#\"\n",
    "            \n",
    "    return crt\n",
    "        \n",
    "def check_signal_strength(summed_signal_strength,cycle,x_register):\n",
    "                \n",
    "    if cycle%40 == 20:\n",
    "        signal_strength = cycle * x_register\n",
    "        summed_signal_strength += signal_strength\n",
    "    \n",
    "    return summed_signal_strength\n",
    "\n",
    "def check_horizontal(crt,cycle,y_register):\n",
    "                \n",
    "    if cycle%40 == 0:\n",
    "        print(repr(cycle-40).rjust(3), \"\".join(crt[y_register][:]), repr(cycle).rjust(3), y_register)\n",
    "        y_register += 1\n",
    "        \n",
    "    return y_register"
   ]
  },
  {
   "cell_type": "code",
   "execution_count": 181,
   "metadata": {},
   "outputs": [
    {
     "name": "stdout",
     "output_type": "stream",
     "text": [
      "summed signal_strength: 0\n"
     ]
    }
   ],
   "source": [
    "sum_signal_strengths(filename=\"test_input_1.txt\")"
   ]
  },
  {
   "cell_type": "code",
   "execution_count": 182,
   "metadata": {},
   "outputs": [
    {
     "name": "stdout",
     "output_type": "stream",
     "text": [
      "  0 ##..##..##..##..##..##..##..##..##..##..  40 0\n",
      " 40 ###...###...###...###...###...###...###.  80 1\n",
      " 80 ####....####....####....####....####.... 120 2\n",
      "120 #####.....#####.....#####.....#####..... 160 3\n",
      "160 ######......######......######......###. 200 4\n",
      "200 #######.......#######.......#######..... 240 5\n",
      "summed signal_strength: 13140\n"
     ]
    }
   ],
   "source": [
    "sum_signal_strengths(filename=\"test_input_2.txt\")"
   ]
  },
  {
   "cell_type": "code",
   "execution_count": 183,
   "metadata": {},
   "outputs": [
    {
     "name": "stdout",
     "output_type": "stream",
     "text": [
      "  0 ####..##..###...##....##.####...##.####.  40 0\n",
      " 40 ...#.#..#.#..#.#..#....#.#.......#....#.  80 1\n",
      " 80 ..#..#....###..#..#....#.###.....#...#.. 120 2\n",
      "120 .#...#....#..#.####....#.#.......#..#... 160 3\n",
      "160 .....#..#.#..#.#..#.#..#.#....#..#.#.... 200 4\n",
      "200 ####..##..###..#..#..##..#.....##..####. 240 5\n",
      "summed signal_strength: 17940\n"
     ]
    }
   ],
   "source": [
    "sum_signal_strengths(filename=\"input_1.txt\")"
   ]
  },
  {
   "cell_type": "code",
   "execution_count": null,
   "metadata": {},
   "outputs": [],
   "source": [
    "ZCBAJFJZ"
   ]
  },
  {
   "cell_type": "code",
   "execution_count": null,
   "metadata": {},
   "outputs": [],
   "source": []
  },
  {
   "cell_type": "code",
   "execution_count": null,
   "metadata": {},
   "outputs": [],
   "source": []
  }
 ],
 "metadata": {
  "kernelspec": {
   "display_name": "Python 3",
   "language": "python",
   "name": "python3"
  },
  "language_info": {
   "codemirror_mode": {
    "name": "ipython",
    "version": 3
   },
   "file_extension": ".py",
   "mimetype": "text/x-python",
   "name": "python",
   "nbconvert_exporter": "python",
   "pygments_lexer": "ipython3",
   "version": "3.8.3"
  }
 },
 "nbformat": 4,
 "nbformat_minor": 4
}
