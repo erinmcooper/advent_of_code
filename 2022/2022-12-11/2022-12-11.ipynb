{
 "cells": [
  {
   "cell_type": "code",
   "execution_count": 1,
   "metadata": {},
   "outputs": [],
   "source": [
    "import datetime\n",
    "import numpy as np"
   ]
  },
  {
   "cell_type": "code",
   "execution_count": 2,
   "metadata": {},
   "outputs": [],
   "source": [
    "def monkey_business_part1(filename=\"test_input_1\"):\n",
    "    \n",
    "    info = {}\n",
    "    monkey = 0\n",
    "    with open(filename, \"r\") as f:\n",
    "        for line in f:\n",
    "            if \"Monkey\" in line:\n",
    "                monkey = int(line.split()[-1].split(\":\")[0])\n",
    "                info[monkey] = {\"items_inspected\": 0}\n",
    "            if \"Starting items:\" in line:\n",
    "                info[monkey][\"items\"] = [int(item) for item in line.split(\":\")[1].split(\",\") ]\n",
    "            if \"Operation:\" in line:\n",
    "                info[monkey][\"expression\"] = line.split(\":\")[1].split(\"\\n\")[0].split(\"=\")[1]\n",
    "            if \"Test: divisible by\" in line:\n",
    "                info[monkey][\"test\"] = int(line.split()[-1])\n",
    "            if \"If true:\" in line:\n",
    "                info[monkey][\"if_true\"] = int(line.split()[-1])\n",
    "            if \"If false:\" in line:\n",
    "                info[monkey][\"if_false\"] = int(line.split()[-1])\n",
    "\n",
    "    for r in range(20):\n",
    "        for monkey in range(len(info)):\n",
    "            while len(info[monkey][\"items\"]) > 0:\n",
    "                old = info[monkey][\"items\"].pop(0)\n",
    "                info = inspect(old, monkey, info)\n",
    "                \n",
    "    monkey_activity = [info[monkey][\"items_inspected\"] for monkey in info]\n",
    "    monkey_activity.sort()\n",
    "    print(f\"level of monkey business = {monkey_activity[-2] * monkey_activity[-1]}\")\n",
    "    \n",
    "\n",
    "def inspect(old, monkey, info):\n",
    "    \n",
    "    new = increase_worry_level(old, monkey, info)\n",
    "    item = decrease_worry_level(new)\n",
    "    test = test_worry_level(item, monkey, info)\n",
    "    info = throw_to_next(test, item, monkey, info)\n",
    "    info[monkey][\"items_inspected\"] += 1\n",
    "    \n",
    "    return info\n",
    "\n",
    "def increase_worry_level(old, monkey, info):\n",
    "    return eval(info[monkey][\"expression\"])\n",
    "\n",
    "def decrease_worry_level(new):\n",
    "    return new//3\n",
    "\n",
    "def test_worry_level(new, monkey, info):\n",
    "    return new % info[monkey][\"test\"] == 0\n",
    "\n",
    "def throw_to_next(test, item, monkey, info):\n",
    "    if test:\n",
    "        next_monkey = info[monkey][\"if_true\"]\n",
    "    else:\n",
    "        next_monkey = info[monkey][\"if_false\"]\n",
    "        \n",
    "    info[next_monkey][\"items\"].append(item)\n",
    "    \n",
    "    return info\n",
    "    "
   ]
  },
  {
   "cell_type": "code",
   "execution_count": 3,
   "metadata": {},
   "outputs": [
    {
     "name": "stdout",
     "output_type": "stream",
     "text": [
      "level of monkey business = 10605\n"
     ]
    }
   ],
   "source": [
    "monkey_business_part1(filename=\"test_input_1.txt\")"
   ]
  },
  {
   "cell_type": "code",
   "execution_count": 4,
   "metadata": {},
   "outputs": [
    {
     "name": "stdout",
     "output_type": "stream",
     "text": [
      "level of monkey business = 113220\n"
     ]
    }
   ],
   "source": [
    "monkey_business_part1(filename=\"input_1.txt\")"
   ]
  },
  {
   "cell_type": "code",
   "execution_count": null,
   "metadata": {},
   "outputs": [],
   "source": []
  },
  {
   "cell_type": "code",
   "execution_count": 5,
   "metadata": {},
   "outputs": [],
   "source": [
    "def monkey_business_part2(filename=\"test_input_1\"):\n",
    "    \n",
    "    info = {}\n",
    "    monkey = 0\n",
    "    with open(filename, \"r\") as f:\n",
    "        for line in f:\n",
    "            if \"Monkey\" in line:\n",
    "                monkey = int(line.split()[-1].split(\":\")[0])\n",
    "                info[monkey] = {\"items_inspected\": np.int64(0)}\n",
    "            if \"Starting items:\" in line:\n",
    "                info[monkey][\"items\"] = [np.int64(item) for item in line.split(\":\")[1].split(\",\") ]\n",
    "            if \"Operation:\" in line:\n",
    "                info[monkey][\"expression\"] = line.split(\":\")[1].split(\"\\n\")[0].split(\"=\")[1]\n",
    "            if \"Test: divisible by\" in line:\n",
    "                info[monkey][\"test\"] = int(line.split()[-1])\n",
    "            if \"If true:\" in line:\n",
    "                info[monkey][\"if_true\"] = int(line.split()[-1])\n",
    "            if \"If false:\" in line:\n",
    "                info[monkey][\"if_false\"] = int(line.split()[-1])\n",
    "\n",
    "    modmonkey = 1\n",
    "    for monkey in info:\n",
    "        modmonkey *= info[monkey][\"test\"]\n",
    "    start = datetime.datetime.now()\n",
    "    for r in range(1,10001):\n",
    "        for monkey in range(len(info)):\n",
    "            while len(info[monkey][\"items\"]) > 0:\n",
    "                old = info[monkey][\"items\"].pop(0)\n",
    "                info = inspect_part2(old, modmonkey, monkey, info)\n",
    "        #if r in [1,20]:\n",
    "        #    print(repr(r).rjust(5), {monkey: info[monkey][\"items_inspected\"] for monkey in info})\n",
    "        #if r%1000 == 0:\n",
    "        #    print(repr(r).rjust(5), {monkey: info[monkey][\"items_inspected\"] for monkey in info})\n",
    "                \n",
    "    monkey_activity = [info[monkey][\"items_inspected\"] for monkey in info]\n",
    "    monkey_activity.sort()\n",
    "    #print(f\"most active monkeys inspected {monkey_activity[-1]} and {monkey_activity[-2]} items, respectively\")\n",
    "    print(f\"level of monkey business = {monkey_activity[-2] * monkey_activity[-1]}\")\n",
    "    \n",
    "\n",
    "def inspect_part2(old, modmonkey, monkey, info):\n",
    "    \n",
    "    item = increase_worry_level_part2(old, modmonkey, monkey, info)\n",
    "    test = test_worry_level(item, monkey, info)\n",
    "    info = throw_to_next(test, item, monkey, info)\n",
    "    info[monkey][\"items_inspected\"] += np.int64(1)\n",
    "    \n",
    "    return info\n",
    "\n",
    "def increase_worry_level_part2(old, modmonkey, monkey, info):\n",
    "    \n",
    "    expression = info[monkey][\"expression\"]\n",
    "    nums = {}\n",
    "    for i in [0,-1]:\n",
    "        if expression.split()[i] == \"old\":\n",
    "            nums[i] = np.int64(old)\n",
    "        else:\n",
    "            nums[i] = np.int64(expression.split()[i])\n",
    "    if \"*\" in expression:\n",
    "        return (nums[0] * nums[-1])%modmonkey\n",
    "    if \"+\" in expression:\n",
    "        return (nums[0] + nums[-1])%modmonkey\n",
    "    #return eval(info[monkey][\"expression\"])%info[monkey][\"test\"]"
   ]
  },
  {
   "cell_type": "code",
   "execution_count": 6,
   "metadata": {},
   "outputs": [
    {
     "name": "stdout",
     "output_type": "stream",
     "text": [
      "level of monkey business = 2713310158\n"
     ]
    }
   ],
   "source": [
    "monkey_business_part2(filename=\"test_input_1.txt\")"
   ]
  },
  {
   "cell_type": "raw",
   "metadata": {},
   "source": [
    "monkey_business_part2(filename=\"input_1.txt\")"
   ]
  }
 ],
 "metadata": {
  "kernelspec": {
   "display_name": "Python 3",
   "language": "python",
   "name": "python3"
  },
  "language_info": {
   "codemirror_mode": {
    "name": "ipython",
    "version": 3
   },
   "file_extension": ".py",
   "mimetype": "text/x-python",
   "name": "python",
   "nbconvert_exporter": "python",
   "pygments_lexer": "ipython3",
   "version": "3.8.3"
  }
 },
 "nbformat": 4,
 "nbformat_minor": 4
}
